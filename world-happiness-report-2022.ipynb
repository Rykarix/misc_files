{
 "cells": [
  {
   "attachments": {},
   "cell_type": "markdown",
   "metadata": {},
   "source": [
    "# The dataset, its description + imports\n",
    "\n",
    "Column descriptions from [whr+22.pdf](https://happiness-report.s3.amazonaws.com/2022/WHR+22.pdf):\n",
    "\n",
    "**RANK**<br>\n",
    "Ranking based on happiness score\n",
    "\n",
    "**Country** <br>\n",
    "researched country.\n",
    "\n",
    "**Happiness score** <br>\n",
    "Sum of the six key variables relative to a hypothetical country called \"Distopia\".\n",
    "\n",
    "**Whisker-high and Whisker-low** <br>\n",
    "The quartile (real number between 0 and 10) from which the happiness score is calculated.\n",
    "\n",
    "**Dystopia (1.83) + residual**<br>\n",
    "The predicted Cantril ladder for a hypothetical country with the world’s lowest values for each of the six variables.\n",
    "\n",
    "> “Dystopia”—named because it has values equal to the world’s lowest national averages for 2019-2021 for each of the six key variables used in Table 2.1. We use Dystopia as a benchmark against which to compare contributions from each of the six factors. The choice of Dystopia as a benchmark permits every real country to have a positive (or at least zero) contribution from each of the six factors. Based on the estimates in the first column of Table 2.1, we calculate that Dystopia had a 2019-2021 life evaluation equal to 1.83 on the 0 to 10 scale. The final sub-bar is the sum of two components: the calculated average 2017-2019 life evaluation in Dystopia (=1.83) plus each country’s own prediction error, which measures the extent to which life evaluations are higher or lower than those predicted by our equation in the first column of Table 2.1. These residuals are as likely to be negative as positive\n",
    "\n",
    "**Explained by: GDP per capita**<br>\n",
    "Purchasing Power Parity (PPP) adjusted to constant 2017 international dollars, taken from the World Development Indicators (WDI) released by the World Bank on December 16, 1. See Statistical Appendix 1 for more details. GDP data for 2021 are not yet available, so we extend the GDP time series from 2020 to 2021 using country-specific forecasts of real GDP growth from the OECD Economic Outlook No. 110 (Edition December 1) or, if missing, the World Bank’s Global Economic Prospects (Last Updated: 01/11/2022), after adjustment for population growth. The equation uses the natural log of GDP per capita, as this form fits the data significantly better than GDP per capita.\n",
    "\n",
    "**Explained by: Social support**<br>\n",
    "The national average of the binary responses (0=no, 1=yes) to the Gallup World Poll (GWP) question “If you were in trouble, do you have relatives or friends you can count on to help you whenever you need them, or not?”\n",
    "\n",
    "**Explained by: Healthy life expectancy**<br>\n",
    "The time series for healthy life expectancy at birth is constructed based on data from the World Health Organization (WHO) Global Health Observatory data repository, with data available for 2000, 2010, 2015, and 2019. Interpolation and extrapolation are used to match this report’s sample period (2005-2021)\n",
    "\n",
    "**Explained by: Freedom to make life choices**<br>\n",
    "The national average of binary responses (0=no, 1=yes) to the GWP question “Are you satisfied or dissatisfied with your freedom to choose what you do with your life?”\n",
    "\n",
    "**Explained by: Generosity**<br>\n",
    "The residual of regressing the national average of GWP responses to the donation question “Have you donated money to a charity in the past month?” on log GDP per capita.\n",
    "\n",
    "**Explained by: Perceptions of corruption**<br>\n",
    "The average of binary answers to two GWP questions: “Is corruption widespread throughout the government in this country or not?” and “Is corruption widespread within businesses in this country or not?” Where data for government corruption are missing, the perception of business corruption is used as the overall corruption-perception measure.\n",
    "\n",
    "---\n",
    "\n",
    "**Additional information**<br>\n",
    "Countries marked with an astarisk do not have survey information in 2020 or 2021. Instead their averages are based on the 2019 survey\n",
    "\n",
    "**Positive affect** is defined as the average of previous-day affect measures for laughter, enjoyment, and doing or learning something interesting. This marks a change from recent years, where only laughter and enjoyment were included. The inclusion of interest gives us three components in each of positive and negative affect and slightly improves the equation fit in column 4. The general form for the affect questions is: Did you experience the following feelings during a lot of the day yesterday? Only the interest question is phrased differently: Did you learn or do something interesting yesterday? See Statistical Appendix 1 for more details.\n",
    "\n",
    "**Negative affect** is defined as the average of previous-day affect measures for worry, sadness, and anger.\n",
    "\n",
    "For more detailed information on each of the predictors, see page 20 & 21 of the pdf"
   ]
  },
  {
   "attachments": {},
   "cell_type": "markdown",
   "metadata": {},
   "source": [
    "## Imports"
   ]
  },
  {
   "cell_type": "code",
   "execution_count": 1,
   "metadata": {},
   "outputs": [
    {
     "name": "stderr",
     "output_type": "stream",
     "text": [
      "BokehDeprecationWarning: 'tile_providers module' was deprecated in Bokeh 3.0.0 and will be removed, use 'add_tile directly' instead.\n"
     ]
    },
    {
     "data": {
      "text/html": [
       "<style>\n",
       "        .bk-notebook-logo {\n",
       "            display: block;\n",
       "            width: 20px;\n",
       "            height: 20px;\n",
       "            background-image: url(data:image/png;base64,iVBORw0KGgoAAAANSUhEUgAAABQAAAAUCAYAAACNiR0NAAAABHNCSVQICAgIfAhkiAAAAAlwSFlzAAALEgAACxIB0t1+/AAAABx0RVh0U29mdHdhcmUAQWRvYmUgRmlyZXdvcmtzIENTNui8sowAAAOkSURBVDiNjZRtaJVlGMd/1/08zzln5zjP1LWcU9N0NkN8m2CYjpgQYQXqSs0I84OLIC0hkEKoPtiH3gmKoiJDU7QpLgoLjLIQCpEsNJ1vqUOdO7ppbuec5+V+rj4ctwzd8IIbbi6u+8f1539dt3A78eXC7QizUF7gyV1fD1Yqg4JWz84yffhm0qkFqBogB9rM8tZdtwVsPUhWhGcFJngGeWrPzHm5oaMmkfEg1usvLFyc8jLRqDOMru7AyC8saQr7GG7f5fvDeH7Ej8CM66nIF+8yngt6HWaKh7k49Soy9nXurCi1o3qUbS3zWfrYeQDTB/Qj6kX6Ybhw4B+bOYoLKCC9H3Nu/leUTZ1JdRWkkn2ldcCamzrcf47KKXdAJllSlxAOkRgyHsGC/zRday5Qld9DyoM4/q/rUoy/CXh3jzOu3bHUVZeU+DEn8FInkPBFlu3+nW3Nw0mk6vCDiWg8CeJaxEwuHS3+z5RgY+YBR6V1Z1nxSOfoaPa4LASWxxdNp+VWTk7+4vzaou8v8PN+xo+KY2xsw6une2frhw05CTYOmQvsEhjhWjn0bmXPjpE1+kplmmkP3suftwTubK9Vq22qKmrBhpY4jvd5afdRA3wGjFAgcnTK2s4hY0/GPNIb0nErGMCRxWOOX64Z8RAC4oCXdklmEvcL8o0BfkNK4lUg9HTl+oPlQxdNo3Mg4Nv175e/1LDGzZen30MEjRUtmXSfiTVu1kK8W4txyV6BMKlbgk3lMwYCiusNy9fVfvvwMxv8Ynl6vxoByANLTWplvuj/nF9m2+PDtt1eiHPBr1oIfhCChQMBw6Aw0UulqTKZdfVvfG7VcfIqLG9bcldL/+pdWTLxLUy8Qq38heUIjh4XlzZxzQm19lLFlr8vdQ97rjZVOLf8nclzckbcD4wxXMidpX30sFd37Fv/GtwwhzhxGVAprjbg0gCAEeIgwCZyTV2Z1REEW8O4py0wsjeloKoMr6iCY6dP92H6Vw/oTyICIthibxjm/DfN9lVz8IqtqKYLUXfoKVMVQVVJOElGjrnnUt9T9wbgp8AyYKaGlqingHZU/uG2NTZSVqwHQTWkx9hxjkpWDaCg6Ckj5qebgBVbT3V3NNXMSiWSDdGV3hrtzla7J+duwPOToIg42ChPQOQjspnSlp1V+Gjdged7+8UN5CRAV7a5EdFNwCjEaBR27b3W890TE7g24NAP/mMDXRWrGoFPQI9ls/MWO2dWFAar/xcOIImbbpA3zgAAAABJRU5ErkJggg==);\n",
       "        }\n",
       "    </style>\n",
       "    <div>\n",
       "        <a href=\"https://bokeh.org\" target=\"_blank\" class=\"bk-notebook-logo\"></a>\n",
       "        <span id=\"e753b26f-b9b0-4ce9-8451-48afdb26d653\">Loading BokehJS ...</span>\n",
       "    </div>\n"
      ]
     },
     "metadata": {},
     "output_type": "display_data"
    },
    {
     "data": {
      "application/javascript": "(function(root) {\n  function now() {\n    return new Date();\n  }\n\n  const force = true;\n\n  if (typeof root._bokeh_onload_callbacks === \"undefined\" || force === true) {\n    root._bokeh_onload_callbacks = [];\n    root._bokeh_is_loading = undefined;\n  }\n\nconst JS_MIME_TYPE = 'application/javascript';\n  const HTML_MIME_TYPE = 'text/html';\n  const EXEC_MIME_TYPE = 'application/vnd.bokehjs_exec.v0+json';\n  const CLASS_NAME = 'output_bokeh rendered_html';\n\n  /**\n   * Render data to the DOM node\n   */\n  function render(props, node) {\n    const script = document.createElement(\"script\");\n    node.appendChild(script);\n  }\n\n  /**\n   * Handle when an output is cleared or removed\n   */\n  function handleClearOutput(event, handle) {\n    const cell = handle.cell;\n\n    const id = cell.output_area._bokeh_element_id;\n    const server_id = cell.output_area._bokeh_server_id;\n    // Clean up Bokeh references\n    if (id != null && id in Bokeh.index) {\n      Bokeh.index[id].model.document.clear();\n      delete Bokeh.index[id];\n    }\n\n    if (server_id !== undefined) {\n      // Clean up Bokeh references\n      const cmd_clean = \"from bokeh.io.state import curstate; print(curstate().uuid_to_server['\" + server_id + \"'].get_sessions()[0].document.roots[0]._id)\";\n      cell.notebook.kernel.execute(cmd_clean, {\n        iopub: {\n          output: function(msg) {\n            const id = msg.content.text.trim();\n            if (id in Bokeh.index) {\n              Bokeh.index[id].model.document.clear();\n              delete Bokeh.index[id];\n            }\n          }\n        }\n      });\n      // Destroy server and session\n      const cmd_destroy = \"import bokeh.io.notebook as ion; ion.destroy_server('\" + server_id + \"')\";\n      cell.notebook.kernel.execute(cmd_destroy);\n    }\n  }\n\n  /**\n   * Handle when a new output is added\n   */\n  function handleAddOutput(event, handle) {\n    const output_area = handle.output_area;\n    const output = handle.output;\n\n    // limit handleAddOutput to display_data with EXEC_MIME_TYPE content only\n    if ((output.output_type != \"display_data\") || (!Object.prototype.hasOwnProperty.call(output.data, EXEC_MIME_TYPE))) {\n      return\n    }\n\n    const toinsert = output_area.element.find(\".\" + CLASS_NAME.split(' ')[0]);\n\n    if (output.metadata[EXEC_MIME_TYPE][\"id\"] !== undefined) {\n      toinsert[toinsert.length - 1].firstChild.textContent = output.data[JS_MIME_TYPE];\n      // store reference to embed id on output_area\n      output_area._bokeh_element_id = output.metadata[EXEC_MIME_TYPE][\"id\"];\n    }\n    if (output.metadata[EXEC_MIME_TYPE][\"server_id\"] !== undefined) {\n      const bk_div = document.createElement(\"div\");\n      bk_div.innerHTML = output.data[HTML_MIME_TYPE];\n      const script_attrs = bk_div.children[0].attributes;\n      for (let i = 0; i < script_attrs.length; i++) {\n        toinsert[toinsert.length - 1].firstChild.setAttribute(script_attrs[i].name, script_attrs[i].value);\n        toinsert[toinsert.length - 1].firstChild.textContent = bk_div.children[0].textContent\n      }\n      // store reference to server id on output_area\n      output_area._bokeh_server_id = output.metadata[EXEC_MIME_TYPE][\"server_id\"];\n    }\n  }\n\n  function register_renderer(events, OutputArea) {\n\n    function append_mime(data, metadata, element) {\n      // create a DOM node to render to\n      const toinsert = this.create_output_subarea(\n        metadata,\n        CLASS_NAME,\n        EXEC_MIME_TYPE\n      );\n      this.keyboard_manager.register_events(toinsert);\n      // Render to node\n      const props = {data: data, metadata: metadata[EXEC_MIME_TYPE]};\n      render(props, toinsert[toinsert.length - 1]);\n      element.append(toinsert);\n      return toinsert\n    }\n\n    /* Handle when an output is cleared or removed */\n    events.on('clear_output.CodeCell', handleClearOutput);\n    events.on('delete.Cell', handleClearOutput);\n\n    /* Handle when a new output is added */\n    events.on('output_added.OutputArea', handleAddOutput);\n\n    /**\n     * Register the mime type and append_mime function with output_area\n     */\n    OutputArea.prototype.register_mime_type(EXEC_MIME_TYPE, append_mime, {\n      /* Is output safe? */\n      safe: true,\n      /* Index of renderer in `output_area.display_order` */\n      index: 0\n    });\n  }\n\n  // register the mime type if in Jupyter Notebook environment and previously unregistered\n  if (root.Jupyter !== undefined) {\n    const events = require('base/js/events');\n    const OutputArea = require('notebook/js/outputarea').OutputArea;\n\n    if (OutputArea.prototype.mime_types().indexOf(EXEC_MIME_TYPE) == -1) {\n      register_renderer(events, OutputArea);\n    }\n  }\n  if (typeof (root._bokeh_timeout) === \"undefined\" || force === true) {\n    root._bokeh_timeout = Date.now() + 5000;\n    root._bokeh_failed_load = false;\n  }\n\n  const NB_LOAD_WARNING = {'data': {'text/html':\n     \"<div style='background-color: #fdd'>\\n\"+\n     \"<p>\\n\"+\n     \"BokehJS does not appear to have successfully loaded. If loading BokehJS from CDN, this \\n\"+\n     \"may be due to a slow or bad network connection. Possible fixes:\\n\"+\n     \"</p>\\n\"+\n     \"<ul>\\n\"+\n     \"<li>re-rerun `output_notebook()` to attempt to load from CDN again, or</li>\\n\"+\n     \"<li>use INLINE resources instead, as so:</li>\\n\"+\n     \"</ul>\\n\"+\n     \"<code>\\n\"+\n     \"from bokeh.resources import INLINE\\n\"+\n     \"output_notebook(resources=INLINE)\\n\"+\n     \"</code>\\n\"+\n     \"</div>\"}};\n\n  function display_loaded() {\n    const el = document.getElementById(\"e753b26f-b9b0-4ce9-8451-48afdb26d653\");\n    if (el != null) {\n      el.textContent = \"BokehJS is loading...\";\n    }\n    if (root.Bokeh !== undefined) {\n      if (el != null) {\n        el.textContent = \"BokehJS \" + root.Bokeh.version + \" successfully loaded.\";\n      }\n    } else if (Date.now() < root._bokeh_timeout) {\n      setTimeout(display_loaded, 100)\n    }\n  }\n\n  function run_callbacks() {\n    try {\n      root._bokeh_onload_callbacks.forEach(function(callback) {\n        if (callback != null)\n          callback();\n      });\n    } finally {\n      delete root._bokeh_onload_callbacks\n    }\n    console.debug(\"Bokeh: all callbacks have finished\");\n  }\n\n  function load_libs(css_urls, js_urls, callback) {\n    if (css_urls == null) css_urls = [];\n    if (js_urls == null) js_urls = [];\n\n    root._bokeh_onload_callbacks.push(callback);\n    if (root._bokeh_is_loading > 0) {\n      console.debug(\"Bokeh: BokehJS is being loaded, scheduling callback at\", now());\n      return null;\n    }\n    if (js_urls == null || js_urls.length === 0) {\n      run_callbacks();\n      return null;\n    }\n    console.debug(\"Bokeh: BokehJS not loaded, scheduling load and callback at\", now());\n    root._bokeh_is_loading = css_urls.length + js_urls.length;\n\n    function on_load() {\n      root._bokeh_is_loading--;\n      if (root._bokeh_is_loading === 0) {\n        console.debug(\"Bokeh: all BokehJS libraries/stylesheets loaded\");\n        run_callbacks()\n      }\n    }\n\n    function on_error(url) {\n      console.error(\"failed to load \" + url);\n    }\n\n    for (let i = 0; i < css_urls.length; i++) {\n      const url = css_urls[i];\n      const element = document.createElement(\"link\");\n      element.onload = on_load;\n      element.onerror = on_error.bind(null, url);\n      element.rel = \"stylesheet\";\n      element.type = \"text/css\";\n      element.href = url;\n      console.debug(\"Bokeh: injecting link tag for BokehJS stylesheet: \", url);\n      document.body.appendChild(element);\n    }\n\n    for (let i = 0; i < js_urls.length; i++) {\n      const url = js_urls[i];\n      const element = document.createElement('script');\n      element.onload = on_load;\n      element.onerror = on_error.bind(null, url);\n      element.async = false;\n      element.src = url;\n      console.debug(\"Bokeh: injecting script tag for BokehJS library: \", url);\n      document.head.appendChild(element);\n    }\n  };\n\n  function inject_raw_css(css) {\n    const element = document.createElement(\"style\");\n    element.appendChild(document.createTextNode(css));\n    document.body.appendChild(element);\n  }\n\n  const js_urls = [\"https://cdn.bokeh.org/bokeh/release/bokeh-3.2.1.min.js\", \"https://cdn.bokeh.org/bokeh/release/bokeh-gl-3.2.1.min.js\", \"https://cdn.bokeh.org/bokeh/release/bokeh-widgets-3.2.1.min.js\", \"https://cdn.bokeh.org/bokeh/release/bokeh-tables-3.2.1.min.js\", \"https://cdn.bokeh.org/bokeh/release/bokeh-mathjax-3.2.1.min.js\"];\n  const css_urls = [];\n\n  const inline_js = [    function(Bokeh) {\n      Bokeh.set_log_level(\"info\");\n    },\nfunction(Bokeh) {\n    }\n  ];\n\n  function run_inline_js() {\n    if (root.Bokeh !== undefined || force === true) {\n          for (let i = 0; i < inline_js.length; i++) {\n      inline_js[i].call(root, root.Bokeh);\n    }\nif (force === true) {\n        display_loaded();\n      }} else if (Date.now() < root._bokeh_timeout) {\n      setTimeout(run_inline_js, 100);\n    } else if (!root._bokeh_failed_load) {\n      console.log(\"Bokeh: BokehJS failed to load within specified timeout.\");\n      root._bokeh_failed_load = true;\n    } else if (force !== true) {\n      const cell = $(document.getElementById(\"e753b26f-b9b0-4ce9-8451-48afdb26d653\")).parents('.cell').data().cell;\n      cell.output_area.append_execute_result(NB_LOAD_WARNING)\n    }\n  }\n\n  if (root._bokeh_is_loading === 0) {\n    console.debug(\"Bokeh: BokehJS loaded, going straight to plotting\");\n    run_inline_js();\n  } else {\n    load_libs(css_urls, js_urls, function() {\n      console.debug(\"Bokeh: BokehJS plotting callback run at\", now());\n      run_inline_js();\n    });\n  }\n}(window));",
      "application/vnd.bokehjs_load.v0+json": ""
     },
     "metadata": {},
     "output_type": "display_data"
    }
   ],
   "source": [
    "import pandas as pd\n",
    "import seaborn as sns\n",
    "# import matplotlib.pyplot as plt\n",
    "import pandas_bokeh\n",
    "from bokeh.models import Whisker\n",
    "from bokeh.plotting import show, output_notebook, figure\n",
    "output_notebook()\n",
    "\n",
    "pd.set_option('plotting.backend', 'pandas_bokeh')\n",
    "\n",
    "import warnings\n",
    "warnings.filterwarnings('ignore')"
   ]
  },
  {
   "attachments": {},
   "cell_type": "markdown",
   "metadata": {},
   "source": [
    "## Custom functions"
   ]
  },
  {
   "cell_type": "code",
   "execution_count": 2,
   "metadata": {},
   "outputs": [],
   "source": [
    "DUPLICATE_COLS_TO_CHECK = [\"INSERT COLS\"] # Based on non-null cols gleaned from df.info()\n",
    "DUPLICATE_VALUE_COL = \"INSERT KEY\" # Which col to return values from\n",
    "\n",
    "## Summary, providing info on duplicates if asked\n",
    "def mySummary(dataframe: pd.DataFrame, duplicateCheck: bool = False) -> str:\n",
    "    if duplicateCheck:\n",
    "        num_of_dupes = dataframe[dataframe[DUPLICATE_COLS_TO_CHECK].duplicated()][DUPLICATE_VALUE_COL].count()\n",
    "        if num_of_dupes > 10:\n",
    "            DUPLICATES = (num_of_dupes, \"More than 10 duplicates, explore more\")\n",
    "        else:\n",
    "            DUPLICATES = (num_of_dupes, dataframe[dataframe[DUPLICATE_COLS_TO_CHECK].duplicated()][DUPLICATE_VALUE_COL].values)\n",
    "\n",
    "        info_string = \"\"\"\n",
    "            Rows: {} | Cols: {} | Duplicates: {}\n",
    "            Duplicates from '{}' column: {}\n",
    "            \"\"\".format(\n",
    "                df.shape[0],          # rows\n",
    "                df.shape[1],          # cols\n",
    "                DUPLICATES[0],\n",
    "                DUPLICATE_VALUE_COL,\n",
    "                DUPLICATES[1],\n",
    "                )\n",
    "    else:\n",
    "        info_string = \"\"\"\n",
    "            Rows: {} | Cols: {}\n",
    "            \"\"\".format(\n",
    "                df.shape[0],          # rows\n",
    "                df.shape[1],          # cols\n",
    "                )\n",
    "    return info_string"
   ]
  },
  {
   "cell_type": "code",
   "execution_count": 3,
   "metadata": {},
   "outputs": [],
   "source": [
    "def myInfo(dataframe: pd.DataFrame) -> pd.DataFrame:\n",
    "    # Custom info dataframe\n",
    "    my_info_df = pd.DataFrame()\n",
    "    my_info_df[\"columns\"] = dataframe.keys()\n",
    "\n",
    "    # Custom info columns\n",
    "    my_info_df[\"missing_data\"] = dataframe.isna().sum().values\n",
    "    my_info_df[\"col_dtype\"] = dataframe.dtypes.values\n",
    "\n",
    "    my_info_df[\"bytes\"] = dataframe.memory_usage(index=False, deep=True).values\n",
    "    my_info_df[\"nunique\"] = dataframe.nunique().values\n",
    "    return my_info_df"
   ]
  },
  {
   "attachments": {},
   "cell_type": "markdown",
   "metadata": {},
   "source": [
    "# Exploration"
   ]
  },
  {
   "attachments": {},
   "cell_type": "markdown",
   "metadata": {},
   "source": [
    "## Main Dataframe"
   ]
  },
  {
   "cell_type": "code",
   "execution_count": 4,
   "metadata": {},
   "outputs": [
    {
     "data": {
      "text/html": [
       "<div>\n",
       "<style scoped>\n",
       "    .dataframe tbody tr th:only-of-type {\n",
       "        vertical-align: middle;\n",
       "    }\n",
       "\n",
       "    .dataframe tbody tr th {\n",
       "        vertical-align: top;\n",
       "    }\n",
       "\n",
       "    .dataframe thead th {\n",
       "        text-align: right;\n",
       "    }\n",
       "</style>\n",
       "<table border=\"1\" class=\"dataframe\">\n",
       "  <thead>\n",
       "    <tr style=\"text-align: right;\">\n",
       "      <th></th>\n",
       "      <th>RANK</th>\n",
       "      <th>Country</th>\n",
       "      <th>Happiness score</th>\n",
       "      <th>Whisker-high</th>\n",
       "      <th>Whisker-low</th>\n",
       "      <th>Dystopia (1.83) + residual</th>\n",
       "      <th>Explained by: GDP per capita</th>\n",
       "      <th>Explained by: Social support</th>\n",
       "      <th>Explained by: Healthy life expectancy</th>\n",
       "      <th>Explained by: Freedom to make life choices</th>\n",
       "      <th>Explained by: Generosity</th>\n",
       "      <th>Explained by: Perceptions of corruption</th>\n",
       "    </tr>\n",
       "  </thead>\n",
       "  <tbody>\n",
       "    <tr>\n",
       "      <th>0</th>\n",
       "      <td>1</td>\n",
       "      <td>Finland</td>\n",
       "      <td>7.821</td>\n",
       "      <td>7.886</td>\n",
       "      <td>7.756</td>\n",
       "      <td>2.518</td>\n",
       "      <td>1.892</td>\n",
       "      <td>1.258</td>\n",
       "      <td>0.775</td>\n",
       "      <td>0.736</td>\n",
       "      <td>0.109</td>\n",
       "      <td>0.534</td>\n",
       "    </tr>\n",
       "    <tr>\n",
       "      <th>1</th>\n",
       "      <td>2</td>\n",
       "      <td>Denmark</td>\n",
       "      <td>7.636</td>\n",
       "      <td>7.710</td>\n",
       "      <td>7.563</td>\n",
       "      <td>2.226</td>\n",
       "      <td>1.953</td>\n",
       "      <td>1.243</td>\n",
       "      <td>0.777</td>\n",
       "      <td>0.719</td>\n",
       "      <td>0.188</td>\n",
       "      <td>0.532</td>\n",
       "    </tr>\n",
       "    <tr>\n",
       "      <th>2</th>\n",
       "      <td>3</td>\n",
       "      <td>Iceland</td>\n",
       "      <td>7.557</td>\n",
       "      <td>7.651</td>\n",
       "      <td>7.464</td>\n",
       "      <td>2.320</td>\n",
       "      <td>1.936</td>\n",
       "      <td>1.320</td>\n",
       "      <td>0.803</td>\n",
       "      <td>0.718</td>\n",
       "      <td>0.270</td>\n",
       "      <td>0.191</td>\n",
       "    </tr>\n",
       "    <tr>\n",
       "      <th>3</th>\n",
       "      <td>4</td>\n",
       "      <td>Switzerland</td>\n",
       "      <td>7.512</td>\n",
       "      <td>7.586</td>\n",
       "      <td>7.437</td>\n",
       "      <td>2.153</td>\n",
       "      <td>2.026</td>\n",
       "      <td>1.226</td>\n",
       "      <td>0.822</td>\n",
       "      <td>0.677</td>\n",
       "      <td>0.147</td>\n",
       "      <td>0.461</td>\n",
       "    </tr>\n",
       "    <tr>\n",
       "      <th>4</th>\n",
       "      <td>5</td>\n",
       "      <td>Netherlands</td>\n",
       "      <td>7.415</td>\n",
       "      <td>7.471</td>\n",
       "      <td>7.359</td>\n",
       "      <td>2.137</td>\n",
       "      <td>1.945</td>\n",
       "      <td>1.206</td>\n",
       "      <td>0.787</td>\n",
       "      <td>0.651</td>\n",
       "      <td>0.271</td>\n",
       "      <td>0.419</td>\n",
       "    </tr>\n",
       "  </tbody>\n",
       "</table>\n",
       "</div>"
      ],
      "text/plain": [
       "   RANK      Country  Happiness score  Whisker-high  Whisker-low  \\\n",
       "0     1      Finland            7.821         7.886        7.756   \n",
       "1     2      Denmark            7.636         7.710        7.563   \n",
       "2     3      Iceland            7.557         7.651        7.464   \n",
       "3     4  Switzerland            7.512         7.586        7.437   \n",
       "4     5  Netherlands            7.415         7.471        7.359   \n",
       "\n",
       "   Dystopia (1.83) + residual  Explained by: GDP per capita  \\\n",
       "0                       2.518                         1.892   \n",
       "1                       2.226                         1.953   \n",
       "2                       2.320                         1.936   \n",
       "3                       2.153                         2.026   \n",
       "4                       2.137                         1.945   \n",
       "\n",
       "   Explained by: Social support  Explained by: Healthy life expectancy  \\\n",
       "0                         1.258                                  0.775   \n",
       "1                         1.243                                  0.777   \n",
       "2                         1.320                                  0.803   \n",
       "3                         1.226                                  0.822   \n",
       "4                         1.206                                  0.787   \n",
       "\n",
       "   Explained by: Freedom to make life choices  Explained by: Generosity  \\\n",
       "0                                       0.736                     0.109   \n",
       "1                                       0.719                     0.188   \n",
       "2                                       0.718                     0.270   \n",
       "3                                       0.677                     0.147   \n",
       "4                                       0.651                     0.271   \n",
       "\n",
       "   Explained by: Perceptions of corruption  \n",
       "0                                    0.534  \n",
       "1                                    0.532  \n",
       "2                                    0.191  \n",
       "3                                    0.461  \n",
       "4                                    0.419  "
      ]
     },
     "execution_count": 4,
     "metadata": {},
     "output_type": "execute_result"
    }
   ],
   "source": [
    "# Data\n",
    "df = pd.read_csv(\"data/World Happiness Report 2022.csv\")\n",
    "df.head()"
   ]
  },
  {
   "cell_type": "code",
   "execution_count": 5,
   "metadata": {},
   "outputs": [
    {
     "data": {
      "text/html": [
       "<div>\n",
       "<style scoped>\n",
       "    .dataframe tbody tr th:only-of-type {\n",
       "        vertical-align: middle;\n",
       "    }\n",
       "\n",
       "    .dataframe tbody tr th {\n",
       "        vertical-align: top;\n",
       "    }\n",
       "\n",
       "    .dataframe thead th {\n",
       "        text-align: right;\n",
       "    }\n",
       "</style>\n",
       "<table border=\"1\" class=\"dataframe\">\n",
       "  <thead>\n",
       "    <tr style=\"text-align: right;\">\n",
       "      <th></th>\n",
       "      <th>country</th>\n",
       "      <th>happiness_score</th>\n",
       "      <th>whisker_high</th>\n",
       "      <th>whisker_low</th>\n",
       "      <th>dystopia</th>\n",
       "      <th>gdp_per_capita</th>\n",
       "      <th>social_support</th>\n",
       "      <th>life_expectancy</th>\n",
       "      <th>free_life_choices</th>\n",
       "      <th>generosity</th>\n",
       "      <th>corruption_perception</th>\n",
       "    </tr>\n",
       "  </thead>\n",
       "  <tbody>\n",
       "    <tr>\n",
       "      <th>0</th>\n",
       "      <td>Finland</td>\n",
       "      <td>7.821</td>\n",
       "      <td>7.886</td>\n",
       "      <td>7.756</td>\n",
       "      <td>2.518</td>\n",
       "      <td>1.892</td>\n",
       "      <td>1.258</td>\n",
       "      <td>0.775</td>\n",
       "      <td>0.736</td>\n",
       "      <td>0.109</td>\n",
       "      <td>0.534</td>\n",
       "    </tr>\n",
       "    <tr>\n",
       "      <th>1</th>\n",
       "      <td>Denmark</td>\n",
       "      <td>7.636</td>\n",
       "      <td>7.710</td>\n",
       "      <td>7.563</td>\n",
       "      <td>2.226</td>\n",
       "      <td>1.953</td>\n",
       "      <td>1.243</td>\n",
       "      <td>0.777</td>\n",
       "      <td>0.719</td>\n",
       "      <td>0.188</td>\n",
       "      <td>0.532</td>\n",
       "    </tr>\n",
       "    <tr>\n",
       "      <th>2</th>\n",
       "      <td>Iceland</td>\n",
       "      <td>7.557</td>\n",
       "      <td>7.651</td>\n",
       "      <td>7.464</td>\n",
       "      <td>2.320</td>\n",
       "      <td>1.936</td>\n",
       "      <td>1.320</td>\n",
       "      <td>0.803</td>\n",
       "      <td>0.718</td>\n",
       "      <td>0.270</td>\n",
       "      <td>0.191</td>\n",
       "    </tr>\n",
       "  </tbody>\n",
       "</table>\n",
       "</div>"
      ],
      "text/plain": [
       "   country  happiness_score  whisker_high  whisker_low  dystopia  \\\n",
       "0  Finland            7.821         7.886        7.756     2.518   \n",
       "1  Denmark            7.636         7.710        7.563     2.226   \n",
       "2  Iceland            7.557         7.651        7.464     2.320   \n",
       "\n",
       "   gdp_per_capita  social_support  life_expectancy  free_life_choices  \\\n",
       "0           1.892           1.258            0.775              0.736   \n",
       "1           1.953           1.243            0.777              0.719   \n",
       "2           1.936           1.320            0.803              0.718   \n",
       "\n",
       "   generosity  corruption_perception  \n",
       "0       0.109                  0.534  \n",
       "1       0.188                  0.532  \n",
       "2       0.270                  0.191  "
      ]
     },
     "execution_count": 5,
     "metadata": {},
     "output_type": "execute_result"
    }
   ],
   "source": [
    "df = pd.read_csv(\"data/World Happiness Report 2022.csv\")\n",
    "# Conclusion:\n",
    "# 1 - Don't need rank as it's just a copy of index+1\n",
    "df.drop(\"RANK\",axis=1,inplace=True)\n",
    "# 2 - I don't like column names with mixed cases or spaces:\n",
    "rename_to = {\n",
    "    \"Country\": \"country\",\n",
    "    \"Happiness score\": \"happiness_score\",\n",
    "    \"Whisker-high\": \"whisker_high\",\n",
    "    \"Whisker-low\": \"whisker_low\",\n",
    "    \"Dystopia (1.83) + residual\": \"dystopia\",\n",
    "    \"Explained by: GDP per capita\": \"gdp_per_capita\",\n",
    "    \"Explained by: Social support\": \"social_support\",\n",
    "    \"Explained by: Healthy life expectancy\": \"life_expectancy\",\n",
    "    \"Explained by: Freedom to make life choices\": \"free_life_choices\",\n",
    "    \"Explained by: Generosity\": \"generosity\",\n",
    "    \"Explained by: Perceptions of corruption\": \"corruption_perception\"}\n",
    "df.rename(columns=rename_to, inplace=True)\n",
    "df.head(3)"
   ]
  },
  {
   "attachments": {},
   "cell_type": "markdown",
   "metadata": {},
   "source": [
    "## Summary"
   ]
  },
  {
   "cell_type": "code",
   "execution_count": 6,
   "metadata": {},
   "outputs": [
    {
     "name": "stdout",
     "output_type": "stream",
     "text": [
      "\n",
      "            Rows: 146 | Cols: 11\n",
      "            \n"
     ]
    },
    {
     "data": {
      "text/html": [
       "<div>\n",
       "<style scoped>\n",
       "    .dataframe tbody tr th:only-of-type {\n",
       "        vertical-align: middle;\n",
       "    }\n",
       "\n",
       "    .dataframe tbody tr th {\n",
       "        vertical-align: top;\n",
       "    }\n",
       "\n",
       "    .dataframe thead th {\n",
       "        text-align: right;\n",
       "    }\n",
       "</style>\n",
       "<table border=\"1\" class=\"dataframe\">\n",
       "  <thead>\n",
       "    <tr style=\"text-align: right;\">\n",
       "      <th></th>\n",
       "      <th>columns</th>\n",
       "      <th>missing_data</th>\n",
       "      <th>col_dtype</th>\n",
       "      <th>bytes</th>\n",
       "      <th>nunique</th>\n",
       "    </tr>\n",
       "  </thead>\n",
       "  <tbody>\n",
       "    <tr>\n",
       "      <th>0</th>\n",
       "      <td>country</td>\n",
       "      <td>0</td>\n",
       "      <td>string</td>\n",
       "      <td>9545</td>\n",
       "      <td>146</td>\n",
       "    </tr>\n",
       "    <tr>\n",
       "      <th>1</th>\n",
       "      <td>happiness_score</td>\n",
       "      <td>0</td>\n",
       "      <td>float32</td>\n",
       "      <td>584</td>\n",
       "      <td>141</td>\n",
       "    </tr>\n",
       "    <tr>\n",
       "      <th>2</th>\n",
       "      <td>whisker_high</td>\n",
       "      <td>0</td>\n",
       "      <td>float32</td>\n",
       "      <td>584</td>\n",
       "      <td>144</td>\n",
       "    </tr>\n",
       "    <tr>\n",
       "      <th>3</th>\n",
       "      <td>whisker_low</td>\n",
       "      <td>0</td>\n",
       "      <td>float32</td>\n",
       "      <td>584</td>\n",
       "      <td>141</td>\n",
       "    </tr>\n",
       "    <tr>\n",
       "      <th>4</th>\n",
       "      <td>dystopia</td>\n",
       "      <td>0</td>\n",
       "      <td>float32</td>\n",
       "      <td>584</td>\n",
       "      <td>138</td>\n",
       "    </tr>\n",
       "    <tr>\n",
       "      <th>5</th>\n",
       "      <td>gdp_per_capita</td>\n",
       "      <td>0</td>\n",
       "      <td>float32</td>\n",
       "      <td>584</td>\n",
       "      <td>141</td>\n",
       "    </tr>\n",
       "    <tr>\n",
       "      <th>6</th>\n",
       "      <td>social_support</td>\n",
       "      <td>0</td>\n",
       "      <td>float32</td>\n",
       "      <td>584</td>\n",
       "      <td>133</td>\n",
       "    </tr>\n",
       "    <tr>\n",
       "      <th>7</th>\n",
       "      <td>life_expectancy</td>\n",
       "      <td>0</td>\n",
       "      <td>float32</td>\n",
       "      <td>584</td>\n",
       "      <td>134</td>\n",
       "    </tr>\n",
       "    <tr>\n",
       "      <th>8</th>\n",
       "      <td>free_life_choices</td>\n",
       "      <td>0</td>\n",
       "      <td>float32</td>\n",
       "      <td>584</td>\n",
       "      <td>128</td>\n",
       "    </tr>\n",
       "    <tr>\n",
       "      <th>9</th>\n",
       "      <td>generosity</td>\n",
       "      <td>0</td>\n",
       "      <td>float32</td>\n",
       "      <td>584</td>\n",
       "      <td>116</td>\n",
       "    </tr>\n",
       "    <tr>\n",
       "      <th>10</th>\n",
       "      <td>corruption_perception</td>\n",
       "      <td>0</td>\n",
       "      <td>float32</td>\n",
       "      <td>584</td>\n",
       "      <td>116</td>\n",
       "    </tr>\n",
       "  </tbody>\n",
       "</table>\n",
       "</div>"
      ],
      "text/plain": [
       "                  columns  missing_data col_dtype  bytes  nunique\n",
       "0                 country             0    string   9545      146\n",
       "1         happiness_score             0   float32    584      141\n",
       "2            whisker_high             0   float32    584      144\n",
       "3             whisker_low             0   float32    584      141\n",
       "4                dystopia             0   float32    584      138\n",
       "5          gdp_per_capita             0   float32    584      141\n",
       "6          social_support             0   float32    584      133\n",
       "7         life_expectancy             0   float32    584      134\n",
       "8       free_life_choices             0   float32    584      128\n",
       "9              generosity             0   float32    584      116\n",
       "10  corruption_perception             0   float32    584      116"
      ]
     },
     "execution_count": 6,
     "metadata": {},
     "output_type": "execute_result"
    }
   ],
   "source": [
    "# Dataframe optimisation\n",
    "df[\"country\"] = df[\"country\"].astype(\"string\")\n",
    "for col in df.columns[1:]:\n",
    "    df[col] = df[col].astype('float32')\n",
    "\n",
    "# Summary & info\n",
    "print(mySummary(df))\n",
    "myInfo(df)"
   ]
  },
  {
   "cell_type": "code",
   "execution_count": 7,
   "metadata": {},
   "outputs": [
    {
     "data": {
      "text/html": [
       "<style type=\"text/css\">\n",
       "#T_e70ed_row0_col0, #T_e70ed_row0_col1, #T_e70ed_row0_col2, #T_e70ed_row0_col3, #T_e70ed_row0_col4, #T_e70ed_row0_col5, #T_e70ed_row0_col6, #T_e70ed_row0_col7, #T_e70ed_row0_col8, #T_e70ed_row0_col9 {\n",
       "  background-color: #023858;\n",
       "  color: #f1f1f1;\n",
       "}\n",
       "#T_e70ed_row1_col0, #T_e70ed_row1_col2, #T_e70ed_row5_col0, #T_e70ed_row5_col2 {\n",
       "  background-color: #fbf3f9;\n",
       "  color: #000000;\n",
       "}\n",
       "#T_e70ed_row1_col1, #T_e70ed_row5_col1, #T_e70ed_row6_col2 {\n",
       "  background-color: #faf3f9;\n",
       "  color: #000000;\n",
       "}\n",
       "#T_e70ed_row1_col3, #T_e70ed_row1_col4, #T_e70ed_row3_col0, #T_e70ed_row3_col1, #T_e70ed_row3_col2, #T_e70ed_row4_col3, #T_e70ed_row5_col3, #T_e70ed_row5_col4, #T_e70ed_row7_col5 {\n",
       "  background-color: #fef6fa;\n",
       "  color: #000000;\n",
       "}\n",
       "#T_e70ed_row1_col5, #T_e70ed_row1_col6, #T_e70ed_row4_col4, #T_e70ed_row4_col5, #T_e70ed_row5_col5, #T_e70ed_row5_col6, #T_e70ed_row6_col5, #T_e70ed_row6_col6, #T_e70ed_row6_col7, #T_e70ed_row7_col6, #T_e70ed_row7_col7, #T_e70ed_row7_col9 {\n",
       "  background-color: #fef6fb;\n",
       "  color: #000000;\n",
       "}\n",
       "#T_e70ed_row1_col7, #T_e70ed_row1_col8, #T_e70ed_row1_col9, #T_e70ed_row2_col0, #T_e70ed_row2_col1, #T_e70ed_row2_col2, #T_e70ed_row2_col3, #T_e70ed_row2_col4, #T_e70ed_row2_col5, #T_e70ed_row2_col6, #T_e70ed_row2_col7, #T_e70ed_row2_col8, #T_e70ed_row2_col9, #T_e70ed_row3_col3, #T_e70ed_row3_col4, #T_e70ed_row3_col5, #T_e70ed_row3_col6, #T_e70ed_row3_col7, #T_e70ed_row3_col8, #T_e70ed_row3_col9, #T_e70ed_row4_col6, #T_e70ed_row4_col7, #T_e70ed_row4_col8, #T_e70ed_row4_col9, #T_e70ed_row5_col7, #T_e70ed_row5_col8, #T_e70ed_row5_col9, #T_e70ed_row6_col8, #T_e70ed_row6_col9, #T_e70ed_row7_col8 {\n",
       "  background-color: #fff7fb;\n",
       "  color: #000000;\n",
       "}\n",
       "#T_e70ed_row4_col0, #T_e70ed_row4_col1, #T_e70ed_row4_col2 {\n",
       "  background-color: #fbf4f9;\n",
       "  color: #000000;\n",
       "}\n",
       "#T_e70ed_row6_col0, #T_e70ed_row6_col1 {\n",
       "  background-color: #faf2f8;\n",
       "  color: #000000;\n",
       "}\n",
       "#T_e70ed_row6_col3, #T_e70ed_row6_col4, #T_e70ed_row7_col3, #T_e70ed_row7_col4 {\n",
       "  background-color: #fdf5fa;\n",
       "  color: #000000;\n",
       "}\n",
       "#T_e70ed_row7_col0, #T_e70ed_row7_col1, #T_e70ed_row7_col2 {\n",
       "  background-color: #f8f1f8;\n",
       "  color: #000000;\n",
       "}\n",
       "</style>\n",
       "<table id=\"T_e70ed\">\n",
       "  <thead>\n",
       "    <tr>\n",
       "      <th class=\"blank level0\" >&nbsp;</th>\n",
       "      <th id=\"T_e70ed_level0_col0\" class=\"col_heading level0 col0\" >happiness_score</th>\n",
       "      <th id=\"T_e70ed_level0_col1\" class=\"col_heading level0 col1\" >whisker_high</th>\n",
       "      <th id=\"T_e70ed_level0_col2\" class=\"col_heading level0 col2\" >whisker_low</th>\n",
       "      <th id=\"T_e70ed_level0_col3\" class=\"col_heading level0 col3\" >dystopia</th>\n",
       "      <th id=\"T_e70ed_level0_col4\" class=\"col_heading level0 col4\" >gdp_per_capita</th>\n",
       "      <th id=\"T_e70ed_level0_col5\" class=\"col_heading level0 col5\" >social_support</th>\n",
       "      <th id=\"T_e70ed_level0_col6\" class=\"col_heading level0 col6\" >life_expectancy</th>\n",
       "      <th id=\"T_e70ed_level0_col7\" class=\"col_heading level0 col7\" >free_life_choices</th>\n",
       "      <th id=\"T_e70ed_level0_col8\" class=\"col_heading level0 col8\" >generosity</th>\n",
       "      <th id=\"T_e70ed_level0_col9\" class=\"col_heading level0 col9\" >corruption_perception</th>\n",
       "    </tr>\n",
       "  </thead>\n",
       "  <tbody>\n",
       "    <tr>\n",
       "      <th id=\"T_e70ed_level0_row0\" class=\"row_heading level0 row0\" >count</th>\n",
       "      <td id=\"T_e70ed_row0_col0\" class=\"data row0 col0\" >146.000000</td>\n",
       "      <td id=\"T_e70ed_row0_col1\" class=\"data row0 col1\" >146.000000</td>\n",
       "      <td id=\"T_e70ed_row0_col2\" class=\"data row0 col2\" >146.000000</td>\n",
       "      <td id=\"T_e70ed_row0_col3\" class=\"data row0 col3\" >146.000000</td>\n",
       "      <td id=\"T_e70ed_row0_col4\" class=\"data row0 col4\" >146.000000</td>\n",
       "      <td id=\"T_e70ed_row0_col5\" class=\"data row0 col5\" >146.000000</td>\n",
       "      <td id=\"T_e70ed_row0_col6\" class=\"data row0 col6\" >146.000000</td>\n",
       "      <td id=\"T_e70ed_row0_col7\" class=\"data row0 col7\" >146.000000</td>\n",
       "      <td id=\"T_e70ed_row0_col8\" class=\"data row0 col8\" >146.000000</td>\n",
       "      <td id=\"T_e70ed_row0_col9\" class=\"data row0 col9\" >146.000000</td>\n",
       "    </tr>\n",
       "    <tr>\n",
       "      <th id=\"T_e70ed_level0_row1\" class=\"row_heading level0 row1\" >mean</th>\n",
       "      <td id=\"T_e70ed_row1_col0\" class=\"data row1 col0\" >5.553575</td>\n",
       "      <td id=\"T_e70ed_row1_col1\" class=\"data row1 col1\" >5.673589</td>\n",
       "      <td id=\"T_e70ed_row1_col2\" class=\"data row1 col2\" >5.433568</td>\n",
       "      <td id=\"T_e70ed_row1_col3\" class=\"data row1 col3\" >1.831808</td>\n",
       "      <td id=\"T_e70ed_row1_col4\" class=\"data row1 col4\" >1.410445</td>\n",
       "      <td id=\"T_e70ed_row1_col5\" class=\"data row1 col5\" >0.905863</td>\n",
       "      <td id=\"T_e70ed_row1_col6\" class=\"data row1 col6\" >0.586171</td>\n",
       "      <td id=\"T_e70ed_row1_col7\" class=\"data row1 col7\" >0.517226</td>\n",
       "      <td id=\"T_e70ed_row1_col8\" class=\"data row1 col8\" >0.147377</td>\n",
       "      <td id=\"T_e70ed_row1_col9\" class=\"data row1 col9\" >0.154781</td>\n",
       "    </tr>\n",
       "    <tr>\n",
       "      <th id=\"T_e70ed_level0_row2\" class=\"row_heading level0 row2\" >std</th>\n",
       "      <td id=\"T_e70ed_row2_col0\" class=\"data row2 col0\" >1.086843</td>\n",
       "      <td id=\"T_e70ed_row2_col1\" class=\"data row2 col1\" >1.065621</td>\n",
       "      <td id=\"T_e70ed_row2_col2\" class=\"data row2 col2\" >1.109380</td>\n",
       "      <td id=\"T_e70ed_row2_col3\" class=\"data row2 col3\" >0.534994</td>\n",
       "      <td id=\"T_e70ed_row2_col4\" class=\"data row2 col4\" >0.421663</td>\n",
       "      <td id=\"T_e70ed_row2_col5\" class=\"data row2 col5\" >0.280122</td>\n",
       "      <td id=\"T_e70ed_row2_col6\" class=\"data row2 col6\" >0.176336</td>\n",
       "      <td id=\"T_e70ed_row2_col7\" class=\"data row2 col7\" >0.145859</td>\n",
       "      <td id=\"T_e70ed_row2_col8\" class=\"data row2 col8\" >0.082799</td>\n",
       "      <td id=\"T_e70ed_row2_col9\" class=\"data row2 col9\" >0.127514</td>\n",
       "    </tr>\n",
       "    <tr>\n",
       "      <th id=\"T_e70ed_level0_row3\" class=\"row_heading level0 row3\" >min</th>\n",
       "      <td id=\"T_e70ed_row3_col0\" class=\"data row3 col0\" >2.404000</td>\n",
       "      <td id=\"T_e70ed_row3_col1\" class=\"data row3 col1\" >2.469000</td>\n",
       "      <td id=\"T_e70ed_row3_col2\" class=\"data row3 col2\" >2.339000</td>\n",
       "      <td id=\"T_e70ed_row3_col3\" class=\"data row3 col3\" >0.187000</td>\n",
       "      <td id=\"T_e70ed_row3_col4\" class=\"data row3 col4\" >0.000000</td>\n",
       "      <td id=\"T_e70ed_row3_col5\" class=\"data row3 col5\" >0.000000</td>\n",
       "      <td id=\"T_e70ed_row3_col6\" class=\"data row3 col6\" >0.000000</td>\n",
       "      <td id=\"T_e70ed_row3_col7\" class=\"data row3 col7\" >0.000000</td>\n",
       "      <td id=\"T_e70ed_row3_col8\" class=\"data row3 col8\" >0.000000</td>\n",
       "      <td id=\"T_e70ed_row3_col9\" class=\"data row3 col9\" >0.000000</td>\n",
       "    </tr>\n",
       "    <tr>\n",
       "      <th id=\"T_e70ed_level0_row4\" class=\"row_heading level0 row4\" >25%</th>\n",
       "      <td id=\"T_e70ed_row4_col0\" class=\"data row4 col0\" >4.888750</td>\n",
       "      <td id=\"T_e70ed_row4_col1\" class=\"data row4 col1\" >5.006250</td>\n",
       "      <td id=\"T_e70ed_row4_col2\" class=\"data row4 col2\" >4.754750</td>\n",
       "      <td id=\"T_e70ed_row4_col3\" class=\"data row4 col3\" >1.555250</td>\n",
       "      <td id=\"T_e70ed_row4_col4\" class=\"data row4 col4\" >1.095500</td>\n",
       "      <td id=\"T_e70ed_row4_col5\" class=\"data row4 col5\" >0.732000</td>\n",
       "      <td id=\"T_e70ed_row4_col6\" class=\"data row4 col6\" >0.463250</td>\n",
       "      <td id=\"T_e70ed_row4_col7\" class=\"data row4 col7\" >0.440500</td>\n",
       "      <td id=\"T_e70ed_row4_col8\" class=\"data row4 col8\" >0.089000</td>\n",
       "      <td id=\"T_e70ed_row4_col9\" class=\"data row4 col9\" >0.068250</td>\n",
       "    </tr>\n",
       "    <tr>\n",
       "      <th id=\"T_e70ed_level0_row5\" class=\"row_heading level0 row5\" >50%</th>\n",
       "      <td id=\"T_e70ed_row5_col0\" class=\"data row5 col0\" >5.568500</td>\n",
       "      <td id=\"T_e70ed_row5_col1\" class=\"data row5 col1\" >5.680000</td>\n",
       "      <td id=\"T_e70ed_row5_col2\" class=\"data row5 col2\" >5.453000</td>\n",
       "      <td id=\"T_e70ed_row5_col3\" class=\"data row5 col3\" >1.894500</td>\n",
       "      <td id=\"T_e70ed_row5_col4\" class=\"data row5 col4\" >1.445500</td>\n",
       "      <td id=\"T_e70ed_row5_col5\" class=\"data row5 col5\" >0.957500</td>\n",
       "      <td id=\"T_e70ed_row5_col6\" class=\"data row5 col6\" >0.621500</td>\n",
       "      <td id=\"T_e70ed_row5_col7\" class=\"data row5 col7\" >0.543500</td>\n",
       "      <td id=\"T_e70ed_row5_col8\" class=\"data row5 col8\" >0.132500</td>\n",
       "      <td id=\"T_e70ed_row5_col9\" class=\"data row5 col9\" >0.119500</td>\n",
       "    </tr>\n",
       "    <tr>\n",
       "      <th id=\"T_e70ed_level0_row6\" class=\"row_heading level0 row6\" >75%</th>\n",
       "      <td id=\"T_e70ed_row6_col0\" class=\"data row6 col0\" >6.305000</td>\n",
       "      <td id=\"T_e70ed_row6_col1\" class=\"data row6 col1\" >6.448750</td>\n",
       "      <td id=\"T_e70ed_row6_col2\" class=\"data row6 col2\" >6.190000</td>\n",
       "      <td id=\"T_e70ed_row6_col3\" class=\"data row6 col3\" >2.153000</td>\n",
       "      <td id=\"T_e70ed_row6_col4\" class=\"data row6 col4\" >1.784750</td>\n",
       "      <td id=\"T_e70ed_row6_col5\" class=\"data row6 col5\" >1.114250</td>\n",
       "      <td id=\"T_e70ed_row6_col6\" class=\"data row6 col6\" >0.719750</td>\n",
       "      <td id=\"T_e70ed_row6_col7\" class=\"data row6 col7\" >0.626000</td>\n",
       "      <td id=\"T_e70ed_row6_col8\" class=\"data row6 col8\" >0.197750</td>\n",
       "      <td id=\"T_e70ed_row6_col9\" class=\"data row6 col9\" >0.198500</td>\n",
       "    </tr>\n",
       "    <tr>\n",
       "      <th id=\"T_e70ed_level0_row7\" class=\"row_heading level0 row7\" >max</th>\n",
       "      <td id=\"T_e70ed_row7_col0\" class=\"data row7 col0\" >7.821000</td>\n",
       "      <td id=\"T_e70ed_row7_col1\" class=\"data row7 col1\" >7.886000</td>\n",
       "      <td id=\"T_e70ed_row7_col2\" class=\"data row7 col2\" >7.756000</td>\n",
       "      <td id=\"T_e70ed_row7_col3\" class=\"data row7 col3\" >2.844000</td>\n",
       "      <td id=\"T_e70ed_row7_col4\" class=\"data row7 col4\" >2.209000</td>\n",
       "      <td id=\"T_e70ed_row7_col5\" class=\"data row7 col5\" >1.320000</td>\n",
       "      <td id=\"T_e70ed_row7_col6\" class=\"data row7 col6\" >0.942000</td>\n",
       "      <td id=\"T_e70ed_row7_col7\" class=\"data row7 col7\" >0.740000</td>\n",
       "      <td id=\"T_e70ed_row7_col8\" class=\"data row7 col8\" >0.468000</td>\n",
       "      <td id=\"T_e70ed_row7_col9\" class=\"data row7 col9\" >0.587000</td>\n",
       "    </tr>\n",
       "  </tbody>\n",
       "</table>\n"
      ],
      "text/plain": [
       "<pandas.io.formats.style.Styler at 0x21b92c76d10>"
      ]
     },
     "execution_count": 7,
     "metadata": {},
     "output_type": "execute_result"
    }
   ],
   "source": [
    "# Outlier inspection 1\n",
    "df.describe().style.background_gradient(cmap = \"PuBu\")"
   ]
  },
  {
   "attachments": {},
   "cell_type": "markdown",
   "metadata": {},
   "source": [
    "## Inspection of additional information"
   ]
  },
  {
   "cell_type": "code",
   "execution_count": 8,
   "metadata": {},
   "outputs": [
    {
     "data": {
      "text/html": [
       "<div>\n",
       "<style scoped>\n",
       "    .dataframe tbody tr th:only-of-type {\n",
       "        vertical-align: middle;\n",
       "    }\n",
       "\n",
       "    .dataframe tbody tr th {\n",
       "        vertical-align: top;\n",
       "    }\n",
       "\n",
       "    .dataframe thead th {\n",
       "        text-align: right;\n",
       "    }\n",
       "</style>\n",
       "<table border=\"1\" class=\"dataframe\">\n",
       "  <thead>\n",
       "    <tr style=\"text-align: right;\">\n",
       "      <th></th>\n",
       "      <th>country</th>\n",
       "      <th>happiness_score</th>\n",
       "      <th>whisker_high</th>\n",
       "      <th>whisker_low</th>\n",
       "      <th>dystopia</th>\n",
       "      <th>gdp_per_capita</th>\n",
       "      <th>social_support</th>\n",
       "      <th>life_expectancy</th>\n",
       "      <th>free_life_choices</th>\n",
       "      <th>generosity</th>\n",
       "      <th>corruption_perception</th>\n",
       "    </tr>\n",
       "  </thead>\n",
       "  <tbody>\n",
       "    <tr>\n",
       "      <th>5</th>\n",
       "      <td>Luxembourg*</td>\n",
       "      <td>7.404</td>\n",
       "      <td>7.501</td>\n",
       "      <td>7.307</td>\n",
       "      <td>2.042</td>\n",
       "      <td>2.209</td>\n",
       "      <td>1.155</td>\n",
       "      <td>0.790</td>\n",
       "      <td>0.700</td>\n",
       "      <td>0.120</td>\n",
       "      <td>0.388</td>\n",
       "    </tr>\n",
       "    <tr>\n",
       "      <th>38</th>\n",
       "      <td>Guatemala*</td>\n",
       "      <td>6.262</td>\n",
       "      <td>6.460</td>\n",
       "      <td>6.064</td>\n",
       "      <td>2.746</td>\n",
       "      <td>1.274</td>\n",
       "      <td>0.831</td>\n",
       "      <td>0.522</td>\n",
       "      <td>0.662</td>\n",
       "      <td>0.112</td>\n",
       "      <td>0.115</td>\n",
       "    </tr>\n",
       "    <tr>\n",
       "      <th>49</th>\n",
       "      <td>Kuwait*</td>\n",
       "      <td>6.106</td>\n",
       "      <td>6.235</td>\n",
       "      <td>5.977</td>\n",
       "      <td>1.621</td>\n",
       "      <td>1.904</td>\n",
       "      <td>0.983</td>\n",
       "      <td>0.747</td>\n",
       "      <td>0.617</td>\n",
       "      <td>0.087</td>\n",
       "      <td>0.147</td>\n",
       "    </tr>\n",
       "    <tr>\n",
       "      <th>64</th>\n",
       "      <td>Belarus*</td>\n",
       "      <td>5.821</td>\n",
       "      <td>5.950</td>\n",
       "      <td>5.693</td>\n",
       "      <td>1.811</td>\n",
       "      <td>1.562</td>\n",
       "      <td>1.157</td>\n",
       "      <td>0.629</td>\n",
       "      <td>0.342</td>\n",
       "      <td>0.040</td>\n",
       "      <td>0.282</td>\n",
       "    </tr>\n",
       "    <tr>\n",
       "      <th>77</th>\n",
       "      <td>Turkmenistan*</td>\n",
       "      <td>5.474</td>\n",
       "      <td>5.578</td>\n",
       "      <td>5.371</td>\n",
       "      <td>1.160</td>\n",
       "      <td>1.484</td>\n",
       "      <td>1.319</td>\n",
       "      <td>0.516</td>\n",
       "      <td>0.649</td>\n",
       "      <td>0.314</td>\n",
       "      <td>0.032</td>\n",
       "    </tr>\n",
       "    <tr>\n",
       "      <th>78</th>\n",
       "      <td>North Cyprus*</td>\n",
       "      <td>5.467</td>\n",
       "      <td>5.609</td>\n",
       "      <td>5.325</td>\n",
       "      <td>1.078</td>\n",
       "      <td>1.815</td>\n",
       "      <td>0.888</td>\n",
       "      <td>0.819</td>\n",
       "      <td>0.523</td>\n",
       "      <td>0.130</td>\n",
       "      <td>0.213</td>\n",
       "    </tr>\n",
       "    <tr>\n",
       "      <th>85</th>\n",
       "      <td>Libya*</td>\n",
       "      <td>5.330</td>\n",
       "      <td>5.543</td>\n",
       "      <td>5.118</td>\n",
       "      <td>1.544</td>\n",
       "      <td>1.476</td>\n",
       "      <td>0.943</td>\n",
       "      <td>0.606</td>\n",
       "      <td>0.477</td>\n",
       "      <td>0.106</td>\n",
       "      <td>0.179</td>\n",
       "    </tr>\n",
       "    <tr>\n",
       "      <th>91</th>\n",
       "      <td>Azerbaijan*</td>\n",
       "      <td>5.173</td>\n",
       "      <td>5.265</td>\n",
       "      <td>5.082</td>\n",
       "      <td>1.098</td>\n",
       "      <td>1.458</td>\n",
       "      <td>1.093</td>\n",
       "      <td>0.560</td>\n",
       "      <td>0.601</td>\n",
       "      <td>0.023</td>\n",
       "      <td>0.341</td>\n",
       "    </tr>\n",
       "    <tr>\n",
       "      <th>92</th>\n",
       "      <td>Gambia*</td>\n",
       "      <td>5.164</td>\n",
       "      <td>5.409</td>\n",
       "      <td>4.918</td>\n",
       "      <td>2.531</td>\n",
       "      <td>0.785</td>\n",
       "      <td>0.621</td>\n",
       "      <td>0.369</td>\n",
       "      <td>0.367</td>\n",
       "      <td>0.388</td>\n",
       "      <td>0.103</td>\n",
       "    </tr>\n",
       "    <tr>\n",
       "      <th>96</th>\n",
       "      <td>Liberia*</td>\n",
       "      <td>5.122</td>\n",
       "      <td>5.428</td>\n",
       "      <td>4.815</td>\n",
       "      <td>2.844</td>\n",
       "      <td>0.636</td>\n",
       "      <td>0.670</td>\n",
       "      <td>0.309</td>\n",
       "      <td>0.405</td>\n",
       "      <td>0.178</td>\n",
       "      <td>0.080</td>\n",
       "    </tr>\n",
       "    <tr>\n",
       "      <th>103</th>\n",
       "      <td>Niger*</td>\n",
       "      <td>5.003</td>\n",
       "      <td>5.247</td>\n",
       "      <td>4.760</td>\n",
       "      <td>2.667</td>\n",
       "      <td>0.570</td>\n",
       "      <td>0.560</td>\n",
       "      <td>0.326</td>\n",
       "      <td>0.571</td>\n",
       "      <td>0.165</td>\n",
       "      <td>0.145</td>\n",
       "    </tr>\n",
       "    <tr>\n",
       "      <th>115</th>\n",
       "      <td>Comoros*</td>\n",
       "      <td>4.609</td>\n",
       "      <td>4.849</td>\n",
       "      <td>4.368</td>\n",
       "      <td>2.304</td>\n",
       "      <td>0.899</td>\n",
       "      <td>0.476</td>\n",
       "      <td>0.424</td>\n",
       "      <td>0.185</td>\n",
       "      <td>0.195</td>\n",
       "      <td>0.125</td>\n",
       "    </tr>\n",
       "    <tr>\n",
       "      <th>121</th>\n",
       "      <td>Palestinian Territories*</td>\n",
       "      <td>4.483</td>\n",
       "      <td>4.665</td>\n",
       "      <td>4.300</td>\n",
       "      <td>1.368</td>\n",
       "      <td>1.148</td>\n",
       "      <td>0.957</td>\n",
       "      <td>0.521</td>\n",
       "      <td>0.336</td>\n",
       "      <td>0.073</td>\n",
       "      <td>0.079</td>\n",
       "    </tr>\n",
       "    <tr>\n",
       "      <th>124</th>\n",
       "      <td>Eswatini, Kingdom of*</td>\n",
       "      <td>4.396</td>\n",
       "      <td>4.607</td>\n",
       "      <td>4.185</td>\n",
       "      <td>1.688</td>\n",
       "      <td>1.274</td>\n",
       "      <td>0.786</td>\n",
       "      <td>0.197</td>\n",
       "      <td>0.259</td>\n",
       "      <td>0.038</td>\n",
       "      <td>0.154</td>\n",
       "    </tr>\n",
       "    <tr>\n",
       "      <th>127</th>\n",
       "      <td>Madagascar*</td>\n",
       "      <td>4.339</td>\n",
       "      <td>4.530</td>\n",
       "      <td>4.148</td>\n",
       "      <td>2.148</td>\n",
       "      <td>0.670</td>\n",
       "      <td>0.645</td>\n",
       "      <td>0.378</td>\n",
       "      <td>0.202</td>\n",
       "      <td>0.143</td>\n",
       "      <td>0.154</td>\n",
       "    </tr>\n",
       "    <tr>\n",
       "      <th>129</th>\n",
       "      <td>Chad*</td>\n",
       "      <td>4.251</td>\n",
       "      <td>4.503</td>\n",
       "      <td>3.999</td>\n",
       "      <td>2.419</td>\n",
       "      <td>0.662</td>\n",
       "      <td>0.506</td>\n",
       "      <td>0.225</td>\n",
       "      <td>0.180</td>\n",
       "      <td>0.182</td>\n",
       "      <td>0.077</td>\n",
       "    </tr>\n",
       "    <tr>\n",
       "      <th>131</th>\n",
       "      <td>Yemen*</td>\n",
       "      <td>4.197</td>\n",
       "      <td>4.384</td>\n",
       "      <td>4.010</td>\n",
       "      <td>1.561</td>\n",
       "      <td>0.691</td>\n",
       "      <td>1.043</td>\n",
       "      <td>0.384</td>\n",
       "      <td>0.330</td>\n",
       "      <td>0.090</td>\n",
       "      <td>0.098</td>\n",
       "    </tr>\n",
       "    <tr>\n",
       "      <th>132</th>\n",
       "      <td>Mauritania*</td>\n",
       "      <td>4.153</td>\n",
       "      <td>4.356</td>\n",
       "      <td>3.950</td>\n",
       "      <td>1.207</td>\n",
       "      <td>1.100</td>\n",
       "      <td>0.865</td>\n",
       "      <td>0.450</td>\n",
       "      <td>0.304</td>\n",
       "      <td>0.088</td>\n",
       "      <td>0.138</td>\n",
       "    </tr>\n",
       "    <tr>\n",
       "      <th>140</th>\n",
       "      <td>Lesotho*</td>\n",
       "      <td>3.512</td>\n",
       "      <td>3.748</td>\n",
       "      <td>3.276</td>\n",
       "      <td>1.312</td>\n",
       "      <td>0.839</td>\n",
       "      <td>0.848</td>\n",
       "      <td>0.000</td>\n",
       "      <td>0.419</td>\n",
       "      <td>0.076</td>\n",
       "      <td>0.018</td>\n",
       "    </tr>\n",
       "    <tr>\n",
       "      <th>141</th>\n",
       "      <td>Botswana*</td>\n",
       "      <td>3.471</td>\n",
       "      <td>3.667</td>\n",
       "      <td>3.275</td>\n",
       "      <td>0.187</td>\n",
       "      <td>1.503</td>\n",
       "      <td>0.815</td>\n",
       "      <td>0.280</td>\n",
       "      <td>0.571</td>\n",
       "      <td>0.012</td>\n",
       "      <td>0.102</td>\n",
       "    </tr>\n",
       "    <tr>\n",
       "      <th>142</th>\n",
       "      <td>Rwanda*</td>\n",
       "      <td>3.268</td>\n",
       "      <td>3.462</td>\n",
       "      <td>3.074</td>\n",
       "      <td>0.536</td>\n",
       "      <td>0.785</td>\n",
       "      <td>0.133</td>\n",
       "      <td>0.462</td>\n",
       "      <td>0.621</td>\n",
       "      <td>0.187</td>\n",
       "      <td>0.544</td>\n",
       "    </tr>\n",
       "  </tbody>\n",
       "</table>\n",
       "</div>"
      ],
      "text/plain": [
       "                      country  happiness_score  whisker_high  whisker_low  \\\n",
       "5                 Luxembourg*            7.404         7.501        7.307   \n",
       "38                 Guatemala*            6.262         6.460        6.064   \n",
       "49                    Kuwait*            6.106         6.235        5.977   \n",
       "64                   Belarus*            5.821         5.950        5.693   \n",
       "77              Turkmenistan*            5.474         5.578        5.371   \n",
       "78              North Cyprus*            5.467         5.609        5.325   \n",
       "85                     Libya*            5.330         5.543        5.118   \n",
       "91                Azerbaijan*            5.173         5.265        5.082   \n",
       "92                    Gambia*            5.164         5.409        4.918   \n",
       "96                   Liberia*            5.122         5.428        4.815   \n",
       "103                    Niger*            5.003         5.247        4.760   \n",
       "115                  Comoros*            4.609         4.849        4.368   \n",
       "121  Palestinian Territories*            4.483         4.665        4.300   \n",
       "124     Eswatini, Kingdom of*            4.396         4.607        4.185   \n",
       "127               Madagascar*            4.339         4.530        4.148   \n",
       "129                     Chad*            4.251         4.503        3.999   \n",
       "131                    Yemen*            4.197         4.384        4.010   \n",
       "132               Mauritania*            4.153         4.356        3.950   \n",
       "140                  Lesotho*            3.512         3.748        3.276   \n",
       "141                 Botswana*            3.471         3.667        3.275   \n",
       "142                   Rwanda*            3.268         3.462        3.074   \n",
       "\n",
       "     dystopia  gdp_per_capita  social_support  life_expectancy  \\\n",
       "5       2.042           2.209           1.155            0.790   \n",
       "38      2.746           1.274           0.831            0.522   \n",
       "49      1.621           1.904           0.983            0.747   \n",
       "64      1.811           1.562           1.157            0.629   \n",
       "77      1.160           1.484           1.319            0.516   \n",
       "78      1.078           1.815           0.888            0.819   \n",
       "85      1.544           1.476           0.943            0.606   \n",
       "91      1.098           1.458           1.093            0.560   \n",
       "92      2.531           0.785           0.621            0.369   \n",
       "96      2.844           0.636           0.670            0.309   \n",
       "103     2.667           0.570           0.560            0.326   \n",
       "115     2.304           0.899           0.476            0.424   \n",
       "121     1.368           1.148           0.957            0.521   \n",
       "124     1.688           1.274           0.786            0.197   \n",
       "127     2.148           0.670           0.645            0.378   \n",
       "129     2.419           0.662           0.506            0.225   \n",
       "131     1.561           0.691           1.043            0.384   \n",
       "132     1.207           1.100           0.865            0.450   \n",
       "140     1.312           0.839           0.848            0.000   \n",
       "141     0.187           1.503           0.815            0.280   \n",
       "142     0.536           0.785           0.133            0.462   \n",
       "\n",
       "     free_life_choices  generosity  corruption_perception  \n",
       "5                0.700       0.120                  0.388  \n",
       "38               0.662       0.112                  0.115  \n",
       "49               0.617       0.087                  0.147  \n",
       "64               0.342       0.040                  0.282  \n",
       "77               0.649       0.314                  0.032  \n",
       "78               0.523       0.130                  0.213  \n",
       "85               0.477       0.106                  0.179  \n",
       "91               0.601       0.023                  0.341  \n",
       "92               0.367       0.388                  0.103  \n",
       "96               0.405       0.178                  0.080  \n",
       "103              0.571       0.165                  0.145  \n",
       "115              0.185       0.195                  0.125  \n",
       "121              0.336       0.073                  0.079  \n",
       "124              0.259       0.038                  0.154  \n",
       "127              0.202       0.143                  0.154  \n",
       "129              0.180       0.182                  0.077  \n",
       "131              0.330       0.090                  0.098  \n",
       "132              0.304       0.088                  0.138  \n",
       "140              0.419       0.076                  0.018  \n",
       "141              0.571       0.012                  0.102  \n",
       "142              0.621       0.187                  0.544  "
      ]
     },
     "execution_count": 8,
     "metadata": {},
     "output_type": "execute_result"
    }
   ],
   "source": [
    "# Countries who's average are based on 2019 data\n",
    "df[df[\"country\"].str.contains(\"\\*\") == True]\n",
    "# TODO: Explore the 'fairness' of including these countries in the updated statistics."
   ]
  },
  {
   "cell_type": "code",
   "execution_count": 9,
   "metadata": {},
   "outputs": [
    {
     "data": {
      "text/html": [
       "<div>\n",
       "<style scoped>\n",
       "    .dataframe tbody tr th:only-of-type {\n",
       "        vertical-align: middle;\n",
       "    }\n",
       "\n",
       "    .dataframe tbody tr th {\n",
       "        vertical-align: top;\n",
       "    }\n",
       "\n",
       "    .dataframe thead th {\n",
       "        text-align: right;\n",
       "    }\n",
       "</style>\n",
       "<table border=\"1\" class=\"dataframe\">\n",
       "  <thead>\n",
       "    <tr style=\"text-align: right;\">\n",
       "      <th></th>\n",
       "      <th>country</th>\n",
       "      <th>happiness_score</th>\n",
       "      <th>whisker_high</th>\n",
       "      <th>whisker_low</th>\n",
       "      <th>dystopia</th>\n",
       "      <th>gdp_per_capita</th>\n",
       "      <th>social_support</th>\n",
       "      <th>life_expectancy</th>\n",
       "      <th>free_life_choices</th>\n",
       "      <th>generosity</th>\n",
       "      <th>corruption_perception</th>\n",
       "      <th>confidence</th>\n",
       "    </tr>\n",
       "  </thead>\n",
       "  <tbody>\n",
       "    <tr>\n",
       "      <th>135</th>\n",
       "      <td>India</td>\n",
       "      <td>3.777</td>\n",
       "      <td>3.828</td>\n",
       "      <td>3.726</td>\n",
       "      <td>0.795</td>\n",
       "      <td>1.167</td>\n",
       "      <td>0.376</td>\n",
       "      <td>0.471</td>\n",
       "      <td>0.647</td>\n",
       "      <td>0.198</td>\n",
       "      <td>0.123</td>\n",
       "      <td>0.102</td>\n",
       "    </tr>\n",
       "    <tr>\n",
       "      <th>4</th>\n",
       "      <td>Netherlands</td>\n",
       "      <td>7.415</td>\n",
       "      <td>7.471</td>\n",
       "      <td>7.359</td>\n",
       "      <td>2.137</td>\n",
       "      <td>1.945</td>\n",
       "      <td>1.206</td>\n",
       "      <td>0.787</td>\n",
       "      <td>0.651</td>\n",
       "      <td>0.271</td>\n",
       "      <td>0.419</td>\n",
       "      <td>0.112</td>\n",
       "    </tr>\n",
       "    <tr>\n",
       "      <th>8</th>\n",
       "      <td>Israel</td>\n",
       "      <td>7.364</td>\n",
       "      <td>7.426</td>\n",
       "      <td>7.301</td>\n",
       "      <td>2.634</td>\n",
       "      <td>1.826</td>\n",
       "      <td>1.221</td>\n",
       "      <td>0.818</td>\n",
       "      <td>0.568</td>\n",
       "      <td>0.155</td>\n",
       "      <td>0.143</td>\n",
       "      <td>0.125</td>\n",
       "    </tr>\n",
       "    <tr>\n",
       "      <th>0</th>\n",
       "      <td>Finland</td>\n",
       "      <td>7.821</td>\n",
       "      <td>7.886</td>\n",
       "      <td>7.756</td>\n",
       "      <td>2.518</td>\n",
       "      <td>1.892</td>\n",
       "      <td>1.258</td>\n",
       "      <td>0.775</td>\n",
       "      <td>0.736</td>\n",
       "      <td>0.109</td>\n",
       "      <td>0.534</td>\n",
       "      <td>0.130</td>\n",
       "    </tr>\n",
       "    <tr>\n",
       "      <th>71</th>\n",
       "      <td>China</td>\n",
       "      <td>5.585</td>\n",
       "      <td>5.650</td>\n",
       "      <td>5.520</td>\n",
       "      <td>1.516</td>\n",
       "      <td>1.508</td>\n",
       "      <td>0.958</td>\n",
       "      <td>0.705</td>\n",
       "      <td>0.656</td>\n",
       "      <td>0.099</td>\n",
       "      <td>0.142</td>\n",
       "      <td>0.130</td>\n",
       "    </tr>\n",
       "    <tr>\n",
       "      <th>...</th>\n",
       "      <td>...</td>\n",
       "      <td>...</td>\n",
       "      <td>...</td>\n",
       "      <td>...</td>\n",
       "      <td>...</td>\n",
       "      <td>...</td>\n",
       "      <td>...</td>\n",
       "      <td>...</td>\n",
       "      <td>...</td>\n",
       "      <td>...</td>\n",
       "      <td>...</td>\n",
       "      <td>...</td>\n",
       "    </tr>\n",
       "    <tr>\n",
       "      <th>115</th>\n",
       "      <td>Comoros*</td>\n",
       "      <td>4.609</td>\n",
       "      <td>4.849</td>\n",
       "      <td>4.368</td>\n",
       "      <td>2.304</td>\n",
       "      <td>0.899</td>\n",
       "      <td>0.476</td>\n",
       "      <td>0.424</td>\n",
       "      <td>0.185</td>\n",
       "      <td>0.195</td>\n",
       "      <td>0.125</td>\n",
       "      <td>0.481</td>\n",
       "    </tr>\n",
       "    <tr>\n",
       "      <th>103</th>\n",
       "      <td>Niger*</td>\n",
       "      <td>5.003</td>\n",
       "      <td>5.247</td>\n",
       "      <td>4.760</td>\n",
       "      <td>2.667</td>\n",
       "      <td>0.570</td>\n",
       "      <td>0.560</td>\n",
       "      <td>0.326</td>\n",
       "      <td>0.571</td>\n",
       "      <td>0.165</td>\n",
       "      <td>0.145</td>\n",
       "      <td>0.487</td>\n",
       "    </tr>\n",
       "    <tr>\n",
       "      <th>92</th>\n",
       "      <td>Gambia*</td>\n",
       "      <td>5.164</td>\n",
       "      <td>5.409</td>\n",
       "      <td>4.918</td>\n",
       "      <td>2.531</td>\n",
       "      <td>0.785</td>\n",
       "      <td>0.621</td>\n",
       "      <td>0.369</td>\n",
       "      <td>0.367</td>\n",
       "      <td>0.388</td>\n",
       "      <td>0.103</td>\n",
       "      <td>0.491</td>\n",
       "    </tr>\n",
       "    <tr>\n",
       "      <th>129</th>\n",
       "      <td>Chad*</td>\n",
       "      <td>4.251</td>\n",
       "      <td>4.503</td>\n",
       "      <td>3.999</td>\n",
       "      <td>2.419</td>\n",
       "      <td>0.662</td>\n",
       "      <td>0.506</td>\n",
       "      <td>0.225</td>\n",
       "      <td>0.180</td>\n",
       "      <td>0.182</td>\n",
       "      <td>0.077</td>\n",
       "      <td>0.504</td>\n",
       "    </tr>\n",
       "    <tr>\n",
       "      <th>96</th>\n",
       "      <td>Liberia*</td>\n",
       "      <td>5.122</td>\n",
       "      <td>5.428</td>\n",
       "      <td>4.815</td>\n",
       "      <td>2.844</td>\n",
       "      <td>0.636</td>\n",
       "      <td>0.670</td>\n",
       "      <td>0.309</td>\n",
       "      <td>0.405</td>\n",
       "      <td>0.178</td>\n",
       "      <td>0.080</td>\n",
       "      <td>0.613</td>\n",
       "    </tr>\n",
       "  </tbody>\n",
       "</table>\n",
       "<p>146 rows × 12 columns</p>\n",
       "</div>"
      ],
      "text/plain": [
       "         country  happiness_score  whisker_high  whisker_low  dystopia  \\\n",
       "135        India            3.777         3.828        3.726     0.795   \n",
       "4    Netherlands            7.415         7.471        7.359     2.137   \n",
       "8         Israel            7.364         7.426        7.301     2.634   \n",
       "0        Finland            7.821         7.886        7.756     2.518   \n",
       "71         China            5.585         5.650        5.520     1.516   \n",
       "..           ...              ...           ...          ...       ...   \n",
       "115     Comoros*            4.609         4.849        4.368     2.304   \n",
       "103       Niger*            5.003         5.247        4.760     2.667   \n",
       "92       Gambia*            5.164         5.409        4.918     2.531   \n",
       "129        Chad*            4.251         4.503        3.999     2.419   \n",
       "96      Liberia*            5.122         5.428        4.815     2.844   \n",
       "\n",
       "     gdp_per_capita  social_support  life_expectancy  free_life_choices  \\\n",
       "135           1.167           0.376            0.471              0.647   \n",
       "4             1.945           1.206            0.787              0.651   \n",
       "8             1.826           1.221            0.818              0.568   \n",
       "0             1.892           1.258            0.775              0.736   \n",
       "71            1.508           0.958            0.705              0.656   \n",
       "..              ...             ...              ...                ...   \n",
       "115           0.899           0.476            0.424              0.185   \n",
       "103           0.570           0.560            0.326              0.571   \n",
       "92            0.785           0.621            0.369              0.367   \n",
       "129           0.662           0.506            0.225              0.180   \n",
       "96            0.636           0.670            0.309              0.405   \n",
       "\n",
       "     generosity  corruption_perception  confidence  \n",
       "135       0.198                  0.123       0.102  \n",
       "4         0.271                  0.419       0.112  \n",
       "8         0.155                  0.143       0.125  \n",
       "0         0.109                  0.534       0.130  \n",
       "71        0.099                  0.142       0.130  \n",
       "..          ...                    ...         ...  \n",
       "115       0.195                  0.125       0.481  \n",
       "103       0.165                  0.145       0.487  \n",
       "92        0.388                  0.103       0.491  \n",
       "129       0.182                  0.077       0.504  \n",
       "96        0.178                  0.080       0.613  \n",
       "\n",
       "[146 rows x 12 columns]"
      ]
     },
     "execution_count": 9,
     "metadata": {},
     "output_type": "execute_result"
    }
   ],
   "source": [
    "# Adding confidence column\n",
    "df[\"confidence\"] = df[\"whisker_high\"] - df[\"whisker_low\"]\n",
    "df.sort_values(\"confidence\")"
   ]
  },
  {
   "attachments": {},
   "cell_type": "markdown",
   "metadata": {},
   "source": [
    "## Hypothesis\n",
    "- No missing data\n",
    "- No outliers"
   ]
  },
  {
   "attachments": {},
   "cell_type": "markdown",
   "metadata": {},
   "source": [
    "# Visualisation"
   ]
  },
  {
   "attachments": {},
   "cell_type": "markdown",
   "metadata": {},
   "source": [
    "## Stacked barplot with confidence"
   ]
  },
  {
   "cell_type": "code",
   "execution_count": 10,
   "metadata": {},
   "outputs": [
    {
     "data": {
      "text/html": [
       "<div>\n",
       "<style scoped>\n",
       "    .dataframe tbody tr th:only-of-type {\n",
       "        vertical-align: middle;\n",
       "    }\n",
       "\n",
       "    .dataframe tbody tr th {\n",
       "        vertical-align: top;\n",
       "    }\n",
       "\n",
       "    .dataframe thead th {\n",
       "        text-align: right;\n",
       "    }\n",
       "</style>\n",
       "<table border=\"1\" class=\"dataframe\">\n",
       "  <thead>\n",
       "    <tr style=\"text-align: right;\">\n",
       "      <th></th>\n",
       "      <th>country</th>\n",
       "      <th>happiness_score</th>\n",
       "      <th>whisker_high</th>\n",
       "      <th>whisker_low</th>\n",
       "      <th>dystopia</th>\n",
       "      <th>gdp_per_capita</th>\n",
       "      <th>social_support</th>\n",
       "      <th>life_expectancy</th>\n",
       "      <th>free_life_choices</th>\n",
       "      <th>generosity</th>\n",
       "      <th>corruption_perception</th>\n",
       "      <th>confidence</th>\n",
       "    </tr>\n",
       "  </thead>\n",
       "  <tbody>\n",
       "    <tr>\n",
       "      <th>0</th>\n",
       "      <td>Finland</td>\n",
       "      <td>7.821</td>\n",
       "      <td>7.886</td>\n",
       "      <td>7.756</td>\n",
       "      <td>2.518</td>\n",
       "      <td>1.892</td>\n",
       "      <td>1.258</td>\n",
       "      <td>0.775</td>\n",
       "      <td>0.736</td>\n",
       "      <td>0.109</td>\n",
       "      <td>0.534</td>\n",
       "      <td>0.130</td>\n",
       "    </tr>\n",
       "    <tr>\n",
       "      <th>1</th>\n",
       "      <td>Denmark</td>\n",
       "      <td>7.636</td>\n",
       "      <td>7.710</td>\n",
       "      <td>7.563</td>\n",
       "      <td>2.226</td>\n",
       "      <td>1.953</td>\n",
       "      <td>1.243</td>\n",
       "      <td>0.777</td>\n",
       "      <td>0.719</td>\n",
       "      <td>0.188</td>\n",
       "      <td>0.532</td>\n",
       "      <td>0.147</td>\n",
       "    </tr>\n",
       "    <tr>\n",
       "      <th>2</th>\n",
       "      <td>Iceland</td>\n",
       "      <td>7.557</td>\n",
       "      <td>7.651</td>\n",
       "      <td>7.464</td>\n",
       "      <td>2.320</td>\n",
       "      <td>1.936</td>\n",
       "      <td>1.320</td>\n",
       "      <td>0.803</td>\n",
       "      <td>0.718</td>\n",
       "      <td>0.270</td>\n",
       "      <td>0.191</td>\n",
       "      <td>0.187</td>\n",
       "    </tr>\n",
       "  </tbody>\n",
       "</table>\n",
       "</div>"
      ],
      "text/plain": [
       "   country  happiness_score  whisker_high  whisker_low  dystopia  \\\n",
       "0  Finland            7.821         7.886        7.756     2.518   \n",
       "1  Denmark            7.636         7.710        7.563     2.226   \n",
       "2  Iceland            7.557         7.651        7.464     2.320   \n",
       "\n",
       "   gdp_per_capita  social_support  life_expectancy  free_life_choices  \\\n",
       "0           1.892           1.258            0.775              0.736   \n",
       "1           1.953           1.243            0.777              0.719   \n",
       "2           1.936           1.320            0.803              0.718   \n",
       "\n",
       "   generosity  corruption_perception  confidence  \n",
       "0       0.109                  0.534       0.130  \n",
       "1       0.188                  0.532       0.147  \n",
       "2       0.270                  0.191       0.187  "
      ]
     },
     "execution_count": 10,
     "metadata": {},
     "output_type": "execute_result"
    }
   ],
   "source": [
    "df.head(3)"
   ]
  },
  {
   "cell_type": "code",
   "execution_count": 11,
   "metadata": {},
   "outputs": [
    {
     "data": {
      "text/html": [
       "<div>\n",
       "<style scoped>\n",
       "    .dataframe tbody tr th:only-of-type {\n",
       "        vertical-align: middle;\n",
       "    }\n",
       "\n",
       "    .dataframe tbody tr th {\n",
       "        vertical-align: top;\n",
       "    }\n",
       "\n",
       "    .dataframe thead th {\n",
       "        text-align: right;\n",
       "    }\n",
       "</style>\n",
       "<table border=\"1\" class=\"dataframe\">\n",
       "  <thead>\n",
       "    <tr style=\"text-align: right;\">\n",
       "      <th></th>\n",
       "      <th>gdp_per_capita</th>\n",
       "      <th>social_support</th>\n",
       "      <th>life_expectancy</th>\n",
       "      <th>free_life_choices</th>\n",
       "      <th>generosity</th>\n",
       "      <th>corruption_perception</th>\n",
       "      <th>dystopia</th>\n",
       "      <th>happiness_score</th>\n",
       "      <th>lower</th>\n",
       "      <th>upper</th>\n",
       "    </tr>\n",
       "    <tr>\n",
       "      <th>country</th>\n",
       "      <th></th>\n",
       "      <th></th>\n",
       "      <th></th>\n",
       "      <th></th>\n",
       "      <th></th>\n",
       "      <th></th>\n",
       "      <th></th>\n",
       "      <th></th>\n",
       "      <th></th>\n",
       "      <th></th>\n",
       "    </tr>\n",
       "  </thead>\n",
       "  <tbody>\n",
       "    <tr>\n",
       "      <th>Afghanistan</th>\n",
       "      <td>0.758</td>\n",
       "      <td>0.000</td>\n",
       "      <td>0.289</td>\n",
       "      <td>0.000</td>\n",
       "      <td>0.089</td>\n",
       "      <td>0.005</td>\n",
       "      <td>1.263</td>\n",
       "      <td>2.404</td>\n",
       "      <td>2.3390</td>\n",
       "      <td>2.4690</td>\n",
       "    </tr>\n",
       "    <tr>\n",
       "      <th>Lebanon</th>\n",
       "      <td>1.392</td>\n",
       "      <td>0.498</td>\n",
       "      <td>0.631</td>\n",
       "      <td>0.103</td>\n",
       "      <td>0.082</td>\n",
       "      <td>0.034</td>\n",
       "      <td>0.216</td>\n",
       "      <td>2.955</td>\n",
       "      <td>2.8615</td>\n",
       "      <td>3.0485</td>\n",
       "    </tr>\n",
       "    <tr>\n",
       "      <th>Zimbabwe</th>\n",
       "      <td>0.947</td>\n",
       "      <td>0.690</td>\n",
       "      <td>0.270</td>\n",
       "      <td>0.329</td>\n",
       "      <td>0.106</td>\n",
       "      <td>0.105</td>\n",
       "      <td>0.548</td>\n",
       "      <td>2.995</td>\n",
       "      <td>2.8800</td>\n",
       "      <td>3.1100</td>\n",
       "    </tr>\n",
       "  </tbody>\n",
       "</table>\n",
       "</div>"
      ],
      "text/plain": [
       "             gdp_per_capita  social_support  life_expectancy  \\\n",
       "country                                                        \n",
       "Afghanistan           0.758           0.000            0.289   \n",
       "Lebanon               1.392           0.498            0.631   \n",
       "Zimbabwe              0.947           0.690            0.270   \n",
       "\n",
       "             free_life_choices  generosity  corruption_perception  dystopia  \\\n",
       "country                                                                       \n",
       "Afghanistan              0.000       0.089                  0.005     1.263   \n",
       "Lebanon                  0.103       0.082                  0.034     0.216   \n",
       "Zimbabwe                 0.329       0.106                  0.105     0.548   \n",
       "\n",
       "             happiness_score   lower   upper  \n",
       "country                                       \n",
       "Afghanistan            2.404  2.3390  2.4690  \n",
       "Lebanon                2.955  2.8615  3.0485  \n",
       "Zimbabwe               2.995  2.8800  3.1100  "
      ]
     },
     "execution_count": 11,
     "metadata": {},
     "output_type": "execute_result"
    }
   ],
   "source": [
    "df_factors = df.copy()\n",
    "df_factors.drop(axis=1, columns=[\"dystopia\",\"whisker_high\",\"whisker_low\",\"happiness_score\",\"confidence\"], inplace=True)\n",
    "df_factors[\"dystopia\"] = df[\"dystopia\"]\n",
    "df_factors[\"happiness_score\"] = df[\"happiness_score\"]\n",
    "df_factors[\"lower\"] = df[\"happiness_score\"] - df[\"confidence\"]/2\n",
    "df_factors[\"upper\"] = df[\"happiness_score\"] + df[\"confidence\"]/2\n",
    "df_factors.sort_values(\"happiness_score\",inplace=True)\n",
    "df_i = df_factors.set_index(\"country\").copy()\n",
    "df_i.head(3)\n"
   ]
  },
  {
   "cell_type": "code",
   "execution_count": 24,
   "metadata": {},
   "outputs": [],
   "source": [
    "df_factors.to_csv(\"data.csv\")"
   ]
  },
  {
   "cell_type": "code",
   "execution_count": 25,
   "metadata": {},
   "outputs": [
    {
     "data": {
      "text/html": [
       "\n",
       "  <div id=\"f7af6f8e-ac28-4be6-aa24-f49e4c77451f\" data-root-id=\"p1611\" style=\"display: contents;\"></div>\n"
      ]
     },
     "metadata": {},
     "output_type": "display_data"
    },
    {
     "data": {
      "application/javascript": "(function(root) {\n  function embed_document(root) {\n  const docs_json = {\"d2a9d73d-f4cb-41ba-aa02-17ea71f9eab4\":{\"version\":\"3.2.1\",\"title\":\"Bokeh Application\",\"roots\":[{\"type\":\"object\",\"name\":\"Figure\",\"id\":\"p1611\",\"attributes\":{\"width\":1300,\"height\":2300,\"x_range\":{\"type\":\"object\",\"name\":\"DataRange1d\",\"id\":\"p1613\",\"attributes\":{\"range_padding\":0}},\"y_range\":{\"type\":\"object\",\"name\":\"FactorRange\",\"id\":\"p1621\",\"attributes\":{\"factors\":[\"Afghanistan\",\"Lebanon\",\"Zimbabwe\",\"Rwanda*\",\"Botswana*\",\"Lesotho*\",\"Sierra Leone\",\"Tanzania\",\"Malawi\",\"Zambia\",\"India\",\"Togo\",\"Jordan\",\"Mauritania*\",\"Yemen*\",\"Ethiopia\",\"Chad*\",\"Egypt\",\"Madagascar*\",\"Sri Lanka\",\"Myanmar\",\"Eswatini, Kingdom of*\",\"Namibia\",\"Mali\",\"Palestinian Territories*\",\"Pakistan\",\"Tunisia\",\"Kenya\",\"Nigeria\",\"Uganda\",\"Comoros*\",\"Benin\",\"Cambodia\",\"Burkina Faso\",\"Turkey\",\"Ghana\",\"Iran\",\"Guinea\",\"Venezuela\",\"Iraq\",\"Gabon\",\"Georgia\",\"Niger*\",\"Senegal\",\"Cameroon\",\"Mozambique\",\"Morocco\",\"Congo\",\"Ukraine\",\"Liberia*\",\"Algeria\",\"Laos\",\"Bangladesh\",\"Gambia*\",\"Azerbaijan*\",\"South Africa\",\"North Macedonia\",\"Albania\",\"Ivory Coast\",\"Indonesia\",\"Libya*\",\"Bulgaria\",\"Nepal\",\"Tajikistan\",\"Armenia\",\"Hong Kong S.A.R. of China\",\"Russia\",\"North Cyprus*\",\"Turkmenistan*\",\"Vietnam\",\"Ecuador\",\"Montenegro\",\"Peru\",\"Paraguay\",\"China\",\"Bolivia\",\"Malaysia\",\"Dominican Republic\",\"Mongolia\",\"Bosnia and Herzegovina\",\"Colombia\",\"Belarus*\",\"Kyrgyzstan\",\"Jamaica\",\"Moldova\",\"Thailand\",\"Philippines\",\"South Korea\",\"Greece\",\"Argentina\",\"Portugal\",\"Honduras\",\"Japan\",\"Uzbekistan\",\"Mauritius\",\"Hungary\",\"Kuwait*\",\"El Salvador\",\"Poland\",\"Croatia\",\"Mexico\",\"Nicaragua\",\"Chile\",\"Serbia\",\"Latvia\",\"Cyprus\",\"Kazakhstan\",\"Guatemala*\",\"Brazil\",\"Panama\",\"Estonia\",\"Slovakia\",\"Lithuania\",\"Malta\",\"Kosovo\",\"Italy\",\"Uruguay\",\"Spain\",\"Romania\",\"Singapore\",\"Taiwan Province of China\",\"Saudi Arabia\",\"United Arab Emirates\",\"Costa Rica\",\"Slovenia\",\"Bahrain\",\"France\",\"Belgium\",\"Czechia\",\"United Kingdom\",\"United States\",\"Canada\",\"Germany\",\"Ireland\",\"Australia\",\"Austria\",\"New Zealand\",\"Israel\",\"Norway\",\"Sweden\",\"Luxembourg*\",\"Netherlands\",\"Switzerland\",\"Iceland\",\"Denmark\",\"Finland\"],\"range_padding\":0.05}},\"x_scale\":{\"type\":\"object\",\"name\":\"LinearScale\",\"id\":\"p1622\"},\"y_scale\":{\"type\":\"object\",\"name\":\"CategoricalScale\",\"id\":\"p1623\"},\"title\":{\"type\":\"object\",\"name\":\"Title\",\"id\":\"p1614\",\"attributes\":{\"text\":\"Happiness score\",\"text_color\":\"#E0E0E0\",\"text_font\":\"Helvetica\",\"text_font_size\":\"1.15em\"}},\"outline_line_color\":\"#E0E0E0\",\"outline_line_alpha\":0.25,\"renderers\":[{\"type\":\"object\",\"name\":\"GlyphRenderer\",\"id\":\"p1662\",\"attributes\":{\"name\":\"gdp_per_capita\",\"data_source\":{\"type\":\"object\",\"name\":\"ColumnDataSource\",\"id\":\"p1608\",\"attributes\":{\"selected\":{\"type\":\"object\",\"name\":\"Selection\",\"id\":\"p1609\",\"attributes\":{\"indices\":[],\"line_indices\":[]}},\"selection_policy\":{\"type\":\"object\",\"name\":\"UnionRenderers\",\"id\":\"p1610\"},\"data\":{\"type\":\"map\",\"entries\":[[\"country\",{\"type\":\"ndarray\",\"array\":[\"Afghanistan\",\"Lebanon\",\"Zimbabwe\",\"Rwanda*\",\"Botswana*\",\"Lesotho*\",\"Sierra Leone\",\"Tanzania\",\"Malawi\",\"Zambia\",\"India\",\"Togo\",\"Jordan\",\"Mauritania*\",\"Yemen*\",\"Ethiopia\",\"Chad*\",\"Egypt\",\"Madagascar*\",\"Sri Lanka\",\"Myanmar\",\"Eswatini, Kingdom of*\",\"Namibia\",\"Mali\",\"Palestinian Territories*\",\"Pakistan\",\"Tunisia\",\"Kenya\",\"Nigeria\",\"Uganda\",\"Comoros*\",\"Benin\",\"Cambodia\",\"Burkina Faso\",\"Turkey\",\"Ghana\",\"Iran\",\"Guinea\",\"Venezuela\",\"Iraq\",\"Gabon\",\"Georgia\",\"Niger*\",\"Senegal\",\"Cameroon\",\"Mozambique\",\"Morocco\",\"Congo\",\"Ukraine\",\"Liberia*\",\"Algeria\",\"Laos\",\"Bangladesh\",\"Gambia*\",\"Azerbaijan*\",\"South Africa\",\"North Macedonia\",\"Albania\",\"Ivory Coast\",\"Indonesia\",\"Libya*\",\"Bulgaria\",\"Nepal\",\"Tajikistan\",\"Armenia\",\"Hong Kong S.A.R. of China\",\"Russia\",\"North Cyprus*\",\"Turkmenistan*\",\"Vietnam\",\"Ecuador\",\"Montenegro\",\"Peru\",\"Paraguay\",\"China\",\"Bolivia\",\"Malaysia\",\"Dominican Republic\",\"Mongolia\",\"Bosnia and Herzegovina\",\"Colombia\",\"Belarus*\",\"Kyrgyzstan\",\"Jamaica\",\"Moldova\",\"Thailand\",\"Philippines\",\"South Korea\",\"Greece\",\"Argentina\",\"Portugal\",\"Honduras\",\"Japan\",\"Uzbekistan\",\"Mauritius\",\"Hungary\",\"Kuwait*\",\"El Salvador\",\"Poland\",\"Croatia\",\"Mexico\",\"Nicaragua\",\"Chile\",\"Serbia\",\"Latvia\",\"Cyprus\",\"Kazakhstan\",\"Guatemala*\",\"Brazil\",\"Panama\",\"Estonia\",\"Slovakia\",\"Lithuania\",\"Malta\",\"Kosovo\",\"Italy\",\"Uruguay\",\"Spain\",\"Romania\",\"Singapore\",\"Taiwan Province of China\",\"Saudi Arabia\",\"United Arab Emirates\",\"Costa Rica\",\"Slovenia\",\"Bahrain\",\"France\",\"Belgium\",\"Czechia\",\"United Kingdom\",\"United States\",\"Canada\",\"Germany\",\"Ireland\",\"Australia\",\"Austria\",\"New Zealand\",\"Israel\",\"Norway\",\"Sweden\",\"Luxembourg*\",\"Netherlands\",\"Switzerland\",\"Iceland\",\"Denmark\",\"Finland\"],\"shape\":[146],\"dtype\":\"object\",\"order\":\"little\"}],[\"gdp_per_capita\",{\"type\":\"ndarray\",\"array\":{\"type\":\"bytes\",\"data\":\"SgxCPw4tsj+YbnI/w/VIP05iwD+0yFY/sp0vP4cWWT9U4yU/exRuP0JglT9CYEU/1XipP83MjD9g5TA/XrpJP9V4KT/8qbE/H4UrP7getT8v3YQ/bxKjP0JgpT+DwEo/qvGSP6JFhj/NzKw/kxiEP6wcij956UY/3SRmP42Xbj+YboI/i2xHP/p+2j8EVo4/4Xq0P4cWWT8AAAAA9P2kP4PAuj+oxrs/hesRPxfZbj/Zznc/z/cTP76fmj8zM3M/ppu0P+XQIj/Jdq4/jZeePxSuhz/D9Ug/vp+6P2Zmtj/Xo8A/JzG4PzEIjD9g5bA/ke28PwAA0D9t53s/x0t3P1CNtz/6fvo/FK7XP+xR6D+2870/iUGgP1YOrT8QWMk/5dCyPx1atD8lBsE/nMSgPycx2D8v3cQ/002yP23nuz8j27k/nu/HP/7UiD9U46U/QmC1P+F6xD/TTaI/ke3sP+f72T+oxss/rkfhPz81jj9I4eo/MQicP+Olyz93vt8/RrbzP4XroT8lBuE/cT3aP/Cnxj+kcI0/+FPTP2Zmxj8tst0/7FHoPwaB1T9vEqM/0SK7Px+F2z8GgeU/PzXeP3np5j+WQ+s/BFauP4PA6j9SuM4/i2znPzEI3D83iQlA5dDyPylc7z93vv8/g8DKPxSu5z/fT+0/yXbuP5MY9D/sUeg/2/nuPy2y/T9zaPE/okX2P4lBCEAzM/M/Aiv3P1YO7T9euuk/sp3/P4/C9T9CYA1Aw/X4P/ypAUDZzvc/5/v5Pw4t8j8=\"},\"shape\":[146],\"dtype\":\"float32\",\"order\":\"little\"}],[\"social_support\",{\"type\":\"ndarray\",\"array\":{\"type\":\"bytes\",\"data\":\"AAAAANv5/j7XozA/JzEIPtejUD+HFlk/9P3UPv7UGD8X2Y4+RrYTPxKDwD4v3aQ+EFg5P6RwXT8GgYU/oBpPPzeJAT9aZDs/uB4lP6Aabz9YOVQ/TDdJPxKDYD/HS/c+9P10P7x00z51kxg/SOEaP1pkOz8AAGA/RrbzPm8Sgz1aZDs/16MQP6RwXT/sURg/LbI9P2DlED/Zznc/jZcuP5HtPD8IrBw/KVwPPxSuBz8xCCw/w/UoP0w3iT4pXM8+NV6KPx+FKz/sUXg/i2wnPxsvHT/b+R4/beeLP5ZDiz+R7Vw/QmAlP9NN4j5KDGI/c2hxPy/dlD85tEg/16OAP4XrUT9YOXQ/9iiMP/hTYz/+1Kg/jZduPyUGYT+q8YI/pHBdP9ejkD99P3U/rkdhP8UgcD9OYoA/TDeZPzm0iD/y0m0/kxiUP7bzjT+PwoU/JQaBP7pJjD/VeGk/5dBiP0jhej9WDo0/5/uJP1yPYj9aZIs/qMaLPxfZjj/y0p0/46V7P6abRD+iRZY/i2yXP+XQYj9GtoM/cT2KPwwCiz+6SZw/ObRoP/YonD9qvFQ/y6GFPy2yjT8tsp0/LbKdP6wcmj/LoZU/qvFyP/Cnhj89Cpc/DAKbP5zEgD+JQZA/9iiMP6jGiz9I4Xo/eemGPzvfnz9GtoM/MQicP2iRjT+uR6E/002SP8dLlz9iEJg/lkOLP30/lT/n+5k/uB6VP3sUnj+6SZw/jZeeP6wcmj8K15M/NV6aP5HtnD/D9ag/oBqfPyUGoT8=\"},\"shape\":[146],\"dtype\":\"float32\",\"order\":\"little\"}],[\"life_expectancy\",{\"type\":\"ndarray\",\"array\":{\"type\":\"bytes\",\"data\":\"z/eTPjeJIT9xPYo+RIvsPilcjz4AAAAAqMaLPpqZ2T7wp8Y+CKycPukm8T7sUbg+zcwsP2Zm5j6mm8Q+5/vpPmZmZj66SQw/N4nBPsP1KD9aZPs+XrpJPn0/tT5kO58+QmAFP+58vz6e7yc/30/NPpqZmT4ZBNY+hxbZPh+Fqz6uRwE/CtejPka2Mz9zaNE+HVokP83MjD7P9xM/8tINP4PAyj7sURg/eemmPi/d5D7TTaI+gZVDPtejED+PwrU+fT8VPz81nj6mmyQ/fT/1Pmq8FD+R7bw+KVwPP/7UuD5vEiM/YhA4Py/dpD7n+wk/0SIbPwrXIz/ufP8+ppsEPwwCKz/pJnE/GQQWP/ypUT+TGAQ/f2ocP30/NT85tCg/9ig8P3e+Hz/hejQ/exQOP1K4Hj9GthM/oBrvPnE9Kj/sUTg/JQYhP/hTIz9CYCU//tQYP5huMj+BlQM/x0tXP90kRj/VeCk/eelGP3sUDj8tsl0/mpkZP3NoET8MAis/ZDs/P1pkGz+iRTY/BoE1P+58Hz+28x0/7nw/P7ByKD9vEiM//KlRP39qHD/LoQU/pHAdPwaBNT81Xjo/9P00Pzm0KD/n+0k//KkRP1YOTT8xCCw/F9lOPxSuJz8j21k/46U7P0a2Ez9KDCI/yXY+Py/dRD8AACA/F9lOP4GVQz89Cjc/AABAP5zEID+wckg/8KdGP4tsRz/LoUU/3SRGPxKDQD9zaFE/TDdJP2iRTT9xPUo/1XhJP5huUj9okU0/eelGP2ZmRj8=\"},\"shape\":[146],\"dtype\":\"float32\",\"order\":\"little\"}],[\"free_life_choices\",{\"type\":\"ndarray\",\"array\":{\"type\":\"bytes\",\"data\":\"AAAAAKrx0j2wcqg+2/kePw4tEj8rh9Y+3STGPs/3Ez9YOfQ+ZmYGP8uhJT8GgZU+RrbzPuOlmz7D9ag+/KnxPuxROD7FIPA+F9lOPotsBz/4UwM/ppuEPqabxD4zM7M+MQisPkJg5T7ByqE+rkfhPvhT4z7y0s0+pHA9Pn0/9T6kcD0/gZXDPhkEVj4AAAA/O9+PPgwCqz5g5ZA+nu+nPrKdrz5KDAI/Di0SP5Ht/D6WQ8s+2c4XP23n+z4IrNw+Di3yPilczz4GgRU+8tItP2Q7Hz9t57s+I9sZP9NN4j4j2/k+5dACP3np5j5SuB4/WDn0PsUgED8v3QQ/mG4SPxfZDj/NzMw+30/NPlTjBT/dJCY/9P00P9ejED8fhes+H4ULPyUGIT+e7yc/EoMgP4tsJz/RIhs/qMbLPkJg5T4fhQs/oBqvPnNoMT/pJhE/sp0PP7bzHT9okS0/z/fTPtv5fj57FA4/FK4nP/T9FD/VeAk/x0s3P7TIFj/sUfg+tvMdP/p+Kj9U4wU/w/UIP9v5Hj+28x0/H4XrPqjGCz8SgwA/QmDlPgaBFT/VeCk/qMYLP1CNFz9OYjA/fT/1Prbz/T7y0i0/EFgZP6rx0j5xPSo/rkcBP0jhGj8xCCw/g8AKP/CnJj9GtjM/TDcpPylcLz9zaDE/6SYRP23n+z7D9Sg//tQYP6rxEj85tCg/j8IVPxKDID9WDi0/7nwfP3sULj9zaBE/NV46PxBYOT8zMzM/8KcmP99PLT/Zzjc/YhA4P39qPD8=\"},\"shape\":[146],\"dtype\":\"float32\",\"order\":\"little\"}],[\"generosity\",{\"type\":\"ndarray\",\"array\":{\"type\":\"bytes\",\"data\":\"okW2PZ7vpz2HFtk97nw/PqabRDzjpZs9F9lOPrbzfT4pXA8+O99PPoPASj4OLTI+aJFtPVg5tD3sUbg9hetRPjVeOj6e7yc9mG4SPpqZGT6LbOc+46UbPUw3iT1vEgM+BoGVPRBYOT5oke08L92kPjMzMz74U2M+FK5HPkoMAj7n+yk+yXY+Pg4tsj0fhWs+tMh2PtEiWz5mZmY+K4cWPm8SAz0AAAAAw/UoPphuEj7jpRs+pHA9PgrXozy4HgU+EoNAPqJFNj6HFtk9XrpJPgAAAD7wp8Y+f2q8PKJFtj32KFw+308NPnWTGD6yne8+hxbZPW3n+z0hsHI+/KnxPRsvXT0rhxY+sp3vPbgeBT6cxKA+mG4SPgrXoz1xPQo+7FG4PaAaLz6DwMo9QmDlPawcWj4xCKw9ke18PiPbeT4OLbI9CtcjPfT9VD4K16M9YOXQPR1apD7RIts9+FPjPY/CdTxU46U9bxKDPBfZTj5CYOU7YOWQPt0kBj53vp89Di2yPaJFtj228/09ZDvfPX9qvD0xCCw+tvP9PYlBYD6amZk9bef7PUw3CT5CYOU93SQGPjm0SD1t5/s9/KnxPYcWWT0OLTI+PzWePnsUrj2q8dI9F9nOPXe+Hz156SY+mpmZPXe+nz1g5VA+okW2Pfyp8T2oxks+KVyPPTm0SD3ByiE+z/eTPq5HYT4/NV4+eekmPlyPQj6TGIQ+y6FFPkjhej5SuB4+PzVePmQ7Xz6PwvU9g8CKPiuHFj5xPYo+EoNAPmQ73z0=\"},\"shape\":[146],\"dtype\":\"float32\",\"order\":\"little\"}],[\"corruption_perception\",{\"type\":\"ndarray\",\"array\":{\"type\":\"bytes\",\"data\":\"CtejO5ZDCz09Ctc9lkMLP2Dl0D28dJM8rkdhPXE9ij6cxCA+5/upPW3n+z0CKwc+zcxMPt9PDT45tMg9lkMLPi2ynT1KDII+LbIdPsHKoT3wp0Y+LbIdPnNokT0xCCw9wcqhPUJg5T1oke08nu+nPeOlGz0CK4c9AAAAPh+Faz6WQ4s9JQYBPh+F6z1CYGU9BoEVPmiR7T2e76c9f2o8PYPAyj30/VQ+4XoUPlTjpT1QjZc9zcxMPmDl0D0GgRU+lkOLPArXoz2amRk+f2o8Pu58Pz6q8dI9jZeuPn9qPD228/08QmDlPLbz/T0Sg0A9x0s3PjEIrDy4HgU+46WbPj0KVz6TGMQ+CtejPawcWj5vEgM9PQrXPef7qT0tsp09UI0XPfypcT1zaBE+bxKDPSUGAT7HSzc+/KlxPaabxDstsp09TmKQPs3MzDyHFlk9QmDlPPT91DxzaBE+WDk0Phsv3T17FK49d74fPeOlmz1kO18+j8J1PtEi2z1vEoM9K4cWPocWWT4pXA8+AAAAAB+F6z2HFlk+30+NPVg5tD3sUbg9tvN9PZzEID4fhes9TDcJPmDlUD36fqo+zczMPC2ynT3n+yk+KVwPPfypcT0Uroc+dZMYPqabxDuiRRY/MQgsPuxROD4AAIA+YOXQPR+F6z1SuB4+JzGIPmDlUD6mm0Q9sHKoPn0/NT5/arw+x0u3PmDl0D6Nl64+sHKoPsdL9z6YbhI+IbDyPm8SAz/wp8Y+K4fWPjEI7D6BlUM+JzEIPzm0CD8=\"},\"shape\":[146],\"dtype\":\"float32\",\"order\":\"little\"}],[\"dystopia\",{\"type\":\"ndarray\",\"array\":{\"type\":\"bytes\",\"data\":\"/KmhPxsvXT66SQw/TDcJP+58Pz6e76c/AivHP/YoPD+mm9Q/rkeRPx+FSz9t5wNAhesxP/p+mj/Zzsc/AACwP+XQGkDRIls/1XgJQOxRGD8Sg2A/YhDYP/T9tD873xdAoBqvP+xR+D+4HsU/ppvUPx1a5D+oxus/vHQTQN9PHUDherQ/MQgUQFCNhz9/avw/8Ke2P5huIkBcjzJAmG7yPw4t8j++n8o/IbAqQOXQGkAZBB5AJQYpQIXrGUCsHCpANV6qPxkENkBkO98/g8DaP6jG+z/n+yFARIuMP9v53j8MArs/befbP166KUBmZqY/y6HFP3sUnj8EVg5AXI/yP0a20z8dWiQ/ZDu/P+f7iT/hepQ/exTePxfZ7j9kO88/hevxPz0Kxz9KDMI/F9kGQLpJvD/FIOA/O9//P2Q77z+6Sfw/2c7nP2iRBUD6fgpAhxYJQM3MzD+sHBJAz/fTP7KdB0BKDPI/sHLYP6AaJ0AEVr4/L930PzEI/D+e7+c/7nzPP2DlIEA5tNg/6SbxP8dLD0CDwBpAXI8CQOf7AUDdJPY/5dACQHsU7j93vi9AoBoXQAaBBUB1k7g/GQQGQMHKCUCcxNA/TmIoQD81DkAIrPw/003yP0SLHECNl24/xSAAQM3MBEBQjec/3SQWQK5H8T9U4wVAXI/yP6wcEkD+1BBAqMb7Py2yDUCiRfY/hxYJQKAa3z85tABA1XgJQKwc+j91kyhAZmb2PycxAEAhsAJAnMQIQMHKCUDhehRAyXYOQOkmIUA=\"},\"shape\":[146],\"dtype\":\"float32\",\"order\":\"little\"}],[\"happiness_score\",{\"type\":\"ndarray\",\"array\":{\"type\":\"bytes\",\"data\":\"I9sZQLgePUAUrj9A6SZRQN0kXkCcxGBAarxkQJHtbEAAAHBA16NwQF66cUCBlYNAL92EQGDlhEDTTYZARraHQDEIiEBMN4lAF9mKQIGVi0Cmm4xACKyMQCGwjkD4U49AvHSPQBKDkEASg5BAQmCRQPypkUDHS5NA7nyTQJ7vk0DhepRApHCVQNnOl0Bt55tAf2qcQBKDnECamZ1ArByeQPCnnkDRIp9AkxigQNV4oUA3iaFAN4mhQIXroUBmZqJAIbCiQG3no0Bt56NA4XqkQMP1pEB9P6VAN4mlQD81pkA1XqZANV6mQB+Fp0AUrqdAXI+qQDvfq0BiEKxAYhCsQJzErECama1AIbCuQKrxrkACK69AH4WvQFYOsUAGgbFAVOOxQPp+skBSuLJAMzOzQIPAtkCBlbdAHVq4QHWTuED0/bhAokW6QPp+ukAzM7tAi2y7QBKDvECR7bxAheu9QARWvkCq8b5AEoPAQDm0wEB9P8FAGQTCQKJFwkCDwMJAWmTDQArXw0Ce78NAAADEQJMYxECuR8VABoHFQC2yxUCPwsVAbxLHQO58x0BOYshAQmDJQFTjyUB56cpAEoPMQKJFzkDTTc5AXI/OQKrxzkACK89AZDvPQJZDz0ApXM9ATmLQQGq80ECYbtJAvp/SQPYo1EA5tNRA5/vVQI/C2UCkcN1ADi3eQJZD30DNzOBAhxbhQN9P4UAbL+VATDflQGZm5kDjpetAFK7rQLpJ7ECR7exArkftQE5i8EDy0vFAHVr0QKJF+kA=\"},\"shape\":[146],\"dtype\":\"float32\",\"order\":\"little\"}],[\"lower\",{\"type\":\"ndarray\",\"array\":{\"type\":\"bytes\",\"data\":\"LbIVQNAiN0DsUThAarxEQJqZUUD8qVFAvp9aQBSuY0DZzmNAUI1nQMh2bkDD9XxAeOmAQMzMfEDsUYBAkMKDQJ7vf0AdWoZAaryEQIGVh0Av3YhAheuFQIBqikCgGotAsp2JQFK4jEBg5YxAYOWMQPp+jkAhsI5AwcqLQHe+j0D6fpBAFtmQQI6XlEAK15dA3PmYQKwcmECClZlAVg6ZQIBqmkB3vptA0k2YQNV4nUA9Cp1ABFaaQDEInkCuR51Ax0ufQJQYmkCq8aBAXI+gQFCNoUBaZJ1AppuiQARWokA9CqNAsHKiQGu8okCwcqRAj8KjQFg5qEBKDKhAAiupQHnpqEDqJqtAXI+sQGZmqkAi26tAzcysQGQ7rUBMN61ASgyuQKrxrkDXo7BARravQOJ6skBkO7NA5KW1QIgWtUCIFrVA9ii2QC6yt0DkpbVAEoO4QEw3uUCynblAAiu7QMZLu0AMArtA0CK9QChcu0AhsL5ABFa+QPCnvkAfhb9AlkO/QBSuv0DHS8FAILDAQFyPwEBcj8BAvp/CQOf7wUBBYMNAbefDQIBqxEBKDMJAynbGQJHtxEArh8hA2c7JQHNoy0DufMtAFtnKQMqhy0AdWsxARIvMQMYgzEAsh8xARrbNQIYWzUB4vs9AWmTPQBBY0UDIdtBALLLTQD0K10C289lAj8LbQJhu3EAOLd5AukneQIPA3kB1k+JAF9niQCLb40DjpelArkfpQGIQ6kDy0ulA7nzrQAAA7kD+1O5AAADyQCcx+EA=\"},\"shape\":[146],\"dtype\":\"float32\",\"order\":\"little\"}],[\"upper\",{\"type\":\"ndarray\",\"array\":{\"type\":\"bytes\",\"data\":\"GQQeQKAaQ0A8CkdAaJFdQCCwakA8329AFtluQA4tdkAnMXxAXrp5QPT9dEAgsIhA5tCIQFpki0C6SYxA/KmLQJMYkEB7FIxAxPWQQIGVj0AdWpBAi2yTQML1kkBQjZNAxkuVQNJNlEDEIJRAJNuVQP7UlEBt55dAGy+bQMUgmEDIdphAMgiaQCQGm0DQ959AItufQHjpoECynaFAAiujQGDlokArh6JAVOOnQNV4pUAxCKZAaryoQNnOpUAehadAexSmQEa2rUAw3aZAZmaoQDZeqECgGq1AyHaoQHoUqkAtsqlAukmqQNNNrEB46apAKVyxQB6Fr0B6FLBAwvWuQL+fsEBKDLBA5tCwQO58s0DierJAcT2yQEjhtEDAyrVAXrq1QEoMtkDNzLRAILC2QCQGu0Ce77tAVg67QGIQvEBg5bxATmK+QMZLvUCCwMBABFa+QNjOv0BwPcBACKzAQEJgwUBI4cJAVOPDQEoMxkDZzsNALrLFQFTjxUDn+8VAHoXHQAAAyEB1k8ZA4E/HQMqhx0AAAMpATmLIQHNoyUDdJMhAcT3KQFyPykBSuM5AuknMQBfZzkDHS81ASzfPQNEi0UC4HtFAokXSQIpB0kDn+9FAhOvRQGZm0kAmMdJAVg7TQE5i1EC4HtVAItvVQNz51kCq8dhAokXYQOF63ECS7eBAjZfgQJQY4kCMbONAVOPjQDvf40DByudAgZXnQKrx6EDjpe1AehTuQBKD7kAwCPBAbhLvQJzE8kDm0PRAOrT2QB1a/EA=\"},\"shape\":[146],\"dtype\":\"float32\",\"order\":\"little\"}]]}}},\"view\":{\"type\":\"object\",\"name\":\"CDSView\",\"id\":\"p1663\",\"attributes\":{\"filter\":{\"type\":\"object\",\"name\":\"AllIndices\",\"id\":\"p1664\"}}},\"glyph\":{\"type\":\"object\",\"name\":\"HBar\",\"id\":\"p1659\",\"attributes\":{\"y\":{\"type\":\"field\",\"field\":\"country\"},\"height\":{\"type\":\"value\",\"value\":0.9},\"left\":{\"type\":\"expr\",\"expr\":{\"type\":\"object\",\"name\":\"Stack\",\"id\":\"p1642\",\"attributes\":{\"fields\":[]}}},\"right\":{\"type\":\"expr\",\"expr\":{\"type\":\"object\",\"name\":\"Stack\",\"id\":\"p1643\",\"attributes\":{\"fields\":[\"gdp_per_capita\"]}}},\"line_color\":{\"type\":\"value\",\"value\":\"#1f77b4\"},\"line_alpha\":{\"type\":\"value\",\"value\":0.6},\"fill_color\":{\"type\":\"value\",\"value\":\"#1f77b4\"},\"fill_alpha\":{\"type\":\"value\",\"value\":0.6},\"hatch_color\":{\"type\":\"value\",\"value\":\"#1f77b4\"},\"hatch_alpha\":{\"type\":\"value\",\"value\":0.6}}},\"nonselection_glyph\":{\"type\":\"object\",\"name\":\"HBar\",\"id\":\"p1660\",\"attributes\":{\"y\":{\"type\":\"field\",\"field\":\"country\"},\"height\":{\"type\":\"value\",\"value\":0.9},\"left\":{\"type\":\"expr\",\"expr\":{\"id\":\"p1642\"}},\"right\":{\"type\":\"expr\",\"expr\":{\"id\":\"p1643\"}},\"line_color\":{\"type\":\"value\",\"value\":\"#1f77b4\"},\"line_alpha\":{\"type\":\"value\",\"value\":0.1},\"fill_color\":{\"type\":\"value\",\"value\":\"#1f77b4\"},\"fill_alpha\":{\"type\":\"value\",\"value\":0.1},\"hatch_color\":{\"type\":\"value\",\"value\":\"#1f77b4\"},\"hatch_alpha\":{\"type\":\"value\",\"value\":0.1}}},\"muted_glyph\":{\"type\":\"object\",\"name\":\"HBar\",\"id\":\"p1661\",\"attributes\":{\"y\":{\"type\":\"field\",\"field\":\"country\"},\"height\":{\"type\":\"value\",\"value\":0.9},\"left\":{\"type\":\"expr\",\"expr\":{\"id\":\"p1642\"}},\"right\":{\"type\":\"expr\",\"expr\":{\"id\":\"p1643\"}},\"line_color\":{\"type\":\"value\",\"value\":\"#1f77b4\"},\"line_alpha\":{\"type\":\"value\",\"value\":0.2},\"fill_color\":{\"type\":\"value\",\"value\":\"#1f77b4\"},\"fill_alpha\":{\"type\":\"value\",\"value\":0.2},\"hatch_color\":{\"type\":\"value\",\"value\":\"#1f77b4\"},\"hatch_alpha\":{\"type\":\"value\",\"value\":0.2}}}}},{\"type\":\"object\",\"name\":\"GlyphRenderer\",\"id\":\"p1673\",\"attributes\":{\"name\":\"social_support\",\"data_source\":{\"id\":\"p1608\"},\"view\":{\"type\":\"object\",\"name\":\"CDSView\",\"id\":\"p1674\",\"attributes\":{\"filter\":{\"type\":\"object\",\"name\":\"AllIndices\",\"id\":\"p1675\"}}},\"glyph\":{\"type\":\"object\",\"name\":\"HBar\",\"id\":\"p1670\",\"attributes\":{\"y\":{\"type\":\"field\",\"field\":\"country\"},\"height\":{\"type\":\"value\",\"value\":0.9},\"left\":{\"type\":\"expr\",\"expr\":{\"type\":\"object\",\"name\":\"Stack\",\"id\":\"p1644\",\"attributes\":{\"fields\":[\"gdp_per_capita\"]}}},\"right\":{\"type\":\"expr\",\"expr\":{\"type\":\"object\",\"name\":\"Stack\",\"id\":\"p1645\",\"attributes\":{\"fields\":[\"gdp_per_capita\",\"social_support\"]}}},\"line_color\":{\"type\":\"value\",\"value\":\"#ff7f0e\"},\"line_alpha\":{\"type\":\"value\",\"value\":0.6},\"fill_color\":{\"type\":\"value\",\"value\":\"#ff7f0e\"},\"fill_alpha\":{\"type\":\"value\",\"value\":0.6},\"hatch_color\":{\"type\":\"value\",\"value\":\"#ff7f0e\"},\"hatch_alpha\":{\"type\":\"value\",\"value\":0.6}}},\"nonselection_glyph\":{\"type\":\"object\",\"name\":\"HBar\",\"id\":\"p1671\",\"attributes\":{\"y\":{\"type\":\"field\",\"field\":\"country\"},\"height\":{\"type\":\"value\",\"value\":0.9},\"left\":{\"type\":\"expr\",\"expr\":{\"id\":\"p1644\"}},\"right\":{\"type\":\"expr\",\"expr\":{\"id\":\"p1645\"}},\"line_color\":{\"type\":\"value\",\"value\":\"#ff7f0e\"},\"line_alpha\":{\"type\":\"value\",\"value\":0.1},\"fill_color\":{\"type\":\"value\",\"value\":\"#ff7f0e\"},\"fill_alpha\":{\"type\":\"value\",\"value\":0.1},\"hatch_color\":{\"type\":\"value\",\"value\":\"#ff7f0e\"},\"hatch_alpha\":{\"type\":\"value\",\"value\":0.1}}},\"muted_glyph\":{\"type\":\"object\",\"name\":\"HBar\",\"id\":\"p1672\",\"attributes\":{\"y\":{\"type\":\"field\",\"field\":\"country\"},\"height\":{\"type\":\"value\",\"value\":0.9},\"left\":{\"type\":\"expr\",\"expr\":{\"id\":\"p1644\"}},\"right\":{\"type\":\"expr\",\"expr\":{\"id\":\"p1645\"}},\"line_color\":{\"type\":\"value\",\"value\":\"#ff7f0e\"},\"line_alpha\":{\"type\":\"value\",\"value\":0.2},\"fill_color\":{\"type\":\"value\",\"value\":\"#ff7f0e\"},\"fill_alpha\":{\"type\":\"value\",\"value\":0.2},\"hatch_color\":{\"type\":\"value\",\"value\":\"#ff7f0e\"},\"hatch_alpha\":{\"type\":\"value\",\"value\":0.2}}}}},{\"type\":\"object\",\"name\":\"GlyphRenderer\",\"id\":\"p1683\",\"attributes\":{\"name\":\"life_expectancy\",\"data_source\":{\"id\":\"p1608\"},\"view\":{\"type\":\"object\",\"name\":\"CDSView\",\"id\":\"p1684\",\"attributes\":{\"filter\":{\"type\":\"object\",\"name\":\"AllIndices\",\"id\":\"p1685\"}}},\"glyph\":{\"type\":\"object\",\"name\":\"HBar\",\"id\":\"p1680\",\"attributes\":{\"y\":{\"type\":\"field\",\"field\":\"country\"},\"height\":{\"type\":\"value\",\"value\":0.9},\"left\":{\"type\":\"expr\",\"expr\":{\"type\":\"object\",\"name\":\"Stack\",\"id\":\"p1646\",\"attributes\":{\"fields\":[\"gdp_per_capita\",\"social_support\"]}}},\"right\":{\"type\":\"expr\",\"expr\":{\"type\":\"object\",\"name\":\"Stack\",\"id\":\"p1647\",\"attributes\":{\"fields\":[\"gdp_per_capita\",\"social_support\",\"life_expectancy\"]}}},\"line_color\":{\"type\":\"value\",\"value\":\"#2ca02c\"},\"line_alpha\":{\"type\":\"value\",\"value\":0.6},\"fill_color\":{\"type\":\"value\",\"value\":\"#2ca02c\"},\"fill_alpha\":{\"type\":\"value\",\"value\":0.6},\"hatch_color\":{\"type\":\"value\",\"value\":\"#2ca02c\"},\"hatch_alpha\":{\"type\":\"value\",\"value\":0.6}}},\"nonselection_glyph\":{\"type\":\"object\",\"name\":\"HBar\",\"id\":\"p1681\",\"attributes\":{\"y\":{\"type\":\"field\",\"field\":\"country\"},\"height\":{\"type\":\"value\",\"value\":0.9},\"left\":{\"type\":\"expr\",\"expr\":{\"id\":\"p1646\"}},\"right\":{\"type\":\"expr\",\"expr\":{\"id\":\"p1647\"}},\"line_color\":{\"type\":\"value\",\"value\":\"#2ca02c\"},\"line_alpha\":{\"type\":\"value\",\"value\":0.1},\"fill_color\":{\"type\":\"value\",\"value\":\"#2ca02c\"},\"fill_alpha\":{\"type\":\"value\",\"value\":0.1},\"hatch_color\":{\"type\":\"value\",\"value\":\"#2ca02c\"},\"hatch_alpha\":{\"type\":\"value\",\"value\":0.1}}},\"muted_glyph\":{\"type\":\"object\",\"name\":\"HBar\",\"id\":\"p1682\",\"attributes\":{\"y\":{\"type\":\"field\",\"field\":\"country\"},\"height\":{\"type\":\"value\",\"value\":0.9},\"left\":{\"type\":\"expr\",\"expr\":{\"id\":\"p1646\"}},\"right\":{\"type\":\"expr\",\"expr\":{\"id\":\"p1647\"}},\"line_color\":{\"type\":\"value\",\"value\":\"#2ca02c\"},\"line_alpha\":{\"type\":\"value\",\"value\":0.2},\"fill_color\":{\"type\":\"value\",\"value\":\"#2ca02c\"},\"fill_alpha\":{\"type\":\"value\",\"value\":0.2},\"hatch_color\":{\"type\":\"value\",\"value\":\"#2ca02c\"},\"hatch_alpha\":{\"type\":\"value\",\"value\":0.2}}}}},{\"type\":\"object\",\"name\":\"GlyphRenderer\",\"id\":\"p1693\",\"attributes\":{\"name\":\"free_life_choices\",\"data_source\":{\"id\":\"p1608\"},\"view\":{\"type\":\"object\",\"name\":\"CDSView\",\"id\":\"p1694\",\"attributes\":{\"filter\":{\"type\":\"object\",\"name\":\"AllIndices\",\"id\":\"p1695\"}}},\"glyph\":{\"type\":\"object\",\"name\":\"HBar\",\"id\":\"p1690\",\"attributes\":{\"y\":{\"type\":\"field\",\"field\":\"country\"},\"height\":{\"type\":\"value\",\"value\":0.9},\"left\":{\"type\":\"expr\",\"expr\":{\"type\":\"object\",\"name\":\"Stack\",\"id\":\"p1648\",\"attributes\":{\"fields\":[\"gdp_per_capita\",\"social_support\",\"life_expectancy\"]}}},\"right\":{\"type\":\"expr\",\"expr\":{\"type\":\"object\",\"name\":\"Stack\",\"id\":\"p1649\",\"attributes\":{\"fields\":[\"gdp_per_capita\",\"social_support\",\"life_expectancy\",\"free_life_choices\"]}}},\"line_color\":{\"type\":\"value\",\"value\":\"#d62728\"},\"line_alpha\":{\"type\":\"value\",\"value\":0.6},\"fill_color\":{\"type\":\"value\",\"value\":\"#d62728\"},\"fill_alpha\":{\"type\":\"value\",\"value\":0.6},\"hatch_color\":{\"type\":\"value\",\"value\":\"#d62728\"},\"hatch_alpha\":{\"type\":\"value\",\"value\":0.6}}},\"nonselection_glyph\":{\"type\":\"object\",\"name\":\"HBar\",\"id\":\"p1691\",\"attributes\":{\"y\":{\"type\":\"field\",\"field\":\"country\"},\"height\":{\"type\":\"value\",\"value\":0.9},\"left\":{\"type\":\"expr\",\"expr\":{\"id\":\"p1648\"}},\"right\":{\"type\":\"expr\",\"expr\":{\"id\":\"p1649\"}},\"line_color\":{\"type\":\"value\",\"value\":\"#d62728\"},\"line_alpha\":{\"type\":\"value\",\"value\":0.1},\"fill_color\":{\"type\":\"value\",\"value\":\"#d62728\"},\"fill_alpha\":{\"type\":\"value\",\"value\":0.1},\"hatch_color\":{\"type\":\"value\",\"value\":\"#d62728\"},\"hatch_alpha\":{\"type\":\"value\",\"value\":0.1}}},\"muted_glyph\":{\"type\":\"object\",\"name\":\"HBar\",\"id\":\"p1692\",\"attributes\":{\"y\":{\"type\":\"field\",\"field\":\"country\"},\"height\":{\"type\":\"value\",\"value\":0.9},\"left\":{\"type\":\"expr\",\"expr\":{\"id\":\"p1648\"}},\"right\":{\"type\":\"expr\",\"expr\":{\"id\":\"p1649\"}},\"line_color\":{\"type\":\"value\",\"value\":\"#d62728\"},\"line_alpha\":{\"type\":\"value\",\"value\":0.2},\"fill_color\":{\"type\":\"value\",\"value\":\"#d62728\"},\"fill_alpha\":{\"type\":\"value\",\"value\":0.2},\"hatch_color\":{\"type\":\"value\",\"value\":\"#d62728\"},\"hatch_alpha\":{\"type\":\"value\",\"value\":0.2}}}}},{\"type\":\"object\",\"name\":\"GlyphRenderer\",\"id\":\"p1703\",\"attributes\":{\"name\":\"generosity\",\"data_source\":{\"id\":\"p1608\"},\"view\":{\"type\":\"object\",\"name\":\"CDSView\",\"id\":\"p1704\",\"attributes\":{\"filter\":{\"type\":\"object\",\"name\":\"AllIndices\",\"id\":\"p1705\"}}},\"glyph\":{\"type\":\"object\",\"name\":\"HBar\",\"id\":\"p1700\",\"attributes\":{\"y\":{\"type\":\"field\",\"field\":\"country\"},\"height\":{\"type\":\"value\",\"value\":0.9},\"left\":{\"type\":\"expr\",\"expr\":{\"type\":\"object\",\"name\":\"Stack\",\"id\":\"p1650\",\"attributes\":{\"fields\":[\"gdp_per_capita\",\"social_support\",\"life_expectancy\",\"free_life_choices\"]}}},\"right\":{\"type\":\"expr\",\"expr\":{\"type\":\"object\",\"name\":\"Stack\",\"id\":\"p1651\",\"attributes\":{\"fields\":[\"gdp_per_capita\",\"social_support\",\"life_expectancy\",\"free_life_choices\",\"generosity\"]}}},\"line_color\":{\"type\":\"value\",\"value\":\"#9467bd\"},\"line_alpha\":{\"type\":\"value\",\"value\":0.6},\"fill_color\":{\"type\":\"value\",\"value\":\"#9467bd\"},\"fill_alpha\":{\"type\":\"value\",\"value\":0.6},\"hatch_color\":{\"type\":\"value\",\"value\":\"#9467bd\"},\"hatch_alpha\":{\"type\":\"value\",\"value\":0.6}}},\"nonselection_glyph\":{\"type\":\"object\",\"name\":\"HBar\",\"id\":\"p1701\",\"attributes\":{\"y\":{\"type\":\"field\",\"field\":\"country\"},\"height\":{\"type\":\"value\",\"value\":0.9},\"left\":{\"type\":\"expr\",\"expr\":{\"id\":\"p1650\"}},\"right\":{\"type\":\"expr\",\"expr\":{\"id\":\"p1651\"}},\"line_color\":{\"type\":\"value\",\"value\":\"#9467bd\"},\"line_alpha\":{\"type\":\"value\",\"value\":0.1},\"fill_color\":{\"type\":\"value\",\"value\":\"#9467bd\"},\"fill_alpha\":{\"type\":\"value\",\"value\":0.1},\"hatch_color\":{\"type\":\"value\",\"value\":\"#9467bd\"},\"hatch_alpha\":{\"type\":\"value\",\"value\":0.1}}},\"muted_glyph\":{\"type\":\"object\",\"name\":\"HBar\",\"id\":\"p1702\",\"attributes\":{\"y\":{\"type\":\"field\",\"field\":\"country\"},\"height\":{\"type\":\"value\",\"value\":0.9},\"left\":{\"type\":\"expr\",\"expr\":{\"id\":\"p1650\"}},\"right\":{\"type\":\"expr\",\"expr\":{\"id\":\"p1651\"}},\"line_color\":{\"type\":\"value\",\"value\":\"#9467bd\"},\"line_alpha\":{\"type\":\"value\",\"value\":0.2},\"fill_color\":{\"type\":\"value\",\"value\":\"#9467bd\"},\"fill_alpha\":{\"type\":\"value\",\"value\":0.2},\"hatch_color\":{\"type\":\"value\",\"value\":\"#9467bd\"},\"hatch_alpha\":{\"type\":\"value\",\"value\":0.2}}}}},{\"type\":\"object\",\"name\":\"GlyphRenderer\",\"id\":\"p1713\",\"attributes\":{\"name\":\"corruption_perception\",\"data_source\":{\"id\":\"p1608\"},\"view\":{\"type\":\"object\",\"name\":\"CDSView\",\"id\":\"p1714\",\"attributes\":{\"filter\":{\"type\":\"object\",\"name\":\"AllIndices\",\"id\":\"p1715\"}}},\"glyph\":{\"type\":\"object\",\"name\":\"HBar\",\"id\":\"p1710\",\"attributes\":{\"y\":{\"type\":\"field\",\"field\":\"country\"},\"height\":{\"type\":\"value\",\"value\":0.9},\"left\":{\"type\":\"expr\",\"expr\":{\"type\":\"object\",\"name\":\"Stack\",\"id\":\"p1652\",\"attributes\":{\"fields\":[\"gdp_per_capita\",\"social_support\",\"life_expectancy\",\"free_life_choices\",\"generosity\"]}}},\"right\":{\"type\":\"expr\",\"expr\":{\"type\":\"object\",\"name\":\"Stack\",\"id\":\"p1653\",\"attributes\":{\"fields\":[\"gdp_per_capita\",\"social_support\",\"life_expectancy\",\"free_life_choices\",\"generosity\",\"corruption_perception\"]}}},\"line_color\":{\"type\":\"value\",\"value\":\"#8c564b\"},\"line_alpha\":{\"type\":\"value\",\"value\":0.6},\"fill_color\":{\"type\":\"value\",\"value\":\"#8c564b\"},\"fill_alpha\":{\"type\":\"value\",\"value\":0.6},\"hatch_color\":{\"type\":\"value\",\"value\":\"#8c564b\"},\"hatch_alpha\":{\"type\":\"value\",\"value\":0.6}}},\"nonselection_glyph\":{\"type\":\"object\",\"name\":\"HBar\",\"id\":\"p1711\",\"attributes\":{\"y\":{\"type\":\"field\",\"field\":\"country\"},\"height\":{\"type\":\"value\",\"value\":0.9},\"left\":{\"type\":\"expr\",\"expr\":{\"id\":\"p1652\"}},\"right\":{\"type\":\"expr\",\"expr\":{\"id\":\"p1653\"}},\"line_color\":{\"type\":\"value\",\"value\":\"#8c564b\"},\"line_alpha\":{\"type\":\"value\",\"value\":0.1},\"fill_color\":{\"type\":\"value\",\"value\":\"#8c564b\"},\"fill_alpha\":{\"type\":\"value\",\"value\":0.1},\"hatch_color\":{\"type\":\"value\",\"value\":\"#8c564b\"},\"hatch_alpha\":{\"type\":\"value\",\"value\":0.1}}},\"muted_glyph\":{\"type\":\"object\",\"name\":\"HBar\",\"id\":\"p1712\",\"attributes\":{\"y\":{\"type\":\"field\",\"field\":\"country\"},\"height\":{\"type\":\"value\",\"value\":0.9},\"left\":{\"type\":\"expr\",\"expr\":{\"id\":\"p1652\"}},\"right\":{\"type\":\"expr\",\"expr\":{\"id\":\"p1653\"}},\"line_color\":{\"type\":\"value\",\"value\":\"#8c564b\"},\"line_alpha\":{\"type\":\"value\",\"value\":0.2},\"fill_color\":{\"type\":\"value\",\"value\":\"#8c564b\"},\"fill_alpha\":{\"type\":\"value\",\"value\":0.2},\"hatch_color\":{\"type\":\"value\",\"value\":\"#8c564b\"},\"hatch_alpha\":{\"type\":\"value\",\"value\":0.2}}}}},{\"type\":\"object\",\"name\":\"GlyphRenderer\",\"id\":\"p1723\",\"attributes\":{\"name\":\"dystopia\",\"data_source\":{\"id\":\"p1608\"},\"view\":{\"type\":\"object\",\"name\":\"CDSView\",\"id\":\"p1724\",\"attributes\":{\"filter\":{\"type\":\"object\",\"name\":\"AllIndices\",\"id\":\"p1725\"}}},\"glyph\":{\"type\":\"object\",\"name\":\"HBar\",\"id\":\"p1720\",\"attributes\":{\"y\":{\"type\":\"field\",\"field\":\"country\"},\"height\":{\"type\":\"value\",\"value\":0.9},\"left\":{\"type\":\"expr\",\"expr\":{\"type\":\"object\",\"name\":\"Stack\",\"id\":\"p1654\",\"attributes\":{\"fields\":[\"gdp_per_capita\",\"social_support\",\"life_expectancy\",\"free_life_choices\",\"generosity\",\"corruption_perception\"]}}},\"right\":{\"type\":\"expr\",\"expr\":{\"type\":\"object\",\"name\":\"Stack\",\"id\":\"p1655\",\"attributes\":{\"fields\":[\"gdp_per_capita\",\"social_support\",\"life_expectancy\",\"free_life_choices\",\"generosity\",\"corruption_perception\",\"dystopia\"]}}},\"line_color\":{\"type\":\"value\",\"value\":\"#e377c2\"},\"line_alpha\":{\"type\":\"value\",\"value\":0.6},\"fill_color\":{\"type\":\"value\",\"value\":\"#e377c2\"},\"fill_alpha\":{\"type\":\"value\",\"value\":0.6},\"hatch_color\":{\"type\":\"value\",\"value\":\"#e377c2\"},\"hatch_alpha\":{\"type\":\"value\",\"value\":0.6}}},\"nonselection_glyph\":{\"type\":\"object\",\"name\":\"HBar\",\"id\":\"p1721\",\"attributes\":{\"y\":{\"type\":\"field\",\"field\":\"country\"},\"height\":{\"type\":\"value\",\"value\":0.9},\"left\":{\"type\":\"expr\",\"expr\":{\"id\":\"p1654\"}},\"right\":{\"type\":\"expr\",\"expr\":{\"id\":\"p1655\"}},\"line_color\":{\"type\":\"value\",\"value\":\"#e377c2\"},\"line_alpha\":{\"type\":\"value\",\"value\":0.1},\"fill_color\":{\"type\":\"value\",\"value\":\"#e377c2\"},\"fill_alpha\":{\"type\":\"value\",\"value\":0.1},\"hatch_color\":{\"type\":\"value\",\"value\":\"#e377c2\"},\"hatch_alpha\":{\"type\":\"value\",\"value\":0.1}}},\"muted_glyph\":{\"type\":\"object\",\"name\":\"HBar\",\"id\":\"p1722\",\"attributes\":{\"y\":{\"type\":\"field\",\"field\":\"country\"},\"height\":{\"type\":\"value\",\"value\":0.9},\"left\":{\"type\":\"expr\",\"expr\":{\"id\":\"p1654\"}},\"right\":{\"type\":\"expr\",\"expr\":{\"id\":\"p1655\"}},\"line_color\":{\"type\":\"value\",\"value\":\"#e377c2\"},\"line_alpha\":{\"type\":\"value\",\"value\":0.2},\"fill_color\":{\"type\":\"value\",\"value\":\"#e377c2\"},\"fill_alpha\":{\"type\":\"value\",\"value\":0.2},\"hatch_color\":{\"type\":\"value\",\"value\":\"#e377c2\"},\"hatch_alpha\":{\"type\":\"value\",\"value\":0.2}}}}}],\"toolbar\":{\"type\":\"object\",\"name\":\"Toolbar\",\"id\":\"p1620\",\"attributes\":{\"tools\":[{\"type\":\"object\",\"name\":\"CrosshairTool\",\"id\":\"p1634\"},{\"type\":\"object\",\"name\":\"PanTool\",\"id\":\"p1635\"},{\"type\":\"object\",\"name\":\"WheelZoomTool\",\"id\":\"p1636\"},{\"type\":\"object\",\"name\":\"BoxZoomTool\",\"id\":\"p1637\",\"attributes\":{\"overlay\":{\"type\":\"object\",\"name\":\"BoxAnnotation\",\"id\":\"p1638\",\"attributes\":{\"syncable\":false,\"level\":\"overlay\",\"visible\":false,\"left_units\":\"canvas\",\"right_units\":\"canvas\",\"bottom_units\":\"canvas\",\"top_units\":\"canvas\",\"line_color\":\"black\",\"line_alpha\":1.0,\"line_width\":2,\"line_dash\":[4,4],\"fill_color\":\"lightgrey\",\"fill_alpha\":0.5}}}},{\"type\":\"object\",\"name\":\"ResetTool\",\"id\":\"p1639\"},{\"type\":\"object\",\"name\":\"HoverTool\",\"id\":\"p1640\",\"attributes\":{\"renderers\":\"auto\",\"tooltips\":[[\"country:\",\"@country\"],[\"happiness:\",\"@happiness_score\"],[\"GDP per Capita:\",\"@gdp_per_capita\"]]}},{\"type\":\"object\",\"name\":\"SaveTool\",\"id\":\"p1641\"}]}},\"left\":[{\"type\":\"object\",\"name\":\"CategoricalAxis\",\"id\":\"p1629\",\"attributes\":{\"ticker\":{\"type\":\"object\",\"name\":\"CategoricalTicker\",\"id\":\"p1630\"},\"formatter\":{\"type\":\"object\",\"name\":\"CategoricalTickFormatter\",\"id\":\"p1631\"},\"axis_label_standoff\":10,\"axis_label_text_color\":\"#E0E0E0\",\"axis_label_text_font\":\"Helvetica\",\"axis_label_text_font_size\":\"1.25em\",\"axis_label_text_font_style\":\"normal\",\"major_label_policy\":{\"type\":\"object\",\"name\":\"AllLabels\",\"id\":\"p1632\"},\"major_label_text_color\":\"#E0E0E0\",\"major_label_text_font\":\"Helvetica\",\"major_label_text_font_size\":\"1.025em\",\"axis_line_color\":\"#E0E0E0\",\"axis_line_alpha\":0,\"major_tick_line_color\":\"#E0E0E0\",\"major_tick_line_alpha\":0,\"minor_tick_line_color\":\"#E0E0E0\",\"minor_tick_line_alpha\":0}}],\"below\":[{\"type\":\"object\",\"name\":\"LinearAxis\",\"id\":\"p1624\",\"attributes\":{\"ticker\":{\"type\":\"object\",\"name\":\"BasicTicker\",\"id\":\"p1625\",\"attributes\":{\"mantissas\":[1,2,5]}},\"formatter\":{\"type\":\"object\",\"name\":\"BasicTickFormatter\",\"id\":\"p1626\"},\"axis_label_standoff\":10,\"axis_label_text_color\":\"#E0E0E0\",\"axis_label_text_font\":\"Helvetica\",\"axis_label_text_font_size\":\"1.25em\",\"axis_label_text_font_style\":\"normal\",\"major_label_policy\":{\"type\":\"object\",\"name\":\"AllLabels\",\"id\":\"p1627\"},\"major_label_text_color\":\"#E0E0E0\",\"major_label_text_font\":\"Helvetica\",\"major_label_text_font_size\":\"1.025em\",\"axis_line_color\":\"#E0E0E0\",\"axis_line_alpha\":0,\"major_tick_line_color\":\"#E0E0E0\",\"major_tick_line_alpha\":0,\"minor_tick_line_color\":\"#E0E0E0\",\"minor_tick_line_alpha\":0}}],\"center\":[{\"type\":\"object\",\"name\":\"Grid\",\"id\":\"p1628\",\"attributes\":{\"axis\":{\"id\":\"p1624\"},\"grid_line_color\":\"#E0E0E0\",\"grid_line_alpha\":0.25}},{\"type\":\"object\",\"name\":\"Grid\",\"id\":\"p1633\",\"attributes\":{\"dimension\":1,\"axis\":{\"id\":\"p1629\"},\"grid_line_color\":\"#E0E0E0\",\"grid_line_alpha\":0.25}},{\"type\":\"object\",\"name\":\"Legend\",\"id\":\"p1665\",\"attributes\":{\"location\":\"top_center\",\"orientation\":\"horizontal\",\"border_line_alpha\":0,\"background_fill_color\":\"#20262B\",\"background_fill_alpha\":0.25,\"label_text_color\":\"#E0E0E0\",\"label_text_font\":\"Helvetica\",\"label_text_font_size\":\"1.025em\",\"label_standoff\":8,\"glyph_width\":15,\"spacing\":8,\"items\":[{\"type\":\"object\",\"name\":\"LegendItem\",\"id\":\"p1666\",\"attributes\":{\"label\":{\"type\":\"value\",\"value\":\"gdp_per_capita\"},\"renderers\":[{\"id\":\"p1662\"}]}},{\"type\":\"object\",\"name\":\"LegendItem\",\"id\":\"p1676\",\"attributes\":{\"label\":{\"type\":\"value\",\"value\":\"social_support\"},\"renderers\":[{\"id\":\"p1673\"}]}},{\"type\":\"object\",\"name\":\"LegendItem\",\"id\":\"p1686\",\"attributes\":{\"label\":{\"type\":\"value\",\"value\":\"life_expectancy\"},\"renderers\":[{\"id\":\"p1683\"}]}},{\"type\":\"object\",\"name\":\"LegendItem\",\"id\":\"p1696\",\"attributes\":{\"label\":{\"type\":\"value\",\"value\":\"free_life_choices\"},\"renderers\":[{\"id\":\"p1693\"}]}},{\"type\":\"object\",\"name\":\"LegendItem\",\"id\":\"p1706\",\"attributes\":{\"label\":{\"type\":\"value\",\"value\":\"generosity\"},\"renderers\":[{\"id\":\"p1703\"}]}},{\"type\":\"object\",\"name\":\"LegendItem\",\"id\":\"p1716\",\"attributes\":{\"label\":{\"type\":\"value\",\"value\":\"corruption_perception\"},\"renderers\":[{\"id\":\"p1713\"}]}},{\"type\":\"object\",\"name\":\"LegendItem\",\"id\":\"p1726\",\"attributes\":{\"label\":{\"type\":\"value\",\"value\":\"dystopia\"},\"renderers\":[{\"id\":\"p1723\"}]}}]}},{\"type\":\"object\",\"name\":\"LabelSet\",\"id\":\"p1727\",\"attributes\":{\"source\":{\"id\":\"p1608\"},\"x\":{\"type\":\"value\",\"value\":0.1},\"y\":{\"type\":\"field\",\"field\":\"country\"},\"text\":{\"type\":\"field\",\"field\":\"happiness_score\"},\"y_offset\":{\"type\":\"value\",\"value\":-3},\"text_color\":{\"type\":\"value\",\"value\":\"white\"},\"text_font_size\":{\"type\":\"value\",\"value\":\"10px\"}}}],\"background_fill_color\":\"#20262B\",\"border_fill_color\":\"#15191C\"}}]}};\n  const render_items = [{\"docid\":\"d2a9d73d-f4cb-41ba-aa02-17ea71f9eab4\",\"roots\":{\"p1611\":\"f7af6f8e-ac28-4be6-aa24-f49e4c77451f\"},\"root_ids\":[\"p1611\"]}];\n  root.Bokeh.embed.embed_items_notebook(docs_json, render_items);\n  }\n  if (root.Bokeh !== undefined) {\n    embed_document(root);\n  } else {\n    let attempts = 0;\n    const timer = setInterval(function(root) {\n      if (root.Bokeh !== undefined) {\n        clearInterval(timer);\n        embed_document(root);\n      } else {\n        attempts++;\n        if (attempts > 100) {\n          clearInterval(timer);\n          console.log(\"Bokeh: ERROR: Unable to run BokehJS code because BokehJS library is missing\");\n        }\n      }\n    }, 10, root)\n  }\n})(window);",
      "application/vnd.bokehjs_exec.v0+json": ""
     },
     "metadata": {
      "application/vnd.bokehjs_exec.v0+json": {
       "id": "p1611"
      }
     },
     "output_type": "display_data"
    }
   ],
   "source": [
    "from bokeh.models import ColumnDataSource,LabelSet,Whisker\n",
    "from bokeh.palettes import Category10_7\n",
    "from bokeh.io import curdoc\n",
    "\n",
    "# apply theme to current document\n",
    "curdoc().theme = \"dark_minimal\"\n",
    "\n",
    "# TODO: Make the legend dynamic, aka filter by factor.\n",
    "# TODO: Make the label dynamic for above todo & also figure out how to format to 3sf\n",
    "\n",
    "# Vars\n",
    "WIDTH,HEIGHT = 1300,2300\n",
    "TOOLS = \"crosshair,pan,wheel_zoom,box_zoom,reset,hover,save\"\n",
    "TOOLTIPS = [\n",
    "    (\"country:\",\"@country\"),\n",
    "    (\"happiness:\",\"@happiness_score\"),\n",
    "    (\"GDP per Capita:\", \"@gdp_per_capita\")\n",
    "]\n",
    "\n",
    "factors = list(df_i.columns)[:-3]\n",
    "country = list(df_i.index)\n",
    "source = ColumnDataSource(df_i)\n",
    "\n",
    "# Plot\n",
    "p = figure(\n",
    "    width=WIDTH,\n",
    "    height=HEIGHT,\n",
    "    y_range = country,\n",
    "    title = \"Happiness score\",\n",
    "    tools=TOOLS,\n",
    "    tooltips=TOOLTIPS\n",
    ");\n",
    "\n",
    "p.y_range.range_padding = 0.05\n",
    "p.x_range.range_padding = 0\n",
    "\n",
    "\n",
    "# Stacked horizontal bar\n",
    "p.hbar_stack(\n",
    "    factors,\n",
    "    source=source,\n",
    "    y=\"country\",\n",
    "    color=Category10_7,\n",
    "    legend_label=factors,\n",
    "    alpha=0.6,\n",
    "    height=0.9\n",
    ")\n",
    "\n",
    "# Add label\n",
    "labels = LabelSet(\n",
    "    x=0.1, y='country',\n",
    "    text='happiness_score',\n",
    "    x_offset=0, y_offset=-3,\n",
    "    source=source,\n",
    "    text_font_size = \"10px\",\n",
    "    text_color=\"white\"\n",
    ")\n",
    "p.add_layout(labels);\n",
    "\n",
    "p.legend.orientation = \"horizontal\"\n",
    "p.legend.location = \"Wtop_center\"\n",
    "show(p)\n"
   ]
  },
  {
   "cell_type": "code",
   "execution_count": 26,
   "metadata": {},
   "outputs": [
    {
     "data": {
      "text/html": [
       "        <script type=\"text/javascript\">\n",
       "        window.PlotlyConfig = {MathJaxConfig: 'local'};\n",
       "        if (window.MathJax && window.MathJax.Hub && window.MathJax.Hub.Config) {window.MathJax.Hub.Config({SVG: {font: \"STIX-Web\"}});}\n",
       "        if (typeof require !== 'undefined') {\n",
       "        require.undef(\"plotly\");\n",
       "        requirejs.config({\n",
       "            paths: {\n",
       "                'plotly': ['https://cdn.plot.ly/plotly-2.17.1.min']\n",
       "            }\n",
       "        });\n",
       "        require(['plotly'], function(Plotly) {\n",
       "            window._Plotly = Plotly;\n",
       "        });\n",
       "        }\n",
       "        </script>\n",
       "        "
      ]
     },
     "metadata": {},
     "output_type": "display_data"
    },
    {
     "data": {
      "application/vnd.plotly.v1+json": {
       "config": {
        "linkText": "Export to plot.ly",
        "plotlyServerURL": "https://plot.ly",
        "showLink": false
       },
       "data": [
        {
         "colorbar": {
          "title": {
           "text": "Happiness scale"
          }
         },
         "colorscale": [
          [
           0,
           "rgb(165,0,38)"
          ],
          [
           0.1111111111111111,
           "rgb(215,48,39)"
          ],
          [
           0.2222222222222222,
           "rgb(244,109,67)"
          ],
          [
           0.3333333333333333,
           "rgb(253,174,97)"
          ],
          [
           0.4444444444444444,
           "rgb(254,224,144)"
          ],
          [
           0.5555555555555556,
           "rgb(224,243,248)"
          ],
          [
           0.6666666666666666,
           "rgb(171,217,233)"
          ],
          [
           0.7777777777777778,
           "rgb(116,173,209)"
          ],
          [
           0.8888888888888888,
           "rgb(69,117,180)"
          ],
          [
           1,
           "rgb(49,54,149)"
          ]
         ],
         "locationmode": "country names",
         "locations": [
          "Finland",
          "Denmark",
          "Iceland",
          "Switzerland",
          "Netherlands",
          "Luxembourg*",
          "Sweden",
          "Norway",
          "Israel",
          "New Zealand",
          "Austria",
          "Australia",
          "Ireland",
          "Germany",
          "Canada",
          "United States",
          "United Kingdom",
          "Czechia",
          "Belgium",
          "France",
          "Bahrain",
          "Slovenia",
          "Costa Rica",
          "United Arab Emirates",
          "Saudi Arabia",
          "Taiwan Province of China",
          "Singapore",
          "Romania",
          "Spain",
          "Uruguay",
          "Italy",
          "Kosovo",
          "Malta",
          "Lithuania",
          "Slovakia",
          "Estonia",
          "Panama",
          "Brazil",
          "Guatemala*",
          "Kazakhstan",
          "Cyprus",
          "Latvia",
          "Serbia",
          "Chile",
          "Nicaragua",
          "Mexico",
          "Croatia",
          "Poland",
          "El Salvador",
          "Kuwait*",
          "Hungary",
          "Mauritius",
          "Uzbekistan",
          "Japan",
          "Honduras",
          "Portugal",
          "Argentina",
          "Greece",
          "South Korea",
          "Philippines",
          "Thailand",
          "Moldova",
          "Jamaica",
          "Kyrgyzstan",
          "Belarus*",
          "Colombia",
          "Bosnia and Herzegovina",
          "Mongolia",
          "Dominican Republic",
          "Malaysia",
          "Bolivia",
          "China",
          "Paraguay",
          "Peru",
          "Montenegro",
          "Ecuador",
          "Vietnam",
          "Turkmenistan*",
          "North Cyprus*",
          "Russia",
          "Hong Kong S.A.R. of China",
          "Armenia",
          "Tajikistan",
          "Nepal",
          "Bulgaria",
          "Libya*",
          "Indonesia",
          "Ivory Coast",
          "North Macedonia",
          "Albania",
          "South Africa",
          "Azerbaijan*",
          "Gambia*",
          "Bangladesh",
          "Laos",
          "Algeria",
          "Liberia*",
          "Ukraine",
          "Congo",
          "Morocco",
          "Mozambique",
          "Cameroon",
          "Senegal",
          "Niger*",
          "Georgia",
          "Gabon",
          "Iraq",
          "Venezuela",
          "Guinea",
          "Iran",
          "Ghana",
          "Turkey",
          "Burkina Faso",
          "Cambodia",
          "Benin",
          "Comoros*",
          "Uganda",
          "Nigeria",
          "Kenya",
          "Tunisia",
          "Pakistan",
          "Palestinian Territories*",
          "Mali",
          "Namibia",
          "Eswatini, Kingdom of*",
          "Myanmar",
          "Sri Lanka",
          "Madagascar*",
          "Egypt",
          "Chad*",
          "Ethiopia",
          "Yemen*",
          "Mauritania*",
          "Jordan",
          "Togo",
          "India",
          "Zambia",
          "Malawi",
          "Tanzania",
          "Sierra Leone",
          "Lesotho*",
          "Botswana*",
          "Rwanda*",
          "Zimbabwe",
          "Lebanon",
          "Afghanistan"
         ],
         "reversescale": false,
         "text": [
          "Finland",
          "Denmark",
          "Iceland",
          "Switzerland",
          "Netherlands",
          "Luxembourg*",
          "Sweden",
          "Norway",
          "Israel",
          "New Zealand",
          "Austria",
          "Australia",
          "Ireland",
          "Germany",
          "Canada",
          "United States",
          "United Kingdom",
          "Czechia",
          "Belgium",
          "France",
          "Bahrain",
          "Slovenia",
          "Costa Rica",
          "United Arab Emirates",
          "Saudi Arabia",
          "Taiwan Province of China",
          "Singapore",
          "Romania",
          "Spain",
          "Uruguay",
          "Italy",
          "Kosovo",
          "Malta",
          "Lithuania",
          "Slovakia",
          "Estonia",
          "Panama",
          "Brazil",
          "Guatemala*",
          "Kazakhstan",
          "Cyprus",
          "Latvia",
          "Serbia",
          "Chile",
          "Nicaragua",
          "Mexico",
          "Croatia",
          "Poland",
          "El Salvador",
          "Kuwait*",
          "Hungary",
          "Mauritius",
          "Uzbekistan",
          "Japan",
          "Honduras",
          "Portugal",
          "Argentina",
          "Greece",
          "South Korea",
          "Philippines",
          "Thailand",
          "Moldova",
          "Jamaica",
          "Kyrgyzstan",
          "Belarus*",
          "Colombia",
          "Bosnia and Herzegovina",
          "Mongolia",
          "Dominican Republic",
          "Malaysia",
          "Bolivia",
          "China",
          "Paraguay",
          "Peru",
          "Montenegro",
          "Ecuador",
          "Vietnam",
          "Turkmenistan*",
          "North Cyprus*",
          "Russia",
          "Hong Kong S.A.R. of China",
          "Armenia",
          "Tajikistan",
          "Nepal",
          "Bulgaria",
          "Libya*",
          "Indonesia",
          "Ivory Coast",
          "North Macedonia",
          "Albania",
          "South Africa",
          "Azerbaijan*",
          "Gambia*",
          "Bangladesh",
          "Laos",
          "Algeria",
          "Liberia*",
          "Ukraine",
          "Congo",
          "Morocco",
          "Mozambique",
          "Cameroon",
          "Senegal",
          "Niger*",
          "Georgia",
          "Gabon",
          "Iraq",
          "Venezuela",
          "Guinea",
          "Iran",
          "Ghana",
          "Turkey",
          "Burkina Faso",
          "Cambodia",
          "Benin",
          "Comoros*",
          "Uganda",
          "Nigeria",
          "Kenya",
          "Tunisia",
          "Pakistan",
          "Palestinian Territories*",
          "Mali",
          "Namibia",
          "Eswatini, Kingdom of*",
          "Myanmar",
          "Sri Lanka",
          "Madagascar*",
          "Egypt",
          "Chad*",
          "Ethiopia",
          "Yemen*",
          "Mauritania*",
          "Jordan",
          "Togo",
          "India",
          "Zambia",
          "Malawi",
          "Tanzania",
          "Sierra Leone",
          "Lesotho*",
          "Botswana*",
          "Rwanda*",
          "Zimbabwe",
          "Lebanon",
          "Afghanistan"
         ],
         "type": "choropleth",
         "z": [
          7.821000099182129,
          7.636000156402588,
          7.557000160217285,
          7.51200008392334,
          7.414999961853027,
          7.4039998054504395,
          7.383999824523926,
          7.364999771118164,
          7.363999843597412,
          7.199999809265137,
          7.163000106811523,
          7.1620001792907715,
          7.040999889373779,
          7.033999919891357,
          7.025000095367432,
          6.9770002365112305,
          6.942999839782715,
          6.920000076293945,
          6.804999828338623,
          6.686999797821045,
          6.646999835968018,
          6.630000114440918,
          6.581999778747559,
          6.576000213623047,
          6.5229997634887695,
          6.51200008392334,
          6.480000019073486,
          6.4770002365112305,
          6.47599983215332,
          6.473999977111816,
          6.4670000076293945,
          6.454999923706055,
          6.447000026702881,
          6.446000099182129,
          6.390999794006348,
          6.341000080108643,
          6.309000015258789,
          6.293000221252441,
          6.26200008392334,
          6.234000205993652,
          6.2210001945495605,
          6.179999828338623,
          6.177999973297119,
          6.171999931335449,
          6.164999961853027,
          6.127999782562256,
          6.125,
          6.123000144958496,
          6.119999885559082,
          6.105999946594238,
          6.085999965667725,
          6.071000099182129,
          6.063000202178955,
          6.039000034332275,
          6.021999835968018,
          6.015999794006348,
          5.9670000076293945,
          5.947999954223633,
          5.934999942779541,
          5.9039998054504395,
          5.890999794006348,
          5.85699987411499,
          5.849999904632568,
          5.828000068664551,
          5.821000099182129,
          5.781000137329102,
          5.76800012588501,
          5.761000156402588,
          5.736999988555908,
          5.710999965667725,
          5.599999904632568,
          5.585000038146973,
          5.578000068664551,
          5.559000015258789,
          5.546999931335449,
          5.5329999923706055,
          5.485000133514404,
          5.473999977111816,
          5.4670000076293945,
          5.459000110626221,
          5.425000190734863,
          5.39900016784668,
          5.376999855041504,
          5.376999855041504,
          5.370999813079834,
          5.329999923706055,
          5.239999771118164,
          5.235000133514404,
          5.198999881744385,
          5.198999881744385,
          5.193999767303467,
          5.172999858856201,
          5.164000034332275,
          5.15500020980835,
          5.139999866485596,
          5.122000217437744,
          5.122000217437744,
          5.084000110626221,
          5.074999809265137,
          5.059999942779541,
          5.047999858856201,
          5.047999858856201,
          5.046000003814697,
          5.002999782562256,
          4.9730000495910645,
          4.958000183105469,
          4.940999984741211,
          4.925000190734863,
          4.890999794006348,
          4.888000011444092,
          4.872000217437744,
          4.74399995803833,
          4.670000076293945,
          4.639999866485596,
          4.623000144958496,
          4.609000205993652,
          4.603000164031982,
          4.552000045776367,
          4.543000221252441,
          4.515999794006348,
          4.515999794006348,
          4.482999801635742,
          4.479000091552734,
          4.459000110626221,
          4.395999908447266,
          4.394000053405762,
          4.361999988555908,
          4.339000225067139,
          4.288000106811523,
          4.250999927520752,
          4.241000175476074,
          4.197000026702881,
          4.1529998779296875,
          4.1519999504089355,
          4.111999988555908,
          3.7769999504089355,
          3.759999990463257,
          3.75,
          3.7019999027252197,
          3.5739998817443848,
          3.51200008392334,
          3.4709999561309814,
          3.2679998874664307,
          2.994999885559082,
          2.9549999237060547,
          2.4040000438690186
         ]
        }
       ],
       "layout": {
        "autosize": true,
        "geo": {
         "projection": {
          "type": "natural earth"
         },
         "showframe": false
        },
        "height": 650,
        "margin": {
         "b": 0,
         "l": 0,
         "r": 0,
         "t": 0
        },
        "paper_bgcolor": "rgb(10,10,10)",
        "plot_bgcolor": "rgb(17,17,17)",
        "template": {
         "data": {
          "bar": [
           {
            "error_x": {
             "color": "#2a3f5f"
            },
            "error_y": {
             "color": "#2a3f5f"
            },
            "marker": {
             "line": {
              "color": "#E5ECF6",
              "width": 0.5
             },
             "pattern": {
              "fillmode": "overlay",
              "size": 10,
              "solidity": 0.2
             }
            },
            "type": "bar"
           }
          ],
          "barpolar": [
           {
            "marker": {
             "line": {
              "color": "#E5ECF6",
              "width": 0.5
             },
             "pattern": {
              "fillmode": "overlay",
              "size": 10,
              "solidity": 0.2
             }
            },
            "type": "barpolar"
           }
          ],
          "carpet": [
           {
            "aaxis": {
             "endlinecolor": "#2a3f5f",
             "gridcolor": "white",
             "linecolor": "white",
             "minorgridcolor": "white",
             "startlinecolor": "#2a3f5f"
            },
            "baxis": {
             "endlinecolor": "#2a3f5f",
             "gridcolor": "white",
             "linecolor": "white",
             "minorgridcolor": "white",
             "startlinecolor": "#2a3f5f"
            },
            "type": "carpet"
           }
          ],
          "choropleth": [
           {
            "colorbar": {
             "outlinewidth": 0,
             "ticks": ""
            },
            "type": "choropleth"
           }
          ],
          "contour": [
           {
            "colorbar": {
             "outlinewidth": 0,
             "ticks": ""
            },
            "colorscale": [
             [
              0,
              "#0d0887"
             ],
             [
              0.1111111111111111,
              "#46039f"
             ],
             [
              0.2222222222222222,
              "#7201a8"
             ],
             [
              0.3333333333333333,
              "#9c179e"
             ],
             [
              0.4444444444444444,
              "#bd3786"
             ],
             [
              0.5555555555555556,
              "#d8576b"
             ],
             [
              0.6666666666666666,
              "#ed7953"
             ],
             [
              0.7777777777777778,
              "#fb9f3a"
             ],
             [
              0.8888888888888888,
              "#fdca26"
             ],
             [
              1,
              "#f0f921"
             ]
            ],
            "type": "contour"
           }
          ],
          "contourcarpet": [
           {
            "colorbar": {
             "outlinewidth": 0,
             "ticks": ""
            },
            "type": "contourcarpet"
           }
          ],
          "heatmap": [
           {
            "colorbar": {
             "outlinewidth": 0,
             "ticks": ""
            },
            "colorscale": [
             [
              0,
              "#0d0887"
             ],
             [
              0.1111111111111111,
              "#46039f"
             ],
             [
              0.2222222222222222,
              "#7201a8"
             ],
             [
              0.3333333333333333,
              "#9c179e"
             ],
             [
              0.4444444444444444,
              "#bd3786"
             ],
             [
              0.5555555555555556,
              "#d8576b"
             ],
             [
              0.6666666666666666,
              "#ed7953"
             ],
             [
              0.7777777777777778,
              "#fb9f3a"
             ],
             [
              0.8888888888888888,
              "#fdca26"
             ],
             [
              1,
              "#f0f921"
             ]
            ],
            "type": "heatmap"
           }
          ],
          "heatmapgl": [
           {
            "colorbar": {
             "outlinewidth": 0,
             "ticks": ""
            },
            "colorscale": [
             [
              0,
              "#0d0887"
             ],
             [
              0.1111111111111111,
              "#46039f"
             ],
             [
              0.2222222222222222,
              "#7201a8"
             ],
             [
              0.3333333333333333,
              "#9c179e"
             ],
             [
              0.4444444444444444,
              "#bd3786"
             ],
             [
              0.5555555555555556,
              "#d8576b"
             ],
             [
              0.6666666666666666,
              "#ed7953"
             ],
             [
              0.7777777777777778,
              "#fb9f3a"
             ],
             [
              0.8888888888888888,
              "#fdca26"
             ],
             [
              1,
              "#f0f921"
             ]
            ],
            "type": "heatmapgl"
           }
          ],
          "histogram": [
           {
            "marker": {
             "pattern": {
              "fillmode": "overlay",
              "size": 10,
              "solidity": 0.2
             }
            },
            "type": "histogram"
           }
          ],
          "histogram2d": [
           {
            "colorbar": {
             "outlinewidth": 0,
             "ticks": ""
            },
            "colorscale": [
             [
              0,
              "#0d0887"
             ],
             [
              0.1111111111111111,
              "#46039f"
             ],
             [
              0.2222222222222222,
              "#7201a8"
             ],
             [
              0.3333333333333333,
              "#9c179e"
             ],
             [
              0.4444444444444444,
              "#bd3786"
             ],
             [
              0.5555555555555556,
              "#d8576b"
             ],
             [
              0.6666666666666666,
              "#ed7953"
             ],
             [
              0.7777777777777778,
              "#fb9f3a"
             ],
             [
              0.8888888888888888,
              "#fdca26"
             ],
             [
              1,
              "#f0f921"
             ]
            ],
            "type": "histogram2d"
           }
          ],
          "histogram2dcontour": [
           {
            "colorbar": {
             "outlinewidth": 0,
             "ticks": ""
            },
            "colorscale": [
             [
              0,
              "#0d0887"
             ],
             [
              0.1111111111111111,
              "#46039f"
             ],
             [
              0.2222222222222222,
              "#7201a8"
             ],
             [
              0.3333333333333333,
              "#9c179e"
             ],
             [
              0.4444444444444444,
              "#bd3786"
             ],
             [
              0.5555555555555556,
              "#d8576b"
             ],
             [
              0.6666666666666666,
              "#ed7953"
             ],
             [
              0.7777777777777778,
              "#fb9f3a"
             ],
             [
              0.8888888888888888,
              "#fdca26"
             ],
             [
              1,
              "#f0f921"
             ]
            ],
            "type": "histogram2dcontour"
           }
          ],
          "mesh3d": [
           {
            "colorbar": {
             "outlinewidth": 0,
             "ticks": ""
            },
            "type": "mesh3d"
           }
          ],
          "parcoords": [
           {
            "line": {
             "colorbar": {
              "outlinewidth": 0,
              "ticks": ""
             }
            },
            "type": "parcoords"
           }
          ],
          "pie": [
           {
            "automargin": true,
            "type": "pie"
           }
          ],
          "scatter": [
           {
            "fillpattern": {
             "fillmode": "overlay",
             "size": 10,
             "solidity": 0.2
            },
            "type": "scatter"
           }
          ],
          "scatter3d": [
           {
            "line": {
             "colorbar": {
              "outlinewidth": 0,
              "ticks": ""
             }
            },
            "marker": {
             "colorbar": {
              "outlinewidth": 0,
              "ticks": ""
             }
            },
            "type": "scatter3d"
           }
          ],
          "scattercarpet": [
           {
            "marker": {
             "colorbar": {
              "outlinewidth": 0,
              "ticks": ""
             }
            },
            "type": "scattercarpet"
           }
          ],
          "scattergeo": [
           {
            "marker": {
             "colorbar": {
              "outlinewidth": 0,
              "ticks": ""
             }
            },
            "type": "scattergeo"
           }
          ],
          "scattergl": [
           {
            "marker": {
             "colorbar": {
              "outlinewidth": 0,
              "ticks": ""
             }
            },
            "type": "scattergl"
           }
          ],
          "scattermapbox": [
           {
            "marker": {
             "colorbar": {
              "outlinewidth": 0,
              "ticks": ""
             }
            },
            "type": "scattermapbox"
           }
          ],
          "scatterpolar": [
           {
            "marker": {
             "colorbar": {
              "outlinewidth": 0,
              "ticks": ""
             }
            },
            "type": "scatterpolar"
           }
          ],
          "scatterpolargl": [
           {
            "marker": {
             "colorbar": {
              "outlinewidth": 0,
              "ticks": ""
             }
            },
            "type": "scatterpolargl"
           }
          ],
          "scatterternary": [
           {
            "marker": {
             "colorbar": {
              "outlinewidth": 0,
              "ticks": ""
             }
            },
            "type": "scatterternary"
           }
          ],
          "surface": [
           {
            "colorbar": {
             "outlinewidth": 0,
             "ticks": ""
            },
            "colorscale": [
             [
              0,
              "#0d0887"
             ],
             [
              0.1111111111111111,
              "#46039f"
             ],
             [
              0.2222222222222222,
              "#7201a8"
             ],
             [
              0.3333333333333333,
              "#9c179e"
             ],
             [
              0.4444444444444444,
              "#bd3786"
             ],
             [
              0.5555555555555556,
              "#d8576b"
             ],
             [
              0.6666666666666666,
              "#ed7953"
             ],
             [
              0.7777777777777778,
              "#fb9f3a"
             ],
             [
              0.8888888888888888,
              "#fdca26"
             ],
             [
              1,
              "#f0f921"
             ]
            ],
            "type": "surface"
           }
          ],
          "table": [
           {
            "cells": {
             "fill": {
              "color": "#EBF0F8"
             },
             "line": {
              "color": "white"
             }
            },
            "header": {
             "fill": {
              "color": "#C8D4E3"
             },
             "line": {
              "color": "white"
             }
            },
            "type": "table"
           }
          ]
         },
         "layout": {
          "annotationdefaults": {
           "arrowcolor": "#2a3f5f",
           "arrowhead": 0,
           "arrowwidth": 1
          },
          "autotypenumbers": "strict",
          "coloraxis": {
           "colorbar": {
            "outlinewidth": 0,
            "ticks": ""
           }
          },
          "colorscale": {
           "diverging": [
            [
             0,
             "#8e0152"
            ],
            [
             0.1,
             "#c51b7d"
            ],
            [
             0.2,
             "#de77ae"
            ],
            [
             0.3,
             "#f1b6da"
            ],
            [
             0.4,
             "#fde0ef"
            ],
            [
             0.5,
             "#f7f7f7"
            ],
            [
             0.6,
             "#e6f5d0"
            ],
            [
             0.7,
             "#b8e186"
            ],
            [
             0.8,
             "#7fbc41"
            ],
            [
             0.9,
             "#4d9221"
            ],
            [
             1,
             "#276419"
            ]
           ],
           "sequential": [
            [
             0,
             "#0d0887"
            ],
            [
             0.1111111111111111,
             "#46039f"
            ],
            [
             0.2222222222222222,
             "#7201a8"
            ],
            [
             0.3333333333333333,
             "#9c179e"
            ],
            [
             0.4444444444444444,
             "#bd3786"
            ],
            [
             0.5555555555555556,
             "#d8576b"
            ],
            [
             0.6666666666666666,
             "#ed7953"
            ],
            [
             0.7777777777777778,
             "#fb9f3a"
            ],
            [
             0.8888888888888888,
             "#fdca26"
            ],
            [
             1,
             "#f0f921"
            ]
           ],
           "sequentialminus": [
            [
             0,
             "#0d0887"
            ],
            [
             0.1111111111111111,
             "#46039f"
            ],
            [
             0.2222222222222222,
             "#7201a8"
            ],
            [
             0.3333333333333333,
             "#9c179e"
            ],
            [
             0.4444444444444444,
             "#bd3786"
            ],
            [
             0.5555555555555556,
             "#d8576b"
            ],
            [
             0.6666666666666666,
             "#ed7953"
            ],
            [
             0.7777777777777778,
             "#fb9f3a"
            ],
            [
             0.8888888888888888,
             "#fdca26"
            ],
            [
             1,
             "#f0f921"
            ]
           ]
          },
          "colorway": [
           "#636efa",
           "#EF553B",
           "#00cc96",
           "#ab63fa",
           "#FFA15A",
           "#19d3f3",
           "#FF6692",
           "#B6E880",
           "#FF97FF",
           "#FECB52"
          ],
          "font": {
           "color": "#2a3f5f"
          },
          "geo": {
           "bgcolor": "white",
           "lakecolor": "white",
           "landcolor": "#E5ECF6",
           "showlakes": true,
           "showland": true,
           "subunitcolor": "white"
          },
          "hoverlabel": {
           "align": "left"
          },
          "hovermode": "closest",
          "mapbox": {
           "style": "light"
          },
          "paper_bgcolor": "rgba(0,0,0,0)",
          "plot_bgcolor": "rgba(0,0,0,0)",
          "polar": {
           "angularaxis": {
            "gridcolor": "white",
            "linecolor": "white",
            "ticks": ""
           },
           "bgcolor": "#E5ECF6",
           "radialaxis": {
            "gridcolor": "white",
            "linecolor": "white",
            "ticks": ""
           }
          },
          "scene": {
           "xaxis": {
            "backgroundcolor": "#E5ECF6",
            "gridcolor": "white",
            "gridwidth": 2,
            "linecolor": "white",
            "showbackground": true,
            "ticks": "",
            "zerolinecolor": "white"
           },
           "yaxis": {
            "backgroundcolor": "#E5ECF6",
            "gridcolor": "white",
            "gridwidth": 2,
            "linecolor": "white",
            "showbackground": true,
            "ticks": "",
            "zerolinecolor": "white"
           },
           "zaxis": {
            "backgroundcolor": "#E5ECF6",
            "gridcolor": "white",
            "gridwidth": 2,
            "linecolor": "white",
            "showbackground": true,
            "ticks": "",
            "zerolinecolor": "white"
           }
          },
          "shapedefaults": {
           "line": {
            "color": "#2a3f5f"
           }
          },
          "ternary": {
           "aaxis": {
            "gridcolor": "white",
            "linecolor": "white",
            "ticks": ""
           },
           "baxis": {
            "gridcolor": "white",
            "linecolor": "white",
            "ticks": ""
           },
           "bgcolor": "#E5ECF6",
           "caxis": {
            "gridcolor": "white",
            "linecolor": "white",
            "ticks": ""
           }
          },
          "title": {
           "x": 0.05
          },
          "xaxis": {
           "automargin": true,
           "gridcolor": "white",
           "linecolor": "white",
           "ticks": "",
           "title": {
            "standoff": 15
           },
           "zerolinecolor": "white",
           "zerolinewidth": 2
          },
          "yaxis": {
           "automargin": true,
           "gridcolor": "white",
           "linecolor": "white",
           "ticks": "",
           "title": {
            "standoff": 15
           },
           "zerolinecolor": "white",
           "zerolinewidth": 2
          }
         }
        },
        "title": {
         "text": "Global Happiness of countries"
        },
        "width": 1300
       }
      },
      "text/html": [
       "<div>                            <div id=\"3d25182e-3b39-41ae-aaca-0569c56346e3\" class=\"plotly-graph-div\" style=\"height:650px; width:1300px;\"></div>            <script type=\"text/javascript\">                require([\"plotly\"], function(Plotly) {                    window.PLOTLYENV=window.PLOTLYENV || {};                                    if (document.getElementById(\"3d25182e-3b39-41ae-aaca-0569c56346e3\")) {                    Plotly.newPlot(                        \"3d25182e-3b39-41ae-aaca-0569c56346e3\",                        [{\"colorbar\":{\"title\":{\"text\":\"Happiness scale\"}},\"colorscale\":[[0.0,\"rgb(165,0,38)\"],[0.1111111111111111,\"rgb(215,48,39)\"],[0.2222222222222222,\"rgb(244,109,67)\"],[0.3333333333333333,\"rgb(253,174,97)\"],[0.4444444444444444,\"rgb(254,224,144)\"],[0.5555555555555556,\"rgb(224,243,248)\"],[0.6666666666666666,\"rgb(171,217,233)\"],[0.7777777777777778,\"rgb(116,173,209)\"],[0.8888888888888888,\"rgb(69,117,180)\"],[1.0,\"rgb(49,54,149)\"]],\"locationmode\":\"country names\",\"locations\":[\"Finland\",\"Denmark\",\"Iceland\",\"Switzerland\",\"Netherlands\",\"Luxembourg*\",\"Sweden\",\"Norway\",\"Israel\",\"New Zealand\",\"Austria\",\"Australia\",\"Ireland\",\"Germany\",\"Canada\",\"United States\",\"United Kingdom\",\"Czechia\",\"Belgium\",\"France\",\"Bahrain\",\"Slovenia\",\"Costa Rica\",\"United Arab Emirates\",\"Saudi Arabia\",\"Taiwan Province of China\",\"Singapore\",\"Romania\",\"Spain\",\"Uruguay\",\"Italy\",\"Kosovo\",\"Malta\",\"Lithuania\",\"Slovakia\",\"Estonia\",\"Panama\",\"Brazil\",\"Guatemala*\",\"Kazakhstan\",\"Cyprus\",\"Latvia\",\"Serbia\",\"Chile\",\"Nicaragua\",\"Mexico\",\"Croatia\",\"Poland\",\"El Salvador\",\"Kuwait*\",\"Hungary\",\"Mauritius\",\"Uzbekistan\",\"Japan\",\"Honduras\",\"Portugal\",\"Argentina\",\"Greece\",\"South Korea\",\"Philippines\",\"Thailand\",\"Moldova\",\"Jamaica\",\"Kyrgyzstan\",\"Belarus*\",\"Colombia\",\"Bosnia and Herzegovina\",\"Mongolia\",\"Dominican Republic\",\"Malaysia\",\"Bolivia\",\"China\",\"Paraguay\",\"Peru\",\"Montenegro\",\"Ecuador\",\"Vietnam\",\"Turkmenistan*\",\"North Cyprus*\",\"Russia\",\"Hong Kong S.A.R. of China\",\"Armenia\",\"Tajikistan\",\"Nepal\",\"Bulgaria\",\"Libya*\",\"Indonesia\",\"Ivory Coast\",\"North Macedonia\",\"Albania\",\"South Africa\",\"Azerbaijan*\",\"Gambia*\",\"Bangladesh\",\"Laos\",\"Algeria\",\"Liberia*\",\"Ukraine\",\"Congo\",\"Morocco\",\"Mozambique\",\"Cameroon\",\"Senegal\",\"Niger*\",\"Georgia\",\"Gabon\",\"Iraq\",\"Venezuela\",\"Guinea\",\"Iran\",\"Ghana\",\"Turkey\",\"Burkina Faso\",\"Cambodia\",\"Benin\",\"Comoros*\",\"Uganda\",\"Nigeria\",\"Kenya\",\"Tunisia\",\"Pakistan\",\"Palestinian Territories*\",\"Mali\",\"Namibia\",\"Eswatini, Kingdom of*\",\"Myanmar\",\"Sri Lanka\",\"Madagascar*\",\"Egypt\",\"Chad*\",\"Ethiopia\",\"Yemen*\",\"Mauritania*\",\"Jordan\",\"Togo\",\"India\",\"Zambia\",\"Malawi\",\"Tanzania\",\"Sierra Leone\",\"Lesotho*\",\"Botswana*\",\"Rwanda*\",\"Zimbabwe\",\"Lebanon\",\"Afghanistan\"],\"reversescale\":false,\"text\":[\"Finland\",\"Denmark\",\"Iceland\",\"Switzerland\",\"Netherlands\",\"Luxembourg*\",\"Sweden\",\"Norway\",\"Israel\",\"New Zealand\",\"Austria\",\"Australia\",\"Ireland\",\"Germany\",\"Canada\",\"United States\",\"United Kingdom\",\"Czechia\",\"Belgium\",\"France\",\"Bahrain\",\"Slovenia\",\"Costa Rica\",\"United Arab Emirates\",\"Saudi Arabia\",\"Taiwan Province of China\",\"Singapore\",\"Romania\",\"Spain\",\"Uruguay\",\"Italy\",\"Kosovo\",\"Malta\",\"Lithuania\",\"Slovakia\",\"Estonia\",\"Panama\",\"Brazil\",\"Guatemala*\",\"Kazakhstan\",\"Cyprus\",\"Latvia\",\"Serbia\",\"Chile\",\"Nicaragua\",\"Mexico\",\"Croatia\",\"Poland\",\"El Salvador\",\"Kuwait*\",\"Hungary\",\"Mauritius\",\"Uzbekistan\",\"Japan\",\"Honduras\",\"Portugal\",\"Argentina\",\"Greece\",\"South Korea\",\"Philippines\",\"Thailand\",\"Moldova\",\"Jamaica\",\"Kyrgyzstan\",\"Belarus*\",\"Colombia\",\"Bosnia and Herzegovina\",\"Mongolia\",\"Dominican Republic\",\"Malaysia\",\"Bolivia\",\"China\",\"Paraguay\",\"Peru\",\"Montenegro\",\"Ecuador\",\"Vietnam\",\"Turkmenistan*\",\"North Cyprus*\",\"Russia\",\"Hong Kong S.A.R. of China\",\"Armenia\",\"Tajikistan\",\"Nepal\",\"Bulgaria\",\"Libya*\",\"Indonesia\",\"Ivory Coast\",\"North Macedonia\",\"Albania\",\"South Africa\",\"Azerbaijan*\",\"Gambia*\",\"Bangladesh\",\"Laos\",\"Algeria\",\"Liberia*\",\"Ukraine\",\"Congo\",\"Morocco\",\"Mozambique\",\"Cameroon\",\"Senegal\",\"Niger*\",\"Georgia\",\"Gabon\",\"Iraq\",\"Venezuela\",\"Guinea\",\"Iran\",\"Ghana\",\"Turkey\",\"Burkina Faso\",\"Cambodia\",\"Benin\",\"Comoros*\",\"Uganda\",\"Nigeria\",\"Kenya\",\"Tunisia\",\"Pakistan\",\"Palestinian Territories*\",\"Mali\",\"Namibia\",\"Eswatini, Kingdom of*\",\"Myanmar\",\"Sri Lanka\",\"Madagascar*\",\"Egypt\",\"Chad*\",\"Ethiopia\",\"Yemen*\",\"Mauritania*\",\"Jordan\",\"Togo\",\"India\",\"Zambia\",\"Malawi\",\"Tanzania\",\"Sierra Leone\",\"Lesotho*\",\"Botswana*\",\"Rwanda*\",\"Zimbabwe\",\"Lebanon\",\"Afghanistan\"],\"z\":[7.821000099182129,7.636000156402588,7.557000160217285,7.51200008392334,7.414999961853027,7.4039998054504395,7.383999824523926,7.364999771118164,7.363999843597412,7.199999809265137,7.163000106811523,7.1620001792907715,7.040999889373779,7.033999919891357,7.025000095367432,6.9770002365112305,6.942999839782715,6.920000076293945,6.804999828338623,6.686999797821045,6.646999835968018,6.630000114440918,6.581999778747559,6.576000213623047,6.5229997634887695,6.51200008392334,6.480000019073486,6.4770002365112305,6.47599983215332,6.473999977111816,6.4670000076293945,6.454999923706055,6.447000026702881,6.446000099182129,6.390999794006348,6.341000080108643,6.309000015258789,6.293000221252441,6.26200008392334,6.234000205993652,6.2210001945495605,6.179999828338623,6.177999973297119,6.171999931335449,6.164999961853027,6.127999782562256,6.125,6.123000144958496,6.119999885559082,6.105999946594238,6.085999965667725,6.071000099182129,6.063000202178955,6.039000034332275,6.021999835968018,6.015999794006348,5.9670000076293945,5.947999954223633,5.934999942779541,5.9039998054504395,5.890999794006348,5.85699987411499,5.849999904632568,5.828000068664551,5.821000099182129,5.781000137329102,5.76800012588501,5.761000156402588,5.736999988555908,5.710999965667725,5.599999904632568,5.585000038146973,5.578000068664551,5.559000015258789,5.546999931335449,5.5329999923706055,5.485000133514404,5.473999977111816,5.4670000076293945,5.459000110626221,5.425000190734863,5.39900016784668,5.376999855041504,5.376999855041504,5.370999813079834,5.329999923706055,5.239999771118164,5.235000133514404,5.198999881744385,5.198999881744385,5.193999767303467,5.172999858856201,5.164000034332275,5.15500020980835,5.139999866485596,5.122000217437744,5.122000217437744,5.084000110626221,5.074999809265137,5.059999942779541,5.047999858856201,5.047999858856201,5.046000003814697,5.002999782562256,4.9730000495910645,4.958000183105469,4.940999984741211,4.925000190734863,4.890999794006348,4.888000011444092,4.872000217437744,4.74399995803833,4.670000076293945,4.639999866485596,4.623000144958496,4.609000205993652,4.603000164031982,4.552000045776367,4.543000221252441,4.515999794006348,4.515999794006348,4.482999801635742,4.479000091552734,4.459000110626221,4.395999908447266,4.394000053405762,4.361999988555908,4.339000225067139,4.288000106811523,4.250999927520752,4.241000175476074,4.197000026702881,4.1529998779296875,4.1519999504089355,4.111999988555908,3.7769999504089355,3.759999990463257,3.75,3.7019999027252197,3.5739998817443848,3.51200008392334,3.4709999561309814,3.2679998874664307,2.994999885559082,2.9549999237060547,2.4040000438690186],\"type\":\"choropleth\"}],                        {\"geo\":{\"projection\":{\"type\":\"natural earth\"},\"showframe\":false},\"title\":{\"text\":\"Global Happiness of countries\"},\"template\":{\"data\":{\"barpolar\":[{\"marker\":{\"line\":{\"color\":\"#E5ECF6\",\"width\":0.5},\"pattern\":{\"fillmode\":\"overlay\",\"size\":10,\"solidity\":0.2}},\"type\":\"barpolar\"}],\"bar\":[{\"error_x\":{\"color\":\"#2a3f5f\"},\"error_y\":{\"color\":\"#2a3f5f\"},\"marker\":{\"line\":{\"color\":\"#E5ECF6\",\"width\":0.5},\"pattern\":{\"fillmode\":\"overlay\",\"size\":10,\"solidity\":0.2}},\"type\":\"bar\"}],\"carpet\":[{\"aaxis\":{\"endlinecolor\":\"#2a3f5f\",\"gridcolor\":\"white\",\"linecolor\":\"white\",\"minorgridcolor\":\"white\",\"startlinecolor\":\"#2a3f5f\"},\"baxis\":{\"endlinecolor\":\"#2a3f5f\",\"gridcolor\":\"white\",\"linecolor\":\"white\",\"minorgridcolor\":\"white\",\"startlinecolor\":\"#2a3f5f\"},\"type\":\"carpet\"}],\"choropleth\":[{\"colorbar\":{\"outlinewidth\":0,\"ticks\":\"\"},\"type\":\"choropleth\"}],\"contourcarpet\":[{\"colorbar\":{\"outlinewidth\":0,\"ticks\":\"\"},\"type\":\"contourcarpet\"}],\"contour\":[{\"colorbar\":{\"outlinewidth\":0,\"ticks\":\"\"},\"colorscale\":[[0.0,\"#0d0887\"],[0.1111111111111111,\"#46039f\"],[0.2222222222222222,\"#7201a8\"],[0.3333333333333333,\"#9c179e\"],[0.4444444444444444,\"#bd3786\"],[0.5555555555555556,\"#d8576b\"],[0.6666666666666666,\"#ed7953\"],[0.7777777777777778,\"#fb9f3a\"],[0.8888888888888888,\"#fdca26\"],[1.0,\"#f0f921\"]],\"type\":\"contour\"}],\"heatmapgl\":[{\"colorbar\":{\"outlinewidth\":0,\"ticks\":\"\"},\"colorscale\":[[0.0,\"#0d0887\"],[0.1111111111111111,\"#46039f\"],[0.2222222222222222,\"#7201a8\"],[0.3333333333333333,\"#9c179e\"],[0.4444444444444444,\"#bd3786\"],[0.5555555555555556,\"#d8576b\"],[0.6666666666666666,\"#ed7953\"],[0.7777777777777778,\"#fb9f3a\"],[0.8888888888888888,\"#fdca26\"],[1.0,\"#f0f921\"]],\"type\":\"heatmapgl\"}],\"heatmap\":[{\"colorbar\":{\"outlinewidth\":0,\"ticks\":\"\"},\"colorscale\":[[0.0,\"#0d0887\"],[0.1111111111111111,\"#46039f\"],[0.2222222222222222,\"#7201a8\"],[0.3333333333333333,\"#9c179e\"],[0.4444444444444444,\"#bd3786\"],[0.5555555555555556,\"#d8576b\"],[0.6666666666666666,\"#ed7953\"],[0.7777777777777778,\"#fb9f3a\"],[0.8888888888888888,\"#fdca26\"],[1.0,\"#f0f921\"]],\"type\":\"heatmap\"}],\"histogram2dcontour\":[{\"colorbar\":{\"outlinewidth\":0,\"ticks\":\"\"},\"colorscale\":[[0.0,\"#0d0887\"],[0.1111111111111111,\"#46039f\"],[0.2222222222222222,\"#7201a8\"],[0.3333333333333333,\"#9c179e\"],[0.4444444444444444,\"#bd3786\"],[0.5555555555555556,\"#d8576b\"],[0.6666666666666666,\"#ed7953\"],[0.7777777777777778,\"#fb9f3a\"],[0.8888888888888888,\"#fdca26\"],[1.0,\"#f0f921\"]],\"type\":\"histogram2dcontour\"}],\"histogram2d\":[{\"colorbar\":{\"outlinewidth\":0,\"ticks\":\"\"},\"colorscale\":[[0.0,\"#0d0887\"],[0.1111111111111111,\"#46039f\"],[0.2222222222222222,\"#7201a8\"],[0.3333333333333333,\"#9c179e\"],[0.4444444444444444,\"#bd3786\"],[0.5555555555555556,\"#d8576b\"],[0.6666666666666666,\"#ed7953\"],[0.7777777777777778,\"#fb9f3a\"],[0.8888888888888888,\"#fdca26\"],[1.0,\"#f0f921\"]],\"type\":\"histogram2d\"}],\"histogram\":[{\"marker\":{\"pattern\":{\"fillmode\":\"overlay\",\"size\":10,\"solidity\":0.2}},\"type\":\"histogram\"}],\"mesh3d\":[{\"colorbar\":{\"outlinewidth\":0,\"ticks\":\"\"},\"type\":\"mesh3d\"}],\"parcoords\":[{\"line\":{\"colorbar\":{\"outlinewidth\":0,\"ticks\":\"\"}},\"type\":\"parcoords\"}],\"pie\":[{\"automargin\":true,\"type\":\"pie\"}],\"scatter3d\":[{\"line\":{\"colorbar\":{\"outlinewidth\":0,\"ticks\":\"\"}},\"marker\":{\"colorbar\":{\"outlinewidth\":0,\"ticks\":\"\"}},\"type\":\"scatter3d\"}],\"scattercarpet\":[{\"marker\":{\"colorbar\":{\"outlinewidth\":0,\"ticks\":\"\"}},\"type\":\"scattercarpet\"}],\"scattergeo\":[{\"marker\":{\"colorbar\":{\"outlinewidth\":0,\"ticks\":\"\"}},\"type\":\"scattergeo\"}],\"scattergl\":[{\"marker\":{\"colorbar\":{\"outlinewidth\":0,\"ticks\":\"\"}},\"type\":\"scattergl\"}],\"scattermapbox\":[{\"marker\":{\"colorbar\":{\"outlinewidth\":0,\"ticks\":\"\"}},\"type\":\"scattermapbox\"}],\"scatterpolargl\":[{\"marker\":{\"colorbar\":{\"outlinewidth\":0,\"ticks\":\"\"}},\"type\":\"scatterpolargl\"}],\"scatterpolar\":[{\"marker\":{\"colorbar\":{\"outlinewidth\":0,\"ticks\":\"\"}},\"type\":\"scatterpolar\"}],\"scatter\":[{\"fillpattern\":{\"fillmode\":\"overlay\",\"size\":10,\"solidity\":0.2},\"type\":\"scatter\"}],\"scatterternary\":[{\"marker\":{\"colorbar\":{\"outlinewidth\":0,\"ticks\":\"\"}},\"type\":\"scatterternary\"}],\"surface\":[{\"colorbar\":{\"outlinewidth\":0,\"ticks\":\"\"},\"colorscale\":[[0.0,\"#0d0887\"],[0.1111111111111111,\"#46039f\"],[0.2222222222222222,\"#7201a8\"],[0.3333333333333333,\"#9c179e\"],[0.4444444444444444,\"#bd3786\"],[0.5555555555555556,\"#d8576b\"],[0.6666666666666666,\"#ed7953\"],[0.7777777777777778,\"#fb9f3a\"],[0.8888888888888888,\"#fdca26\"],[1.0,\"#f0f921\"]],\"type\":\"surface\"}],\"table\":[{\"cells\":{\"fill\":{\"color\":\"#EBF0F8\"},\"line\":{\"color\":\"white\"}},\"header\":{\"fill\":{\"color\":\"#C8D4E3\"},\"line\":{\"color\":\"white\"}},\"type\":\"table\"}]},\"layout\":{\"annotationdefaults\":{\"arrowcolor\":\"#2a3f5f\",\"arrowhead\":0,\"arrowwidth\":1},\"autotypenumbers\":\"strict\",\"coloraxis\":{\"colorbar\":{\"outlinewidth\":0,\"ticks\":\"\"}},\"colorscale\":{\"diverging\":[[0,\"#8e0152\"],[0.1,\"#c51b7d\"],[0.2,\"#de77ae\"],[0.3,\"#f1b6da\"],[0.4,\"#fde0ef\"],[0.5,\"#f7f7f7\"],[0.6,\"#e6f5d0\"],[0.7,\"#b8e186\"],[0.8,\"#7fbc41\"],[0.9,\"#4d9221\"],[1,\"#276419\"]],\"sequential\":[[0.0,\"#0d0887\"],[0.1111111111111111,\"#46039f\"],[0.2222222222222222,\"#7201a8\"],[0.3333333333333333,\"#9c179e\"],[0.4444444444444444,\"#bd3786\"],[0.5555555555555556,\"#d8576b\"],[0.6666666666666666,\"#ed7953\"],[0.7777777777777778,\"#fb9f3a\"],[0.8888888888888888,\"#fdca26\"],[1.0,\"#f0f921\"]],\"sequentialminus\":[[0.0,\"#0d0887\"],[0.1111111111111111,\"#46039f\"],[0.2222222222222222,\"#7201a8\"],[0.3333333333333333,\"#9c179e\"],[0.4444444444444444,\"#bd3786\"],[0.5555555555555556,\"#d8576b\"],[0.6666666666666666,\"#ed7953\"],[0.7777777777777778,\"#fb9f3a\"],[0.8888888888888888,\"#fdca26\"],[1.0,\"#f0f921\"]]},\"colorway\":[\"#636efa\",\"#EF553B\",\"#00cc96\",\"#ab63fa\",\"#FFA15A\",\"#19d3f3\",\"#FF6692\",\"#B6E880\",\"#FF97FF\",\"#FECB52\"],\"font\":{\"color\":\"#2a3f5f\"},\"geo\":{\"bgcolor\":\"white\",\"lakecolor\":\"white\",\"landcolor\":\"#E5ECF6\",\"showlakes\":true,\"showland\":true,\"subunitcolor\":\"white\"},\"hoverlabel\":{\"align\":\"left\"},\"hovermode\":\"closest\",\"mapbox\":{\"style\":\"light\"},\"paper_bgcolor\":\"rgba(0,0,0,0)\",\"plot_bgcolor\":\"rgba(0,0,0,0)\",\"polar\":{\"angularaxis\":{\"gridcolor\":\"white\",\"linecolor\":\"white\",\"ticks\":\"\"},\"bgcolor\":\"#E5ECF6\",\"radialaxis\":{\"gridcolor\":\"white\",\"linecolor\":\"white\",\"ticks\":\"\"}},\"scene\":{\"xaxis\":{\"backgroundcolor\":\"#E5ECF6\",\"gridcolor\":\"white\",\"gridwidth\":2,\"linecolor\":\"white\",\"showbackground\":true,\"ticks\":\"\",\"zerolinecolor\":\"white\"},\"yaxis\":{\"backgroundcolor\":\"#E5ECF6\",\"gridcolor\":\"white\",\"gridwidth\":2,\"linecolor\":\"white\",\"showbackground\":true,\"ticks\":\"\",\"zerolinecolor\":\"white\"},\"zaxis\":{\"backgroundcolor\":\"#E5ECF6\",\"gridcolor\":\"white\",\"gridwidth\":2,\"linecolor\":\"white\",\"showbackground\":true,\"ticks\":\"\",\"zerolinecolor\":\"white\"}},\"shapedefaults\":{\"line\":{\"color\":\"#2a3f5f\"}},\"ternary\":{\"aaxis\":{\"gridcolor\":\"white\",\"linecolor\":\"white\",\"ticks\":\"\"},\"baxis\":{\"gridcolor\":\"white\",\"linecolor\":\"white\",\"ticks\":\"\"},\"bgcolor\":\"#E5ECF6\",\"caxis\":{\"gridcolor\":\"white\",\"linecolor\":\"white\",\"ticks\":\"\"}},\"title\":{\"x\":0.05},\"xaxis\":{\"automargin\":true,\"gridcolor\":\"white\",\"linecolor\":\"white\",\"ticks\":\"\",\"title\":{\"standoff\":15},\"zerolinecolor\":\"white\",\"zerolinewidth\":2},\"yaxis\":{\"automargin\":true,\"gridcolor\":\"white\",\"linecolor\":\"white\",\"ticks\":\"\",\"title\":{\"standoff\":15},\"zerolinecolor\":\"white\",\"zerolinewidth\":2}}},\"margin\":{\"r\":0,\"t\":0,\"l\":0,\"b\":0},\"width\":1300,\"height\":650,\"autosize\":true,\"plot_bgcolor\":\"rgb(17,17,17)\",\"paper_bgcolor\":\"rgb(10,10,10)\"},                        {\"responsive\": true}                    ).then(function(){\n",
       "                            \n",
       "var gd = document.getElementById('3d25182e-3b39-41ae-aaca-0569c56346e3');\n",
       "var x = new MutationObserver(function (mutations, observer) {{\n",
       "        var display = window.getComputedStyle(gd).display;\n",
       "        if (!display || display === 'none') {{\n",
       "            console.log([gd, 'removed!']);\n",
       "            Plotly.purge(gd);\n",
       "            observer.disconnect();\n",
       "        }}\n",
       "}});\n",
       "\n",
       "// Listen for the removal of the full notebook cells\n",
       "var notebookContainer = gd.closest('#notebook-container');\n",
       "if (notebookContainer) {{\n",
       "    x.observe(notebookContainer, {childList: true});\n",
       "}}\n",
       "\n",
       "// Listen for the clearing of the current output cell\n",
       "var outputEl = gd.closest('.output');\n",
       "if (outputEl) {{\n",
       "    x.observe(outputEl, {childList: true});\n",
       "}}\n",
       "\n",
       "                        })                };                });            </script>        </div>"
      ]
     },
     "metadata": {},
     "output_type": "display_data"
    }
   ],
   "source": [
    "import plotly.graph_objects as go\n",
    "from plotly.offline import init_notebook_mode, iplot, plot\n",
    "init_notebook_mode(connected=True)\n",
    "\n",
    "# TODO: Figure out how to make the api map dark theme\n",
    "# TODO: Create widget that allows user to switch factors.\n",
    "\n",
    "import plotly.io as pio\n",
    "pio.templates['custom'] = go.layout.Template(\n",
    "    layout_paper_bgcolor='rgba(0,0,0,0)',\n",
    "    layout_plot_bgcolor='rgba(0,0,0,0)'\n",
    "    )\n",
    "pio.templates.default = 'plotly+custom'\n",
    "\n",
    "MY_COLORSCALE = [\n",
    "    [0.0, \"rgb(165,0,38)\"],\n",
    "    [0.1111111111111111, \"rgb(215,48,39)\"],\n",
    "    [0.2222222222222222, \"rgb(244,109,67)\"],\n",
    "    [0.3333333333333333, \"rgb(253,174,97)\"],\n",
    "    [0.4444444444444444, \"rgb(254,224,144)\"],\n",
    "    [0.5555555555555556, \"rgb(224,243,248)\"],\n",
    "    [0.6666666666666666, \"rgb(171,217,233)\"],\n",
    "    [0.7777777777777778, \"rgb(116,173,209)\"],\n",
    "    [0.8888888888888888, \"rgb(69,117,180)\"],\n",
    "    [1.0, \"rgb(49,54,149)\"]\n",
    "]\n",
    "\n",
    "data=dict(\n",
    "    type=\"choropleth\",\n",
    "    colorscale=MY_COLORSCALE,\n",
    "    reversescale=True,\n",
    "    locations=df['country'],\n",
    "    locationmode=\"country names\",\n",
    "    z=df[\"happiness_score\"],\n",
    "    text=df[\"country\"],\n",
    "    colorbar={'title':'Happiness scale'}\n",
    ")\n",
    "\n",
    "layout=dict(\n",
    "    title='Global Happiness of countries',\n",
    "    geo=dict(showframe=False,projection={'type':'natural earth'}),\n",
    ")\n",
    "\n",
    "fig=go.Figure(data=data,layout=layout)\n",
    "\n",
    "fig.update_layout(\n",
    "    width = 1300, height=650,\n",
    "    autosize=True,\n",
    "    margin = {\"r\":0,\"t\":0,\"l\":0,\"b\":0},\n",
    "    plot_bgcolor='rgb(17,17,17)',\n",
    "    paper_bgcolor ='rgb(10,10,10)'\n",
    ")\n",
    "\n",
    "fig.update_traces(reversescale=False)\n",
    "iplot(fig, validate=False)"
   ]
  },
  {
   "cell_type": "code",
   "execution_count": 21,
   "metadata": {},
   "outputs": [],
   "source": [
    "# Create Bokeh-Table with DataFrame:\n",
    "from bokeh.models.widgets import DataTable, TableColumn\n",
    "from bokeh.models import ColumnDataSource\n",
    "\n",
    "data_table = DataTable(\n",
    "    columns=[TableColumn(field=Ci, title=Ci) for Ci in df_i.columns],\n",
    "    source=ColumnDataSource(df_i),\n",
    "    height=300,width=50\n",
    ")\n",
    "\n",
    "# Combine Table and Scatterplot via grid layout:\n",
    "# pandas_bokeh.plot_grid([[data_table, p]], width=600, height=1700)\n"
   ]
  },
  {
   "attachments": {},
   "cell_type": "markdown",
   "metadata": {},
   "source": [
    "# Ideas from other contributers"
   ]
  },
  {
   "attachments": {},
   "cell_type": "markdown",
   "metadata": {},
   "source": [
    "## Notebook layout design & styling:\n",
    "https://www.kaggle.com/code/georgyzubkov/world-happy-exploratory-data-analysis-with-plotly#list-tab"
   ]
  },
  {
   "attachments": {},
   "cell_type": "markdown",
   "metadata": {},
   "source": [
    "## <h1 style='background:#FF69B4; border:2; border-radius: 10px; font-size:250%; font-weight: bold; color:black'><center>World happiness report 2022</center></h1>\n",
    "\n",
    "The Happy Planet Index (HPI) is an index of human well-being and environmental impact that was introduced by the New Economics Foundation in 2006. Each country's HPI value is a function of its average subjective life satisfaction, life expectancy at birth, and ecological footprint per capita. The exact function is a little more complex, but conceptually it approximates multiplying life satisfaction and life expectancy and dividing that by the ecological footprint. The index is weighted to give progressively higher scores to nations with lower ecological footprints.\n",
    "\n",
    "The index is designed to challenge well-established indices of countries’ development, such as the gross domestic product (GDP) and the Human Development Index (HDI), which are seen as not taking sustainability into account. In particular, GDP is seen as inappropriate, as the usual ultimate aim of most people is not to be rich, but to be happy and healthy. Furthermore, it is believed that the notion of sustainable development requires a measure of the environmental costs of pursuing those goals.\n",
    "\n",
    "Out of the 178 countries surveyed in 2006, the best scoring countries were Vanuatu, Colombia, Costa Rica, Dominica, and Panama. In 2009, Costa Rica was the best scoring country among the 143 analyzed, followed by the Dominican Republic, Jamaica, Guatemala and Vietnam. Tanzania, Botswana and Zimbabwe were featured at the bottom of the list.\n",
    "\n",
    "For the 2012 ranking, 151 countries were compared, and the best scoring country for the second time in a row was Costa Rica, followed by Vietnam, Colombia, Belize and El Salvador. The lowest ranking countries in 2012 were Botswana, Chad and Qatar. In 2016, out of 140 countries, Costa Rica topped the index for the third time in a row. It was followed by Mexico, Colombia, Vanuatu and Vietnam. At the bottom were Chad, Luxembourg and Togo.\n",
    "\n",
    "<a id='top'></a>\n",
    "<div class=\"list-group\" id=\"list-tab\" role=\"tablist\">\n",
    "\n",
    "<h1 style='background:#FF69B4; border:0; border-radius: 10px; color:black'><center> TABLE OF CONTENTS </center></h1>\n",
    "\n",
    "### [**1. IMPORTING LIBRARIES AND LOADING DATA**](#title-one)\n",
    "\n",
    "### [**2. DATA INFORMATION**](#title-two)\n",
    "\n",
    "### [**3. EXPLORATORY DATA ANALYSIS**](#title-three)\n",
    "\n",
    "### [**4. STATISTICAL TESTS**](#title-four) \n",
    "\n",
    "### [**5. MACHINE LEARNING**](#title-five)\n",
    "\n",
    "### [**6. RECOMENDATIONS**](#title-six)\n",
    "\n",
    "<a id=\"title-one\"></a>\n",
    "<h1 style='background:#FF69B4; border:2; border-radius: 10px; color:black'><center>IMPORTING LIBRARIES AND LOADING DATA</center></h1>"
   ]
  }
 ],
 "metadata": {
  "kernelspec": {
   "display_name": "Python 3",
   "language": "python",
   "name": "python3"
  },
  "language_info": {
   "codemirror_mode": {
    "name": "ipython",
    "version": 3
   },
   "file_extension": ".py",
   "mimetype": "text/x-python",
   "name": "python",
   "nbconvert_exporter": "python",
   "pygments_lexer": "ipython3",
   "version": "3.10.9"
  },
  "orig_nbformat": 4
 },
 "nbformat": 4,
 "nbformat_minor": 2
}
